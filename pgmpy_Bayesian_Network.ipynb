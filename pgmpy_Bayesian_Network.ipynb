{
  "nbformat": 4,
  "nbformat_minor": 0,
  "metadata": {
    "colab": {
      "provenance": [],
      "collapsed_sections": [
        "gf54HmAafCXF",
        "xg0QMlY739sU",
        "il8iKx1CcRco",
        "sMRiye7Sb2Qt",
        "FdeKmkpZb5nm",
        "GQewyRP7b8jU",
        "IbdYK0UHdwfa",
        "xBB794J3X7Kx",
        "AeAewFEL4Dcz",
        "QwqyKTp7b2X_",
        "VseXMLOQdSL4",
        "I1zEHWynvfv9",
        "uMYV5GXandrP"
      ]
    },
    "kernelspec": {
      "name": "python3",
      "display_name": "Python 3"
    },
    "widgets": {
      "application/vnd.jupyter.widget-state+json": {
        "c6a065fc26c042f99918693919e3d8d8": {
          "model_module": "@jupyter-widgets/controls",
          "model_name": "HBoxModel",
          "model_module_version": "1.5.0",
          "state": {
            "_view_name": "HBoxView",
            "_dom_classes": [],
            "_model_name": "HBoxModel",
            "_view_module": "@jupyter-widgets/controls",
            "_model_module_version": "1.5.0",
            "_view_count": null,
            "_view_module_version": "1.5.0",
            "box_style": "",
            "layout": "IPY_MODEL_f53c270e617a4f2184cfab392bf4b700",
            "_model_module": "@jupyter-widgets/controls",
            "children": [
              "IPY_MODEL_28851dcdaea84d7aad6bcf988edc8033",
              "IPY_MODEL_030addbccb8b45fbb68d151f97be4e44",
              "IPY_MODEL_5c5f545b6134474d9212492c5dc8b0f8"
            ]
          }
        },
        "f53c270e617a4f2184cfab392bf4b700": {
          "model_module": "@jupyter-widgets/base",
          "model_name": "LayoutModel",
          "model_module_version": "1.2.0",
          "state": {
            "_view_name": "LayoutView",
            "grid_template_rows": null,
            "right": null,
            "justify_content": null,
            "_view_module": "@jupyter-widgets/base",
            "overflow": null,
            "_model_module_version": "1.2.0",
            "_view_count": null,
            "flex_flow": null,
            "width": null,
            "min_width": null,
            "border": null,
            "align_items": null,
            "bottom": null,
            "_model_module": "@jupyter-widgets/base",
            "top": null,
            "grid_column": null,
            "overflow_y": null,
            "overflow_x": null,
            "grid_auto_flow": null,
            "grid_area": null,
            "grid_template_columns": null,
            "flex": null,
            "_model_name": "LayoutModel",
            "justify_items": null,
            "grid_row": null,
            "max_height": null,
            "align_content": null,
            "visibility": null,
            "align_self": null,
            "height": null,
            "min_height": null,
            "padding": null,
            "grid_auto_rows": null,
            "grid_gap": null,
            "max_width": null,
            "order": null,
            "_view_module_version": "1.2.0",
            "grid_template_areas": null,
            "object_position": null,
            "object_fit": null,
            "grid_auto_columns": null,
            "margin": null,
            "display": null,
            "left": null
          }
        },
        "28851dcdaea84d7aad6bcf988edc8033": {
          "model_module": "@jupyter-widgets/controls",
          "model_name": "HTMLModel",
          "model_module_version": "1.5.0",
          "state": {
            "_view_name": "HTMLView",
            "style": "IPY_MODEL_f75af025ee594680aaabd520ce496b1b",
            "_dom_classes": [],
            "description": "",
            "_model_name": "HTMLModel",
            "placeholder": "​",
            "_view_module": "@jupyter-widgets/controls",
            "_model_module_version": "1.5.0",
            "value": "Finding Elimination Order: : 100%",
            "_view_count": null,
            "_view_module_version": "1.5.0",
            "description_tooltip": null,
            "_model_module": "@jupyter-widgets/controls",
            "layout": "IPY_MODEL_476f3f240ea447faad66ac48d0e232a1"
          }
        },
        "030addbccb8b45fbb68d151f97be4e44": {
          "model_module": "@jupyter-widgets/controls",
          "model_name": "FloatProgressModel",
          "model_module_version": "1.5.0",
          "state": {
            "_view_name": "ProgressView",
            "style": "IPY_MODEL_06004fdff5f84cd299353bf1a4a48543",
            "_dom_classes": [],
            "description": "",
            "_model_name": "FloatProgressModel",
            "bar_style": "success",
            "max": 1,
            "_view_module": "@jupyter-widgets/controls",
            "_model_module_version": "1.5.0",
            "value": 1,
            "_view_count": null,
            "_view_module_version": "1.5.0",
            "orientation": "horizontal",
            "min": 0,
            "description_tooltip": null,
            "_model_module": "@jupyter-widgets/controls",
            "layout": "IPY_MODEL_a5a53e82ff7d45bf9986c343d0860496"
          }
        },
        "5c5f545b6134474d9212492c5dc8b0f8": {
          "model_module": "@jupyter-widgets/controls",
          "model_name": "HTMLModel",
          "model_module_version": "1.5.0",
          "state": {
            "_view_name": "HTMLView",
            "style": "IPY_MODEL_86e062659cf3435eb38a08eabc932a78",
            "_dom_classes": [],
            "description": "",
            "_model_name": "HTMLModel",
            "placeholder": "​",
            "_view_module": "@jupyter-widgets/controls",
            "_model_module_version": "1.5.0",
            "value": " 1/1 [00:00&lt;00:00,  6.87it/s]",
            "_view_count": null,
            "_view_module_version": "1.5.0",
            "description_tooltip": null,
            "_model_module": "@jupyter-widgets/controls",
            "layout": "IPY_MODEL_16d40ffaf4dd44879503ae8f21c62dfe"
          }
        },
        "f75af025ee594680aaabd520ce496b1b": {
          "model_module": "@jupyter-widgets/controls",
          "model_name": "DescriptionStyleModel",
          "model_module_version": "1.5.0",
          "state": {
            "_view_name": "StyleView",
            "_model_name": "DescriptionStyleModel",
            "description_width": "",
            "_view_module": "@jupyter-widgets/base",
            "_model_module_version": "1.5.0",
            "_view_count": null,
            "_view_module_version": "1.2.0",
            "_model_module": "@jupyter-widgets/controls"
          }
        },
        "476f3f240ea447faad66ac48d0e232a1": {
          "model_module": "@jupyter-widgets/base",
          "model_name": "LayoutModel",
          "model_module_version": "1.2.0",
          "state": {
            "_view_name": "LayoutView",
            "grid_template_rows": null,
            "right": null,
            "justify_content": null,
            "_view_module": "@jupyter-widgets/base",
            "overflow": null,
            "_model_module_version": "1.2.0",
            "_view_count": null,
            "flex_flow": null,
            "width": null,
            "min_width": null,
            "border": null,
            "align_items": null,
            "bottom": null,
            "_model_module": "@jupyter-widgets/base",
            "top": null,
            "grid_column": null,
            "overflow_y": null,
            "overflow_x": null,
            "grid_auto_flow": null,
            "grid_area": null,
            "grid_template_columns": null,
            "flex": null,
            "_model_name": "LayoutModel",
            "justify_items": null,
            "grid_row": null,
            "max_height": null,
            "align_content": null,
            "visibility": null,
            "align_self": null,
            "height": null,
            "min_height": null,
            "padding": null,
            "grid_auto_rows": null,
            "grid_gap": null,
            "max_width": null,
            "order": null,
            "_view_module_version": "1.2.0",
            "grid_template_areas": null,
            "object_position": null,
            "object_fit": null,
            "grid_auto_columns": null,
            "margin": null,
            "display": null,
            "left": null
          }
        },
        "06004fdff5f84cd299353bf1a4a48543": {
          "model_module": "@jupyter-widgets/controls",
          "model_name": "ProgressStyleModel",
          "model_module_version": "1.5.0",
          "state": {
            "_view_name": "StyleView",
            "_model_name": "ProgressStyleModel",
            "description_width": "",
            "_view_module": "@jupyter-widgets/base",
            "_model_module_version": "1.5.0",
            "_view_count": null,
            "_view_module_version": "1.2.0",
            "bar_color": null,
            "_model_module": "@jupyter-widgets/controls"
          }
        },
        "a5a53e82ff7d45bf9986c343d0860496": {
          "model_module": "@jupyter-widgets/base",
          "model_name": "LayoutModel",
          "model_module_version": "1.2.0",
          "state": {
            "_view_name": "LayoutView",
            "grid_template_rows": null,
            "right": null,
            "justify_content": null,
            "_view_module": "@jupyter-widgets/base",
            "overflow": null,
            "_model_module_version": "1.2.0",
            "_view_count": null,
            "flex_flow": null,
            "width": null,
            "min_width": null,
            "border": null,
            "align_items": null,
            "bottom": null,
            "_model_module": "@jupyter-widgets/base",
            "top": null,
            "grid_column": null,
            "overflow_y": null,
            "overflow_x": null,
            "grid_auto_flow": null,
            "grid_area": null,
            "grid_template_columns": null,
            "flex": null,
            "_model_name": "LayoutModel",
            "justify_items": null,
            "grid_row": null,
            "max_height": null,
            "align_content": null,
            "visibility": null,
            "align_self": null,
            "height": null,
            "min_height": null,
            "padding": null,
            "grid_auto_rows": null,
            "grid_gap": null,
            "max_width": null,
            "order": null,
            "_view_module_version": "1.2.0",
            "grid_template_areas": null,
            "object_position": null,
            "object_fit": null,
            "grid_auto_columns": null,
            "margin": null,
            "display": null,
            "left": null
          }
        },
        "86e062659cf3435eb38a08eabc932a78": {
          "model_module": "@jupyter-widgets/controls",
          "model_name": "DescriptionStyleModel",
          "model_module_version": "1.5.0",
          "state": {
            "_view_name": "StyleView",
            "_model_name": "DescriptionStyleModel",
            "description_width": "",
            "_view_module": "@jupyter-widgets/base",
            "_model_module_version": "1.5.0",
            "_view_count": null,
            "_view_module_version": "1.2.0",
            "_model_module": "@jupyter-widgets/controls"
          }
        },
        "16d40ffaf4dd44879503ae8f21c62dfe": {
          "model_module": "@jupyter-widgets/base",
          "model_name": "LayoutModel",
          "model_module_version": "1.2.0",
          "state": {
            "_view_name": "LayoutView",
            "grid_template_rows": null,
            "right": null,
            "justify_content": null,
            "_view_module": "@jupyter-widgets/base",
            "overflow": null,
            "_model_module_version": "1.2.0",
            "_view_count": null,
            "flex_flow": null,
            "width": null,
            "min_width": null,
            "border": null,
            "align_items": null,
            "bottom": null,
            "_model_module": "@jupyter-widgets/base",
            "top": null,
            "grid_column": null,
            "overflow_y": null,
            "overflow_x": null,
            "grid_auto_flow": null,
            "grid_area": null,
            "grid_template_columns": null,
            "flex": null,
            "_model_name": "LayoutModel",
            "justify_items": null,
            "grid_row": null,
            "max_height": null,
            "align_content": null,
            "visibility": null,
            "align_self": null,
            "height": null,
            "min_height": null,
            "padding": null,
            "grid_auto_rows": null,
            "grid_gap": null,
            "max_width": null,
            "order": null,
            "_view_module_version": "1.2.0",
            "grid_template_areas": null,
            "object_position": null,
            "object_fit": null,
            "grid_auto_columns": null,
            "margin": null,
            "display": null,
            "left": null
          }
        },
        "7e2e1996e1d14de58262364435a1713b": {
          "model_module": "@jupyter-widgets/controls",
          "model_name": "HBoxModel",
          "model_module_version": "1.5.0",
          "state": {
            "_view_name": "HBoxView",
            "_dom_classes": [],
            "_model_name": "HBoxModel",
            "_view_module": "@jupyter-widgets/controls",
            "_model_module_version": "1.5.0",
            "_view_count": null,
            "_view_module_version": "1.5.0",
            "box_style": "",
            "layout": "IPY_MODEL_da56341c1052415886c129658ff51366",
            "_model_module": "@jupyter-widgets/controls",
            "children": [
              "IPY_MODEL_a6cff23f6d064b9b834e53ba321c5e62",
              "IPY_MODEL_e41b264b7cb94b9b9ca72e438e07edd3",
              "IPY_MODEL_89ea5f797de2441e9443364a9a6faec9"
            ]
          }
        },
        "da56341c1052415886c129658ff51366": {
          "model_module": "@jupyter-widgets/base",
          "model_name": "LayoutModel",
          "model_module_version": "1.2.0",
          "state": {
            "_view_name": "LayoutView",
            "grid_template_rows": null,
            "right": null,
            "justify_content": null,
            "_view_module": "@jupyter-widgets/base",
            "overflow": null,
            "_model_module_version": "1.2.0",
            "_view_count": null,
            "flex_flow": null,
            "width": null,
            "min_width": null,
            "border": null,
            "align_items": null,
            "bottom": null,
            "_model_module": "@jupyter-widgets/base",
            "top": null,
            "grid_column": null,
            "overflow_y": null,
            "overflow_x": null,
            "grid_auto_flow": null,
            "grid_area": null,
            "grid_template_columns": null,
            "flex": null,
            "_model_name": "LayoutModel",
            "justify_items": null,
            "grid_row": null,
            "max_height": null,
            "align_content": null,
            "visibility": null,
            "align_self": null,
            "height": null,
            "min_height": null,
            "padding": null,
            "grid_auto_rows": null,
            "grid_gap": null,
            "max_width": null,
            "order": null,
            "_view_module_version": "1.2.0",
            "grid_template_areas": null,
            "object_position": null,
            "object_fit": null,
            "grid_auto_columns": null,
            "margin": null,
            "display": null,
            "left": null
          }
        },
        "a6cff23f6d064b9b834e53ba321c5e62": {
          "model_module": "@jupyter-widgets/controls",
          "model_name": "HTMLModel",
          "model_module_version": "1.5.0",
          "state": {
            "_view_name": "HTMLView",
            "style": "IPY_MODEL_53a052a2d7a6481aa9fc338b796a2a05",
            "_dom_classes": [],
            "description": "",
            "_model_name": "HTMLModel",
            "placeholder": "​",
            "_view_module": "@jupyter-widgets/controls",
            "_model_module_version": "1.5.0",
            "value": "Eliminating: A: 100%",
            "_view_count": null,
            "_view_module_version": "1.5.0",
            "description_tooltip": null,
            "_model_module": "@jupyter-widgets/controls",
            "layout": "IPY_MODEL_c60b16ff3cca406786839c7667c15b81"
          }
        },
        "e41b264b7cb94b9b9ca72e438e07edd3": {
          "model_module": "@jupyter-widgets/controls",
          "model_name": "FloatProgressModel",
          "model_module_version": "1.5.0",
          "state": {
            "_view_name": "ProgressView",
            "style": "IPY_MODEL_bcacd5714f2045a3ac82efdeb9aaa317",
            "_dom_classes": [],
            "description": "",
            "_model_name": "FloatProgressModel",
            "bar_style": "success",
            "max": 1,
            "_view_module": "@jupyter-widgets/controls",
            "_model_module_version": "1.5.0",
            "value": 1,
            "_view_count": null,
            "_view_module_version": "1.5.0",
            "orientation": "horizontal",
            "min": 0,
            "description_tooltip": null,
            "_model_module": "@jupyter-widgets/controls",
            "layout": "IPY_MODEL_daab6d1fd1164e74ab9637a730a8da59"
          }
        },
        "89ea5f797de2441e9443364a9a6faec9": {
          "model_module": "@jupyter-widgets/controls",
          "model_name": "HTMLModel",
          "model_module_version": "1.5.0",
          "state": {
            "_view_name": "HTMLView",
            "style": "IPY_MODEL_c514a4501b764d79b309599e24c80776",
            "_dom_classes": [],
            "description": "",
            "_model_name": "HTMLModel",
            "placeholder": "​",
            "_view_module": "@jupyter-widgets/controls",
            "_model_module_version": "1.5.0",
            "value": " 1/1 [00:00&lt;00:00, 14.90it/s]",
            "_view_count": null,
            "_view_module_version": "1.5.0",
            "description_tooltip": null,
            "_model_module": "@jupyter-widgets/controls",
            "layout": "IPY_MODEL_6f0b0d550d1a4d03ac39c8111c29f4f3"
          }
        },
        "53a052a2d7a6481aa9fc338b796a2a05": {
          "model_module": "@jupyter-widgets/controls",
          "model_name": "DescriptionStyleModel",
          "model_module_version": "1.5.0",
          "state": {
            "_view_name": "StyleView",
            "_model_name": "DescriptionStyleModel",
            "description_width": "",
            "_view_module": "@jupyter-widgets/base",
            "_model_module_version": "1.5.0",
            "_view_count": null,
            "_view_module_version": "1.2.0",
            "_model_module": "@jupyter-widgets/controls"
          }
        },
        "c60b16ff3cca406786839c7667c15b81": {
          "model_module": "@jupyter-widgets/base",
          "model_name": "LayoutModel",
          "model_module_version": "1.2.0",
          "state": {
            "_view_name": "LayoutView",
            "grid_template_rows": null,
            "right": null,
            "justify_content": null,
            "_view_module": "@jupyter-widgets/base",
            "overflow": null,
            "_model_module_version": "1.2.0",
            "_view_count": null,
            "flex_flow": null,
            "width": null,
            "min_width": null,
            "border": null,
            "align_items": null,
            "bottom": null,
            "_model_module": "@jupyter-widgets/base",
            "top": null,
            "grid_column": null,
            "overflow_y": null,
            "overflow_x": null,
            "grid_auto_flow": null,
            "grid_area": null,
            "grid_template_columns": null,
            "flex": null,
            "_model_name": "LayoutModel",
            "justify_items": null,
            "grid_row": null,
            "max_height": null,
            "align_content": null,
            "visibility": null,
            "align_self": null,
            "height": null,
            "min_height": null,
            "padding": null,
            "grid_auto_rows": null,
            "grid_gap": null,
            "max_width": null,
            "order": null,
            "_view_module_version": "1.2.0",
            "grid_template_areas": null,
            "object_position": null,
            "object_fit": null,
            "grid_auto_columns": null,
            "margin": null,
            "display": null,
            "left": null
          }
        },
        "bcacd5714f2045a3ac82efdeb9aaa317": {
          "model_module": "@jupyter-widgets/controls",
          "model_name": "ProgressStyleModel",
          "model_module_version": "1.5.0",
          "state": {
            "_view_name": "StyleView",
            "_model_name": "ProgressStyleModel",
            "description_width": "",
            "_view_module": "@jupyter-widgets/base",
            "_model_module_version": "1.5.0",
            "_view_count": null,
            "_view_module_version": "1.2.0",
            "bar_color": null,
            "_model_module": "@jupyter-widgets/controls"
          }
        },
        "daab6d1fd1164e74ab9637a730a8da59": {
          "model_module": "@jupyter-widgets/base",
          "model_name": "LayoutModel",
          "model_module_version": "1.2.0",
          "state": {
            "_view_name": "LayoutView",
            "grid_template_rows": null,
            "right": null,
            "justify_content": null,
            "_view_module": "@jupyter-widgets/base",
            "overflow": null,
            "_model_module_version": "1.2.0",
            "_view_count": null,
            "flex_flow": null,
            "width": null,
            "min_width": null,
            "border": null,
            "align_items": null,
            "bottom": null,
            "_model_module": "@jupyter-widgets/base",
            "top": null,
            "grid_column": null,
            "overflow_y": null,
            "overflow_x": null,
            "grid_auto_flow": null,
            "grid_area": null,
            "grid_template_columns": null,
            "flex": null,
            "_model_name": "LayoutModel",
            "justify_items": null,
            "grid_row": null,
            "max_height": null,
            "align_content": null,
            "visibility": null,
            "align_self": null,
            "height": null,
            "min_height": null,
            "padding": null,
            "grid_auto_rows": null,
            "grid_gap": null,
            "max_width": null,
            "order": null,
            "_view_module_version": "1.2.0",
            "grid_template_areas": null,
            "object_position": null,
            "object_fit": null,
            "grid_auto_columns": null,
            "margin": null,
            "display": null,
            "left": null
          }
        },
        "c514a4501b764d79b309599e24c80776": {
          "model_module": "@jupyter-widgets/controls",
          "model_name": "DescriptionStyleModel",
          "model_module_version": "1.5.0",
          "state": {
            "_view_name": "StyleView",
            "_model_name": "DescriptionStyleModel",
            "description_width": "",
            "_view_module": "@jupyter-widgets/base",
            "_model_module_version": "1.5.0",
            "_view_count": null,
            "_view_module_version": "1.2.0",
            "_model_module": "@jupyter-widgets/controls"
          }
        },
        "6f0b0d550d1a4d03ac39c8111c29f4f3": {
          "model_module": "@jupyter-widgets/base",
          "model_name": "LayoutModel",
          "model_module_version": "1.2.0",
          "state": {
            "_view_name": "LayoutView",
            "grid_template_rows": null,
            "right": null,
            "justify_content": null,
            "_view_module": "@jupyter-widgets/base",
            "overflow": null,
            "_model_module_version": "1.2.0",
            "_view_count": null,
            "flex_flow": null,
            "width": null,
            "min_width": null,
            "border": null,
            "align_items": null,
            "bottom": null,
            "_model_module": "@jupyter-widgets/base",
            "top": null,
            "grid_column": null,
            "overflow_y": null,
            "overflow_x": null,
            "grid_auto_flow": null,
            "grid_area": null,
            "grid_template_columns": null,
            "flex": null,
            "_model_name": "LayoutModel",
            "justify_items": null,
            "grid_row": null,
            "max_height": null,
            "align_content": null,
            "visibility": null,
            "align_self": null,
            "height": null,
            "min_height": null,
            "padding": null,
            "grid_auto_rows": null,
            "grid_gap": null,
            "max_width": null,
            "order": null,
            "_view_module_version": "1.2.0",
            "grid_template_areas": null,
            "object_position": null,
            "object_fit": null,
            "grid_auto_columns": null,
            "margin": null,
            "display": null,
            "left": null
          }
        },
        "074f80ecb75f499b87772c6b191dbb90": {
          "model_module": "@jupyter-widgets/controls",
          "model_name": "HBoxModel",
          "model_module_version": "1.5.0",
          "state": {
            "_view_name": "HBoxView",
            "_dom_classes": [],
            "_model_name": "HBoxModel",
            "_view_module": "@jupyter-widgets/controls",
            "_model_module_version": "1.5.0",
            "_view_count": null,
            "_view_module_version": "1.5.0",
            "box_style": "",
            "layout": "IPY_MODEL_5874c4189348470fb1467e03250f8207",
            "_model_module": "@jupyter-widgets/controls",
            "children": [
              "IPY_MODEL_02687f2a811a4a11a2dd159a3c49d6a6",
              "IPY_MODEL_5c782bf1d7294b4e99bad52dc50f78bc",
              "IPY_MODEL_81ba4a3cd8514db78d848efece805401"
            ]
          }
        },
        "5874c4189348470fb1467e03250f8207": {
          "model_module": "@jupyter-widgets/base",
          "model_name": "LayoutModel",
          "model_module_version": "1.2.0",
          "state": {
            "_view_name": "LayoutView",
            "grid_template_rows": null,
            "right": null,
            "justify_content": null,
            "_view_module": "@jupyter-widgets/base",
            "overflow": null,
            "_model_module_version": "1.2.0",
            "_view_count": null,
            "flex_flow": null,
            "width": null,
            "min_width": null,
            "border": null,
            "align_items": null,
            "bottom": null,
            "_model_module": "@jupyter-widgets/base",
            "top": null,
            "grid_column": null,
            "overflow_y": null,
            "overflow_x": null,
            "grid_auto_flow": null,
            "grid_area": null,
            "grid_template_columns": null,
            "flex": null,
            "_model_name": "LayoutModel",
            "justify_items": null,
            "grid_row": null,
            "max_height": null,
            "align_content": null,
            "visibility": null,
            "align_self": null,
            "height": null,
            "min_height": null,
            "padding": null,
            "grid_auto_rows": null,
            "grid_gap": null,
            "max_width": null,
            "order": null,
            "_view_module_version": "1.2.0",
            "grid_template_areas": null,
            "object_position": null,
            "object_fit": null,
            "grid_auto_columns": null,
            "margin": null,
            "display": null,
            "left": null
          }
        },
        "02687f2a811a4a11a2dd159a3c49d6a6": {
          "model_module": "@jupyter-widgets/controls",
          "model_name": "HTMLModel",
          "model_module_version": "1.5.0",
          "state": {
            "_view_name": "HTMLView",
            "style": "IPY_MODEL_a8878459a2c54df79a9ad520a6eaec55",
            "_dom_classes": [],
            "description": "",
            "_model_name": "HTMLModel",
            "placeholder": "​",
            "_view_module": "@jupyter-widgets/controls",
            "_model_module_version": "1.5.0",
            "value": "Finding Elimination Order: : 100%",
            "_view_count": null,
            "_view_module_version": "1.5.0",
            "description_tooltip": null,
            "_model_module": "@jupyter-widgets/controls",
            "layout": "IPY_MODEL_b523c5e72b0d444e8ee23707fb6b45b7"
          }
        },
        "5c782bf1d7294b4e99bad52dc50f78bc": {
          "model_module": "@jupyter-widgets/controls",
          "model_name": "FloatProgressModel",
          "model_module_version": "1.5.0",
          "state": {
            "_view_name": "ProgressView",
            "style": "IPY_MODEL_523d4167a44e440782aaa6565369ffcf",
            "_dom_classes": [],
            "description": "",
            "_model_name": "FloatProgressModel",
            "bar_style": "success",
            "max": 1,
            "_view_module": "@jupyter-widgets/controls",
            "_model_module_version": "1.5.0",
            "value": 1,
            "_view_count": null,
            "_view_module_version": "1.5.0",
            "orientation": "horizontal",
            "min": 0,
            "description_tooltip": null,
            "_model_module": "@jupyter-widgets/controls",
            "layout": "IPY_MODEL_155c184ee6a04b8e8c46714eaa6899e2"
          }
        },
        "81ba4a3cd8514db78d848efece805401": {
          "model_module": "@jupyter-widgets/controls",
          "model_name": "HTMLModel",
          "model_module_version": "1.5.0",
          "state": {
            "_view_name": "HTMLView",
            "style": "IPY_MODEL_b99b52f2c7b54383a602af1bd6bbec01",
            "_dom_classes": [],
            "description": "",
            "_model_name": "HTMLModel",
            "placeholder": "​",
            "_view_module": "@jupyter-widgets/controls",
            "_model_module_version": "1.5.0",
            "value": " 1/1 [00:00&lt;00:00,  6.31it/s]",
            "_view_count": null,
            "_view_module_version": "1.5.0",
            "description_tooltip": null,
            "_model_module": "@jupyter-widgets/controls",
            "layout": "IPY_MODEL_9fb727aa6abe41eea3f1895c448e122f"
          }
        },
        "a8878459a2c54df79a9ad520a6eaec55": {
          "model_module": "@jupyter-widgets/controls",
          "model_name": "DescriptionStyleModel",
          "model_module_version": "1.5.0",
          "state": {
            "_view_name": "StyleView",
            "_model_name": "DescriptionStyleModel",
            "description_width": "",
            "_view_module": "@jupyter-widgets/base",
            "_model_module_version": "1.5.0",
            "_view_count": null,
            "_view_module_version": "1.2.0",
            "_model_module": "@jupyter-widgets/controls"
          }
        },
        "b523c5e72b0d444e8ee23707fb6b45b7": {
          "model_module": "@jupyter-widgets/base",
          "model_name": "LayoutModel",
          "model_module_version": "1.2.0",
          "state": {
            "_view_name": "LayoutView",
            "grid_template_rows": null,
            "right": null,
            "justify_content": null,
            "_view_module": "@jupyter-widgets/base",
            "overflow": null,
            "_model_module_version": "1.2.0",
            "_view_count": null,
            "flex_flow": null,
            "width": null,
            "min_width": null,
            "border": null,
            "align_items": null,
            "bottom": null,
            "_model_module": "@jupyter-widgets/base",
            "top": null,
            "grid_column": null,
            "overflow_y": null,
            "overflow_x": null,
            "grid_auto_flow": null,
            "grid_area": null,
            "grid_template_columns": null,
            "flex": null,
            "_model_name": "LayoutModel",
            "justify_items": null,
            "grid_row": null,
            "max_height": null,
            "align_content": null,
            "visibility": null,
            "align_self": null,
            "height": null,
            "min_height": null,
            "padding": null,
            "grid_auto_rows": null,
            "grid_gap": null,
            "max_width": null,
            "order": null,
            "_view_module_version": "1.2.0",
            "grid_template_areas": null,
            "object_position": null,
            "object_fit": null,
            "grid_auto_columns": null,
            "margin": null,
            "display": null,
            "left": null
          }
        },
        "523d4167a44e440782aaa6565369ffcf": {
          "model_module": "@jupyter-widgets/controls",
          "model_name": "ProgressStyleModel",
          "model_module_version": "1.5.0",
          "state": {
            "_view_name": "StyleView",
            "_model_name": "ProgressStyleModel",
            "description_width": "",
            "_view_module": "@jupyter-widgets/base",
            "_model_module_version": "1.5.0",
            "_view_count": null,
            "_view_module_version": "1.2.0",
            "bar_color": null,
            "_model_module": "@jupyter-widgets/controls"
          }
        },
        "155c184ee6a04b8e8c46714eaa6899e2": {
          "model_module": "@jupyter-widgets/base",
          "model_name": "LayoutModel",
          "model_module_version": "1.2.0",
          "state": {
            "_view_name": "LayoutView",
            "grid_template_rows": null,
            "right": null,
            "justify_content": null,
            "_view_module": "@jupyter-widgets/base",
            "overflow": null,
            "_model_module_version": "1.2.0",
            "_view_count": null,
            "flex_flow": null,
            "width": null,
            "min_width": null,
            "border": null,
            "align_items": null,
            "bottom": null,
            "_model_module": "@jupyter-widgets/base",
            "top": null,
            "grid_column": null,
            "overflow_y": null,
            "overflow_x": null,
            "grid_auto_flow": null,
            "grid_area": null,
            "grid_template_columns": null,
            "flex": null,
            "_model_name": "LayoutModel",
            "justify_items": null,
            "grid_row": null,
            "max_height": null,
            "align_content": null,
            "visibility": null,
            "align_self": null,
            "height": null,
            "min_height": null,
            "padding": null,
            "grid_auto_rows": null,
            "grid_gap": null,
            "max_width": null,
            "order": null,
            "_view_module_version": "1.2.0",
            "grid_template_areas": null,
            "object_position": null,
            "object_fit": null,
            "grid_auto_columns": null,
            "margin": null,
            "display": null,
            "left": null
          }
        },
        "b99b52f2c7b54383a602af1bd6bbec01": {
          "model_module": "@jupyter-widgets/controls",
          "model_name": "DescriptionStyleModel",
          "model_module_version": "1.5.0",
          "state": {
            "_view_name": "StyleView",
            "_model_name": "DescriptionStyleModel",
            "description_width": "",
            "_view_module": "@jupyter-widgets/base",
            "_model_module_version": "1.5.0",
            "_view_count": null,
            "_view_module_version": "1.2.0",
            "_model_module": "@jupyter-widgets/controls"
          }
        },
        "9fb727aa6abe41eea3f1895c448e122f": {
          "model_module": "@jupyter-widgets/base",
          "model_name": "LayoutModel",
          "model_module_version": "1.2.0",
          "state": {
            "_view_name": "LayoutView",
            "grid_template_rows": null,
            "right": null,
            "justify_content": null,
            "_view_module": "@jupyter-widgets/base",
            "overflow": null,
            "_model_module_version": "1.2.0",
            "_view_count": null,
            "flex_flow": null,
            "width": null,
            "min_width": null,
            "border": null,
            "align_items": null,
            "bottom": null,
            "_model_module": "@jupyter-widgets/base",
            "top": null,
            "grid_column": null,
            "overflow_y": null,
            "overflow_x": null,
            "grid_auto_flow": null,
            "grid_area": null,
            "grid_template_columns": null,
            "flex": null,
            "_model_name": "LayoutModel",
            "justify_items": null,
            "grid_row": null,
            "max_height": null,
            "align_content": null,
            "visibility": null,
            "align_self": null,
            "height": null,
            "min_height": null,
            "padding": null,
            "grid_auto_rows": null,
            "grid_gap": null,
            "max_width": null,
            "order": null,
            "_view_module_version": "1.2.0",
            "grid_template_areas": null,
            "object_position": null,
            "object_fit": null,
            "grid_auto_columns": null,
            "margin": null,
            "display": null,
            "left": null
          }
        },
        "386c31f225284e5abd4e3b23021abb19": {
          "model_module": "@jupyter-widgets/controls",
          "model_name": "HBoxModel",
          "model_module_version": "1.5.0",
          "state": {
            "_view_name": "HBoxView",
            "_dom_classes": [],
            "_model_name": "HBoxModel",
            "_view_module": "@jupyter-widgets/controls",
            "_model_module_version": "1.5.0",
            "_view_count": null,
            "_view_module_version": "1.5.0",
            "box_style": "",
            "layout": "IPY_MODEL_817d591248954072a1e29ccfaf78d06a",
            "_model_module": "@jupyter-widgets/controls",
            "children": [
              "IPY_MODEL_9e215393d9d5493f893cc4f558c4366b",
              "IPY_MODEL_cd4879279bec40eca1f0d51812697187",
              "IPY_MODEL_cc478fb36a9348a5be32cad2284c69ad"
            ]
          }
        },
        "817d591248954072a1e29ccfaf78d06a": {
          "model_module": "@jupyter-widgets/base",
          "model_name": "LayoutModel",
          "model_module_version": "1.2.0",
          "state": {
            "_view_name": "LayoutView",
            "grid_template_rows": null,
            "right": null,
            "justify_content": null,
            "_view_module": "@jupyter-widgets/base",
            "overflow": null,
            "_model_module_version": "1.2.0",
            "_view_count": null,
            "flex_flow": null,
            "width": null,
            "min_width": null,
            "border": null,
            "align_items": null,
            "bottom": null,
            "_model_module": "@jupyter-widgets/base",
            "top": null,
            "grid_column": null,
            "overflow_y": null,
            "overflow_x": null,
            "grid_auto_flow": null,
            "grid_area": null,
            "grid_template_columns": null,
            "flex": null,
            "_model_name": "LayoutModel",
            "justify_items": null,
            "grid_row": null,
            "max_height": null,
            "align_content": null,
            "visibility": null,
            "align_self": null,
            "height": null,
            "min_height": null,
            "padding": null,
            "grid_auto_rows": null,
            "grid_gap": null,
            "max_width": null,
            "order": null,
            "_view_module_version": "1.2.0",
            "grid_template_areas": null,
            "object_position": null,
            "object_fit": null,
            "grid_auto_columns": null,
            "margin": null,
            "display": null,
            "left": null
          }
        },
        "9e215393d9d5493f893cc4f558c4366b": {
          "model_module": "@jupyter-widgets/controls",
          "model_name": "HTMLModel",
          "model_module_version": "1.5.0",
          "state": {
            "_view_name": "HTMLView",
            "style": "IPY_MODEL_06d957d81a5a4468a984606240f4c831",
            "_dom_classes": [],
            "description": "",
            "_model_name": "HTMLModel",
            "placeholder": "​",
            "_view_module": "@jupyter-widgets/controls",
            "_model_module_version": "1.5.0",
            "value": "Eliminating: A: 100%",
            "_view_count": null,
            "_view_module_version": "1.5.0",
            "description_tooltip": null,
            "_model_module": "@jupyter-widgets/controls",
            "layout": "IPY_MODEL_573ead5d405e4ae399a1934849f39208"
          }
        },
        "cd4879279bec40eca1f0d51812697187": {
          "model_module": "@jupyter-widgets/controls",
          "model_name": "FloatProgressModel",
          "model_module_version": "1.5.0",
          "state": {
            "_view_name": "ProgressView",
            "style": "IPY_MODEL_6cadc3ad78484deb9f345fa9c9a7f747",
            "_dom_classes": [],
            "description": "",
            "_model_name": "FloatProgressModel",
            "bar_style": "success",
            "max": 1,
            "_view_module": "@jupyter-widgets/controls",
            "_model_module_version": "1.5.0",
            "value": 1,
            "_view_count": null,
            "_view_module_version": "1.5.0",
            "orientation": "horizontal",
            "min": 0,
            "description_tooltip": null,
            "_model_module": "@jupyter-widgets/controls",
            "layout": "IPY_MODEL_953036036bce47999ee16dc251e0f85a"
          }
        },
        "cc478fb36a9348a5be32cad2284c69ad": {
          "model_module": "@jupyter-widgets/controls",
          "model_name": "HTMLModel",
          "model_module_version": "1.5.0",
          "state": {
            "_view_name": "HTMLView",
            "style": "IPY_MODEL_1a7ec3ab92494151b6b935726f664b00",
            "_dom_classes": [],
            "description": "",
            "_model_name": "HTMLModel",
            "placeholder": "​",
            "_view_module": "@jupyter-widgets/controls",
            "_model_module_version": "1.5.0",
            "value": " 1/1 [00:00&lt;00:00, 12.86it/s]",
            "_view_count": null,
            "_view_module_version": "1.5.0",
            "description_tooltip": null,
            "_model_module": "@jupyter-widgets/controls",
            "layout": "IPY_MODEL_26e765c587b649b3a32625de9d7d528e"
          }
        },
        "06d957d81a5a4468a984606240f4c831": {
          "model_module": "@jupyter-widgets/controls",
          "model_name": "DescriptionStyleModel",
          "model_module_version": "1.5.0",
          "state": {
            "_view_name": "StyleView",
            "_model_name": "DescriptionStyleModel",
            "description_width": "",
            "_view_module": "@jupyter-widgets/base",
            "_model_module_version": "1.5.0",
            "_view_count": null,
            "_view_module_version": "1.2.0",
            "_model_module": "@jupyter-widgets/controls"
          }
        },
        "573ead5d405e4ae399a1934849f39208": {
          "model_module": "@jupyter-widgets/base",
          "model_name": "LayoutModel",
          "model_module_version": "1.2.0",
          "state": {
            "_view_name": "LayoutView",
            "grid_template_rows": null,
            "right": null,
            "justify_content": null,
            "_view_module": "@jupyter-widgets/base",
            "overflow": null,
            "_model_module_version": "1.2.0",
            "_view_count": null,
            "flex_flow": null,
            "width": null,
            "min_width": null,
            "border": null,
            "align_items": null,
            "bottom": null,
            "_model_module": "@jupyter-widgets/base",
            "top": null,
            "grid_column": null,
            "overflow_y": null,
            "overflow_x": null,
            "grid_auto_flow": null,
            "grid_area": null,
            "grid_template_columns": null,
            "flex": null,
            "_model_name": "LayoutModel",
            "justify_items": null,
            "grid_row": null,
            "max_height": null,
            "align_content": null,
            "visibility": null,
            "align_self": null,
            "height": null,
            "min_height": null,
            "padding": null,
            "grid_auto_rows": null,
            "grid_gap": null,
            "max_width": null,
            "order": null,
            "_view_module_version": "1.2.0",
            "grid_template_areas": null,
            "object_position": null,
            "object_fit": null,
            "grid_auto_columns": null,
            "margin": null,
            "display": null,
            "left": null
          }
        },
        "6cadc3ad78484deb9f345fa9c9a7f747": {
          "model_module": "@jupyter-widgets/controls",
          "model_name": "ProgressStyleModel",
          "model_module_version": "1.5.0",
          "state": {
            "_view_name": "StyleView",
            "_model_name": "ProgressStyleModel",
            "description_width": "",
            "_view_module": "@jupyter-widgets/base",
            "_model_module_version": "1.5.0",
            "_view_count": null,
            "_view_module_version": "1.2.0",
            "bar_color": null,
            "_model_module": "@jupyter-widgets/controls"
          }
        },
        "953036036bce47999ee16dc251e0f85a": {
          "model_module": "@jupyter-widgets/base",
          "model_name": "LayoutModel",
          "model_module_version": "1.2.0",
          "state": {
            "_view_name": "LayoutView",
            "grid_template_rows": null,
            "right": null,
            "justify_content": null,
            "_view_module": "@jupyter-widgets/base",
            "overflow": null,
            "_model_module_version": "1.2.0",
            "_view_count": null,
            "flex_flow": null,
            "width": null,
            "min_width": null,
            "border": null,
            "align_items": null,
            "bottom": null,
            "_model_module": "@jupyter-widgets/base",
            "top": null,
            "grid_column": null,
            "overflow_y": null,
            "overflow_x": null,
            "grid_auto_flow": null,
            "grid_area": null,
            "grid_template_columns": null,
            "flex": null,
            "_model_name": "LayoutModel",
            "justify_items": null,
            "grid_row": null,
            "max_height": null,
            "align_content": null,
            "visibility": null,
            "align_self": null,
            "height": null,
            "min_height": null,
            "padding": null,
            "grid_auto_rows": null,
            "grid_gap": null,
            "max_width": null,
            "order": null,
            "_view_module_version": "1.2.0",
            "grid_template_areas": null,
            "object_position": null,
            "object_fit": null,
            "grid_auto_columns": null,
            "margin": null,
            "display": null,
            "left": null
          }
        },
        "1a7ec3ab92494151b6b935726f664b00": {
          "model_module": "@jupyter-widgets/controls",
          "model_name": "DescriptionStyleModel",
          "model_module_version": "1.5.0",
          "state": {
            "_view_name": "StyleView",
            "_model_name": "DescriptionStyleModel",
            "description_width": "",
            "_view_module": "@jupyter-widgets/base",
            "_model_module_version": "1.5.0",
            "_view_count": null,
            "_view_module_version": "1.2.0",
            "_model_module": "@jupyter-widgets/controls"
          }
        },
        "26e765c587b649b3a32625de9d7d528e": {
          "model_module": "@jupyter-widgets/base",
          "model_name": "LayoutModel",
          "model_module_version": "1.2.0",
          "state": {
            "_view_name": "LayoutView",
            "grid_template_rows": null,
            "right": null,
            "justify_content": null,
            "_view_module": "@jupyter-widgets/base",
            "overflow": null,
            "_model_module_version": "1.2.0",
            "_view_count": null,
            "flex_flow": null,
            "width": null,
            "min_width": null,
            "border": null,
            "align_items": null,
            "bottom": null,
            "_model_module": "@jupyter-widgets/base",
            "top": null,
            "grid_column": null,
            "overflow_y": null,
            "overflow_x": null,
            "grid_auto_flow": null,
            "grid_area": null,
            "grid_template_columns": null,
            "flex": null,
            "_model_name": "LayoutModel",
            "justify_items": null,
            "grid_row": null,
            "max_height": null,
            "align_content": null,
            "visibility": null,
            "align_self": null,
            "height": null,
            "min_height": null,
            "padding": null,
            "grid_auto_rows": null,
            "grid_gap": null,
            "max_width": null,
            "order": null,
            "_view_module_version": "1.2.0",
            "grid_template_areas": null,
            "object_position": null,
            "object_fit": null,
            "grid_auto_columns": null,
            "margin": null,
            "display": null,
            "left": null
          }
        },
        "e86539f0d89e4fd6a4d69856431c7c34": {
          "model_module": "@jupyter-widgets/controls",
          "model_name": "HBoxModel",
          "model_module_version": "1.5.0",
          "state": {
            "_view_name": "HBoxView",
            "_dom_classes": [],
            "_model_name": "HBoxModel",
            "_view_module": "@jupyter-widgets/controls",
            "_model_module_version": "1.5.0",
            "_view_count": null,
            "_view_module_version": "1.5.0",
            "box_style": "",
            "layout": "IPY_MODEL_b9010b38d7c648be9d414f22871ac913",
            "_model_module": "@jupyter-widgets/controls",
            "children": [
              "IPY_MODEL_300ef8df4b2c4c63a1176f1d3d32a4a4",
              "IPY_MODEL_2edfaa5c389f4cfe9458a0697454100d",
              "IPY_MODEL_7304e8e4b32c4b1db92168560568e14f"
            ]
          }
        },
        "b9010b38d7c648be9d414f22871ac913": {
          "model_module": "@jupyter-widgets/base",
          "model_name": "LayoutModel",
          "model_module_version": "1.2.0",
          "state": {
            "_view_name": "LayoutView",
            "grid_template_rows": null,
            "right": null,
            "justify_content": null,
            "_view_module": "@jupyter-widgets/base",
            "overflow": null,
            "_model_module_version": "1.2.0",
            "_view_count": null,
            "flex_flow": null,
            "width": null,
            "min_width": null,
            "border": null,
            "align_items": null,
            "bottom": null,
            "_model_module": "@jupyter-widgets/base",
            "top": null,
            "grid_column": null,
            "overflow_y": null,
            "overflow_x": null,
            "grid_auto_flow": null,
            "grid_area": null,
            "grid_template_columns": null,
            "flex": null,
            "_model_name": "LayoutModel",
            "justify_items": null,
            "grid_row": null,
            "max_height": null,
            "align_content": null,
            "visibility": null,
            "align_self": null,
            "height": null,
            "min_height": null,
            "padding": null,
            "grid_auto_rows": null,
            "grid_gap": null,
            "max_width": null,
            "order": null,
            "_view_module_version": "1.2.0",
            "grid_template_areas": null,
            "object_position": null,
            "object_fit": null,
            "grid_auto_columns": null,
            "margin": null,
            "display": null,
            "left": null
          }
        },
        "300ef8df4b2c4c63a1176f1d3d32a4a4": {
          "model_module": "@jupyter-widgets/controls",
          "model_name": "HTMLModel",
          "model_module_version": "1.5.0",
          "state": {
            "_view_name": "HTMLView",
            "style": "IPY_MODEL_e9c3d7c543534cfa99fb1e439d1685a8",
            "_dom_classes": [],
            "description": "",
            "_model_name": "HTMLModel",
            "placeholder": "​",
            "_view_module": "@jupyter-widgets/controls",
            "_model_module_version": "1.5.0",
            "value": "Finding Elimination Order: : 100%",
            "_view_count": null,
            "_view_module_version": "1.5.0",
            "description_tooltip": null,
            "_model_module": "@jupyter-widgets/controls",
            "layout": "IPY_MODEL_92b4937aa58f4dd5a75c5e321d9ff461"
          }
        },
        "2edfaa5c389f4cfe9458a0697454100d": {
          "model_module": "@jupyter-widgets/controls",
          "model_name": "FloatProgressModel",
          "model_module_version": "1.5.0",
          "state": {
            "_view_name": "ProgressView",
            "style": "IPY_MODEL_5a88eeb2392f44fb826bc80b336726cb",
            "_dom_classes": [],
            "description": "",
            "_model_name": "FloatProgressModel",
            "bar_style": "success",
            "max": 3,
            "_view_module": "@jupyter-widgets/controls",
            "_model_module_version": "1.5.0",
            "value": 3,
            "_view_count": null,
            "_view_module_version": "1.5.0",
            "orientation": "horizontal",
            "min": 0,
            "description_tooltip": null,
            "_model_module": "@jupyter-widgets/controls",
            "layout": "IPY_MODEL_fafd0535eb7a43d5a40b35ff74d11bda"
          }
        },
        "7304e8e4b32c4b1db92168560568e14f": {
          "model_module": "@jupyter-widgets/controls",
          "model_name": "HTMLModel",
          "model_module_version": "1.5.0",
          "state": {
            "_view_name": "HTMLView",
            "style": "IPY_MODEL_e060c12b9d80403a86f00d4e27318542",
            "_dom_classes": [],
            "description": "",
            "_model_name": "HTMLModel",
            "placeholder": "​",
            "_view_module": "@jupyter-widgets/controls",
            "_model_module_version": "1.5.0",
            "value": " 3/3 [00:00&lt;00:00,  9.66it/s]",
            "_view_count": null,
            "_view_module_version": "1.5.0",
            "description_tooltip": null,
            "_model_module": "@jupyter-widgets/controls",
            "layout": "IPY_MODEL_b3cc6d2c7bbc411fb471afd8c5b458bd"
          }
        },
        "e9c3d7c543534cfa99fb1e439d1685a8": {
          "model_module": "@jupyter-widgets/controls",
          "model_name": "DescriptionStyleModel",
          "model_module_version": "1.5.0",
          "state": {
            "_view_name": "StyleView",
            "_model_name": "DescriptionStyleModel",
            "description_width": "",
            "_view_module": "@jupyter-widgets/base",
            "_model_module_version": "1.5.0",
            "_view_count": null,
            "_view_module_version": "1.2.0",
            "_model_module": "@jupyter-widgets/controls"
          }
        },
        "92b4937aa58f4dd5a75c5e321d9ff461": {
          "model_module": "@jupyter-widgets/base",
          "model_name": "LayoutModel",
          "model_module_version": "1.2.0",
          "state": {
            "_view_name": "LayoutView",
            "grid_template_rows": null,
            "right": null,
            "justify_content": null,
            "_view_module": "@jupyter-widgets/base",
            "overflow": null,
            "_model_module_version": "1.2.0",
            "_view_count": null,
            "flex_flow": null,
            "width": null,
            "min_width": null,
            "border": null,
            "align_items": null,
            "bottom": null,
            "_model_module": "@jupyter-widgets/base",
            "top": null,
            "grid_column": null,
            "overflow_y": null,
            "overflow_x": null,
            "grid_auto_flow": null,
            "grid_area": null,
            "grid_template_columns": null,
            "flex": null,
            "_model_name": "LayoutModel",
            "justify_items": null,
            "grid_row": null,
            "max_height": null,
            "align_content": null,
            "visibility": null,
            "align_self": null,
            "height": null,
            "min_height": null,
            "padding": null,
            "grid_auto_rows": null,
            "grid_gap": null,
            "max_width": null,
            "order": null,
            "_view_module_version": "1.2.0",
            "grid_template_areas": null,
            "object_position": null,
            "object_fit": null,
            "grid_auto_columns": null,
            "margin": null,
            "display": null,
            "left": null
          }
        },
        "5a88eeb2392f44fb826bc80b336726cb": {
          "model_module": "@jupyter-widgets/controls",
          "model_name": "ProgressStyleModel",
          "model_module_version": "1.5.0",
          "state": {
            "_view_name": "StyleView",
            "_model_name": "ProgressStyleModel",
            "description_width": "",
            "_view_module": "@jupyter-widgets/base",
            "_model_module_version": "1.5.0",
            "_view_count": null,
            "_view_module_version": "1.2.0",
            "bar_color": null,
            "_model_module": "@jupyter-widgets/controls"
          }
        },
        "fafd0535eb7a43d5a40b35ff74d11bda": {
          "model_module": "@jupyter-widgets/base",
          "model_name": "LayoutModel",
          "model_module_version": "1.2.0",
          "state": {
            "_view_name": "LayoutView",
            "grid_template_rows": null,
            "right": null,
            "justify_content": null,
            "_view_module": "@jupyter-widgets/base",
            "overflow": null,
            "_model_module_version": "1.2.0",
            "_view_count": null,
            "flex_flow": null,
            "width": null,
            "min_width": null,
            "border": null,
            "align_items": null,
            "bottom": null,
            "_model_module": "@jupyter-widgets/base",
            "top": null,
            "grid_column": null,
            "overflow_y": null,
            "overflow_x": null,
            "grid_auto_flow": null,
            "grid_area": null,
            "grid_template_columns": null,
            "flex": null,
            "_model_name": "LayoutModel",
            "justify_items": null,
            "grid_row": null,
            "max_height": null,
            "align_content": null,
            "visibility": null,
            "align_self": null,
            "height": null,
            "min_height": null,
            "padding": null,
            "grid_auto_rows": null,
            "grid_gap": null,
            "max_width": null,
            "order": null,
            "_view_module_version": "1.2.0",
            "grid_template_areas": null,
            "object_position": null,
            "object_fit": null,
            "grid_auto_columns": null,
            "margin": null,
            "display": null,
            "left": null
          }
        },
        "e060c12b9d80403a86f00d4e27318542": {
          "model_module": "@jupyter-widgets/controls",
          "model_name": "DescriptionStyleModel",
          "model_module_version": "1.5.0",
          "state": {
            "_view_name": "StyleView",
            "_model_name": "DescriptionStyleModel",
            "description_width": "",
            "_view_module": "@jupyter-widgets/base",
            "_model_module_version": "1.5.0",
            "_view_count": null,
            "_view_module_version": "1.2.0",
            "_model_module": "@jupyter-widgets/controls"
          }
        },
        "b3cc6d2c7bbc411fb471afd8c5b458bd": {
          "model_module": "@jupyter-widgets/base",
          "model_name": "LayoutModel",
          "model_module_version": "1.2.0",
          "state": {
            "_view_name": "LayoutView",
            "grid_template_rows": null,
            "right": null,
            "justify_content": null,
            "_view_module": "@jupyter-widgets/base",
            "overflow": null,
            "_model_module_version": "1.2.0",
            "_view_count": null,
            "flex_flow": null,
            "width": null,
            "min_width": null,
            "border": null,
            "align_items": null,
            "bottom": null,
            "_model_module": "@jupyter-widgets/base",
            "top": null,
            "grid_column": null,
            "overflow_y": null,
            "overflow_x": null,
            "grid_auto_flow": null,
            "grid_area": null,
            "grid_template_columns": null,
            "flex": null,
            "_model_name": "LayoutModel",
            "justify_items": null,
            "grid_row": null,
            "max_height": null,
            "align_content": null,
            "visibility": null,
            "align_self": null,
            "height": null,
            "min_height": null,
            "padding": null,
            "grid_auto_rows": null,
            "grid_gap": null,
            "max_width": null,
            "order": null,
            "_view_module_version": "1.2.0",
            "grid_template_areas": null,
            "object_position": null,
            "object_fit": null,
            "grid_auto_columns": null,
            "margin": null,
            "display": null,
            "left": null
          }
        },
        "4569b5ac42aa43318de91de1b2ff7870": {
          "model_module": "@jupyter-widgets/controls",
          "model_name": "HBoxModel",
          "model_module_version": "1.5.0",
          "state": {
            "_view_name": "HBoxView",
            "_dom_classes": [],
            "_model_name": "HBoxModel",
            "_view_module": "@jupyter-widgets/controls",
            "_model_module_version": "1.5.0",
            "_view_count": null,
            "_view_module_version": "1.5.0",
            "box_style": "",
            "layout": "IPY_MODEL_2be828d528c24b9a98491ec64b5cb038",
            "_model_module": "@jupyter-widgets/controls",
            "children": [
              "IPY_MODEL_ac660605eeca4a95868d97cf35944668",
              "IPY_MODEL_e8dffa75e66f40889ab30dd8f785bb68",
              "IPY_MODEL_70df5738f1124d909e126045c4845c17"
            ]
          }
        },
        "2be828d528c24b9a98491ec64b5cb038": {
          "model_module": "@jupyter-widgets/base",
          "model_name": "LayoutModel",
          "model_module_version": "1.2.0",
          "state": {
            "_view_name": "LayoutView",
            "grid_template_rows": null,
            "right": null,
            "justify_content": null,
            "_view_module": "@jupyter-widgets/base",
            "overflow": null,
            "_model_module_version": "1.2.0",
            "_view_count": null,
            "flex_flow": null,
            "width": null,
            "min_width": null,
            "border": null,
            "align_items": null,
            "bottom": null,
            "_model_module": "@jupyter-widgets/base",
            "top": null,
            "grid_column": null,
            "overflow_y": null,
            "overflow_x": null,
            "grid_auto_flow": null,
            "grid_area": null,
            "grid_template_columns": null,
            "flex": null,
            "_model_name": "LayoutModel",
            "justify_items": null,
            "grid_row": null,
            "max_height": null,
            "align_content": null,
            "visibility": null,
            "align_self": null,
            "height": null,
            "min_height": null,
            "padding": null,
            "grid_auto_rows": null,
            "grid_gap": null,
            "max_width": null,
            "order": null,
            "_view_module_version": "1.2.0",
            "grid_template_areas": null,
            "object_position": null,
            "object_fit": null,
            "grid_auto_columns": null,
            "margin": null,
            "display": null,
            "left": null
          }
        },
        "ac660605eeca4a95868d97cf35944668": {
          "model_module": "@jupyter-widgets/controls",
          "model_name": "HTMLModel",
          "model_module_version": "1.5.0",
          "state": {
            "_view_name": "HTMLView",
            "style": "IPY_MODEL_8857aa28b8574c0a931dade2b45e982a",
            "_dom_classes": [],
            "description": "",
            "_model_name": "HTMLModel",
            "placeholder": "​",
            "_view_module": "@jupyter-widgets/controls",
            "_model_module_version": "1.5.0",
            "value": "Eliminating: A: 100%",
            "_view_count": null,
            "_view_module_version": "1.5.0",
            "description_tooltip": null,
            "_model_module": "@jupyter-widgets/controls",
            "layout": "IPY_MODEL_9219bc9cf3314c22a39f762ef5ecc6cc"
          }
        },
        "e8dffa75e66f40889ab30dd8f785bb68": {
          "model_module": "@jupyter-widgets/controls",
          "model_name": "FloatProgressModel",
          "model_module_version": "1.5.0",
          "state": {
            "_view_name": "ProgressView",
            "style": "IPY_MODEL_985fbf55f1664a46af5eee62e31f9cb4",
            "_dom_classes": [],
            "description": "",
            "_model_name": "FloatProgressModel",
            "bar_style": "success",
            "max": 3,
            "_view_module": "@jupyter-widgets/controls",
            "_model_module_version": "1.5.0",
            "value": 3,
            "_view_count": null,
            "_view_module_version": "1.5.0",
            "orientation": "horizontal",
            "min": 0,
            "description_tooltip": null,
            "_model_module": "@jupyter-widgets/controls",
            "layout": "IPY_MODEL_fe72e7c4a5e644afa1b11e1ddf1d45aa"
          }
        },
        "70df5738f1124d909e126045c4845c17": {
          "model_module": "@jupyter-widgets/controls",
          "model_name": "HTMLModel",
          "model_module_version": "1.5.0",
          "state": {
            "_view_name": "HTMLView",
            "style": "IPY_MODEL_4cbe4d54e3c24fd7b89239230b9b50df",
            "_dom_classes": [],
            "description": "",
            "_model_name": "HTMLModel",
            "placeholder": "​",
            "_view_module": "@jupyter-widgets/controls",
            "_model_module_version": "1.5.0",
            "value": " 3/3 [00:00&lt;00:00,  7.95it/s]",
            "_view_count": null,
            "_view_module_version": "1.5.0",
            "description_tooltip": null,
            "_model_module": "@jupyter-widgets/controls",
            "layout": "IPY_MODEL_336e6b93ffcf4dea99999daed46ab952"
          }
        },
        "8857aa28b8574c0a931dade2b45e982a": {
          "model_module": "@jupyter-widgets/controls",
          "model_name": "DescriptionStyleModel",
          "model_module_version": "1.5.0",
          "state": {
            "_view_name": "StyleView",
            "_model_name": "DescriptionStyleModel",
            "description_width": "",
            "_view_module": "@jupyter-widgets/base",
            "_model_module_version": "1.5.0",
            "_view_count": null,
            "_view_module_version": "1.2.0",
            "_model_module": "@jupyter-widgets/controls"
          }
        },
        "9219bc9cf3314c22a39f762ef5ecc6cc": {
          "model_module": "@jupyter-widgets/base",
          "model_name": "LayoutModel",
          "model_module_version": "1.2.0",
          "state": {
            "_view_name": "LayoutView",
            "grid_template_rows": null,
            "right": null,
            "justify_content": null,
            "_view_module": "@jupyter-widgets/base",
            "overflow": null,
            "_model_module_version": "1.2.0",
            "_view_count": null,
            "flex_flow": null,
            "width": null,
            "min_width": null,
            "border": null,
            "align_items": null,
            "bottom": null,
            "_model_module": "@jupyter-widgets/base",
            "top": null,
            "grid_column": null,
            "overflow_y": null,
            "overflow_x": null,
            "grid_auto_flow": null,
            "grid_area": null,
            "grid_template_columns": null,
            "flex": null,
            "_model_name": "LayoutModel",
            "justify_items": null,
            "grid_row": null,
            "max_height": null,
            "align_content": null,
            "visibility": null,
            "align_self": null,
            "height": null,
            "min_height": null,
            "padding": null,
            "grid_auto_rows": null,
            "grid_gap": null,
            "max_width": null,
            "order": null,
            "_view_module_version": "1.2.0",
            "grid_template_areas": null,
            "object_position": null,
            "object_fit": null,
            "grid_auto_columns": null,
            "margin": null,
            "display": null,
            "left": null
          }
        },
        "985fbf55f1664a46af5eee62e31f9cb4": {
          "model_module": "@jupyter-widgets/controls",
          "model_name": "ProgressStyleModel",
          "model_module_version": "1.5.0",
          "state": {
            "_view_name": "StyleView",
            "_model_name": "ProgressStyleModel",
            "description_width": "",
            "_view_module": "@jupyter-widgets/base",
            "_model_module_version": "1.5.0",
            "_view_count": null,
            "_view_module_version": "1.2.0",
            "bar_color": null,
            "_model_module": "@jupyter-widgets/controls"
          }
        },
        "fe72e7c4a5e644afa1b11e1ddf1d45aa": {
          "model_module": "@jupyter-widgets/base",
          "model_name": "LayoutModel",
          "model_module_version": "1.2.0",
          "state": {
            "_view_name": "LayoutView",
            "grid_template_rows": null,
            "right": null,
            "justify_content": null,
            "_view_module": "@jupyter-widgets/base",
            "overflow": null,
            "_model_module_version": "1.2.0",
            "_view_count": null,
            "flex_flow": null,
            "width": null,
            "min_width": null,
            "border": null,
            "align_items": null,
            "bottom": null,
            "_model_module": "@jupyter-widgets/base",
            "top": null,
            "grid_column": null,
            "overflow_y": null,
            "overflow_x": null,
            "grid_auto_flow": null,
            "grid_area": null,
            "grid_template_columns": null,
            "flex": null,
            "_model_name": "LayoutModel",
            "justify_items": null,
            "grid_row": null,
            "max_height": null,
            "align_content": null,
            "visibility": null,
            "align_self": null,
            "height": null,
            "min_height": null,
            "padding": null,
            "grid_auto_rows": null,
            "grid_gap": null,
            "max_width": null,
            "order": null,
            "_view_module_version": "1.2.0",
            "grid_template_areas": null,
            "object_position": null,
            "object_fit": null,
            "grid_auto_columns": null,
            "margin": null,
            "display": null,
            "left": null
          }
        },
        "4cbe4d54e3c24fd7b89239230b9b50df": {
          "model_module": "@jupyter-widgets/controls",
          "model_name": "DescriptionStyleModel",
          "model_module_version": "1.5.0",
          "state": {
            "_view_name": "StyleView",
            "_model_name": "DescriptionStyleModel",
            "description_width": "",
            "_view_module": "@jupyter-widgets/base",
            "_model_module_version": "1.5.0",
            "_view_count": null,
            "_view_module_version": "1.2.0",
            "_model_module": "@jupyter-widgets/controls"
          }
        },
        "336e6b93ffcf4dea99999daed46ab952": {
          "model_module": "@jupyter-widgets/base",
          "model_name": "LayoutModel",
          "model_module_version": "1.2.0",
          "state": {
            "_view_name": "LayoutView",
            "grid_template_rows": null,
            "right": null,
            "justify_content": null,
            "_view_module": "@jupyter-widgets/base",
            "overflow": null,
            "_model_module_version": "1.2.0",
            "_view_count": null,
            "flex_flow": null,
            "width": null,
            "min_width": null,
            "border": null,
            "align_items": null,
            "bottom": null,
            "_model_module": "@jupyter-widgets/base",
            "top": null,
            "grid_column": null,
            "overflow_y": null,
            "overflow_x": null,
            "grid_auto_flow": null,
            "grid_area": null,
            "grid_template_columns": null,
            "flex": null,
            "_model_name": "LayoutModel",
            "justify_items": null,
            "grid_row": null,
            "max_height": null,
            "align_content": null,
            "visibility": null,
            "align_self": null,
            "height": null,
            "min_height": null,
            "padding": null,
            "grid_auto_rows": null,
            "grid_gap": null,
            "max_width": null,
            "order": null,
            "_view_module_version": "1.2.0",
            "grid_template_areas": null,
            "object_position": null,
            "object_fit": null,
            "grid_auto_columns": null,
            "margin": null,
            "display": null,
            "left": null
          }
        },
        "43fd215f78fe4d7b9cbbfa4e688552f5": {
          "model_module": "@jupyter-widgets/controls",
          "model_name": "HBoxModel",
          "model_module_version": "1.5.0",
          "state": {
            "_view_name": "HBoxView",
            "_dom_classes": [],
            "_model_name": "HBoxModel",
            "_view_module": "@jupyter-widgets/controls",
            "_model_module_version": "1.5.0",
            "_view_count": null,
            "_view_module_version": "1.5.0",
            "box_style": "",
            "layout": "IPY_MODEL_e241371f3cf244a0b8e10c92f7af8f02",
            "_model_module": "@jupyter-widgets/controls",
            "children": [
              "IPY_MODEL_b2e723090d3643228cf053c024bb9bc4",
              "IPY_MODEL_78b56282e85847589d7abcfb05d1e7ca",
              "IPY_MODEL_721e725af10a4c86be05230c16e03824"
            ]
          }
        },
        "e241371f3cf244a0b8e10c92f7af8f02": {
          "model_module": "@jupyter-widgets/base",
          "model_name": "LayoutModel",
          "model_module_version": "1.2.0",
          "state": {
            "_view_name": "LayoutView",
            "grid_template_rows": null,
            "right": null,
            "justify_content": null,
            "_view_module": "@jupyter-widgets/base",
            "overflow": null,
            "_model_module_version": "1.2.0",
            "_view_count": null,
            "flex_flow": null,
            "width": null,
            "min_width": null,
            "border": null,
            "align_items": null,
            "bottom": null,
            "_model_module": "@jupyter-widgets/base",
            "top": null,
            "grid_column": null,
            "overflow_y": null,
            "overflow_x": null,
            "grid_auto_flow": null,
            "grid_area": null,
            "grid_template_columns": null,
            "flex": null,
            "_model_name": "LayoutModel",
            "justify_items": null,
            "grid_row": null,
            "max_height": null,
            "align_content": null,
            "visibility": null,
            "align_self": null,
            "height": null,
            "min_height": null,
            "padding": null,
            "grid_auto_rows": null,
            "grid_gap": null,
            "max_width": null,
            "order": null,
            "_view_module_version": "1.2.0",
            "grid_template_areas": null,
            "object_position": null,
            "object_fit": null,
            "grid_auto_columns": null,
            "margin": null,
            "display": null,
            "left": null
          }
        },
        "b2e723090d3643228cf053c024bb9bc4": {
          "model_module": "@jupyter-widgets/controls",
          "model_name": "HTMLModel",
          "model_module_version": "1.5.0",
          "state": {
            "_view_name": "HTMLView",
            "style": "IPY_MODEL_98ed6607db2b46f4960f1379e4030b35",
            "_dom_classes": [],
            "description": "",
            "_model_name": "HTMLModel",
            "placeholder": "​",
            "_view_module": "@jupyter-widgets/controls",
            "_model_module_version": "1.5.0",
            "value": "Finding Elimination Order: :   0%",
            "_view_count": null,
            "_view_module_version": "1.5.0",
            "description_tooltip": null,
            "_model_module": "@jupyter-widgets/controls",
            "layout": "IPY_MODEL_a5d229e3a554461ab56d3c4525a3d6b0"
          }
        },
        "78b56282e85847589d7abcfb05d1e7ca": {
          "model_module": "@jupyter-widgets/controls",
          "model_name": "FloatProgressModel",
          "model_module_version": "1.5.0",
          "state": {
            "_view_name": "ProgressView",
            "style": "IPY_MODEL_df7e299c33d8414d924ac0b5a55378b0",
            "_dom_classes": [],
            "description": "",
            "_model_name": "FloatProgressModel",
            "bar_style": "",
            "max": 3,
            "_view_module": "@jupyter-widgets/controls",
            "_model_module_version": "1.5.0",
            "value": 0,
            "_view_count": null,
            "_view_module_version": "1.5.0",
            "orientation": "horizontal",
            "min": 0,
            "description_tooltip": null,
            "_model_module": "@jupyter-widgets/controls",
            "layout": "IPY_MODEL_f201a06317364be0ac2196f9c2032c15"
          }
        },
        "721e725af10a4c86be05230c16e03824": {
          "model_module": "@jupyter-widgets/controls",
          "model_name": "HTMLModel",
          "model_module_version": "1.5.0",
          "state": {
            "_view_name": "HTMLView",
            "style": "IPY_MODEL_73ca44df485342c09ada50f77430cffe",
            "_dom_classes": [],
            "description": "",
            "_model_name": "HTMLModel",
            "placeholder": "​",
            "_view_module": "@jupyter-widgets/controls",
            "_model_module_version": "1.5.0",
            "value": " 0/3 [00:00&lt;?, ?it/s]",
            "_view_count": null,
            "_view_module_version": "1.5.0",
            "description_tooltip": null,
            "_model_module": "@jupyter-widgets/controls",
            "layout": "IPY_MODEL_27d34a00993a4b6eb637627ef885105b"
          }
        },
        "98ed6607db2b46f4960f1379e4030b35": {
          "model_module": "@jupyter-widgets/controls",
          "model_name": "DescriptionStyleModel",
          "model_module_version": "1.5.0",
          "state": {
            "_view_name": "StyleView",
            "_model_name": "DescriptionStyleModel",
            "description_width": "",
            "_view_module": "@jupyter-widgets/base",
            "_model_module_version": "1.5.0",
            "_view_count": null,
            "_view_module_version": "1.2.0",
            "_model_module": "@jupyter-widgets/controls"
          }
        },
        "a5d229e3a554461ab56d3c4525a3d6b0": {
          "model_module": "@jupyter-widgets/base",
          "model_name": "LayoutModel",
          "model_module_version": "1.2.0",
          "state": {
            "_view_name": "LayoutView",
            "grid_template_rows": null,
            "right": null,
            "justify_content": null,
            "_view_module": "@jupyter-widgets/base",
            "overflow": null,
            "_model_module_version": "1.2.0",
            "_view_count": null,
            "flex_flow": null,
            "width": null,
            "min_width": null,
            "border": null,
            "align_items": null,
            "bottom": null,
            "_model_module": "@jupyter-widgets/base",
            "top": null,
            "grid_column": null,
            "overflow_y": null,
            "overflow_x": null,
            "grid_auto_flow": null,
            "grid_area": null,
            "grid_template_columns": null,
            "flex": null,
            "_model_name": "LayoutModel",
            "justify_items": null,
            "grid_row": null,
            "max_height": null,
            "align_content": null,
            "visibility": null,
            "align_self": null,
            "height": null,
            "min_height": null,
            "padding": null,
            "grid_auto_rows": null,
            "grid_gap": null,
            "max_width": null,
            "order": null,
            "_view_module_version": "1.2.0",
            "grid_template_areas": null,
            "object_position": null,
            "object_fit": null,
            "grid_auto_columns": null,
            "margin": null,
            "display": null,
            "left": null
          }
        },
        "df7e299c33d8414d924ac0b5a55378b0": {
          "model_module": "@jupyter-widgets/controls",
          "model_name": "ProgressStyleModel",
          "model_module_version": "1.5.0",
          "state": {
            "_view_name": "StyleView",
            "_model_name": "ProgressStyleModel",
            "description_width": "",
            "_view_module": "@jupyter-widgets/base",
            "_model_module_version": "1.5.0",
            "_view_count": null,
            "_view_module_version": "1.2.0",
            "bar_color": null,
            "_model_module": "@jupyter-widgets/controls"
          }
        },
        "f201a06317364be0ac2196f9c2032c15": {
          "model_module": "@jupyter-widgets/base",
          "model_name": "LayoutModel",
          "model_module_version": "1.2.0",
          "state": {
            "_view_name": "LayoutView",
            "grid_template_rows": null,
            "right": null,
            "justify_content": null,
            "_view_module": "@jupyter-widgets/base",
            "overflow": null,
            "_model_module_version": "1.2.0",
            "_view_count": null,
            "flex_flow": null,
            "width": null,
            "min_width": null,
            "border": null,
            "align_items": null,
            "bottom": null,
            "_model_module": "@jupyter-widgets/base",
            "top": null,
            "grid_column": null,
            "overflow_y": null,
            "overflow_x": null,
            "grid_auto_flow": null,
            "grid_area": null,
            "grid_template_columns": null,
            "flex": null,
            "_model_name": "LayoutModel",
            "justify_items": null,
            "grid_row": null,
            "max_height": null,
            "align_content": null,
            "visibility": null,
            "align_self": null,
            "height": null,
            "min_height": null,
            "padding": null,
            "grid_auto_rows": null,
            "grid_gap": null,
            "max_width": null,
            "order": null,
            "_view_module_version": "1.2.0",
            "grid_template_areas": null,
            "object_position": null,
            "object_fit": null,
            "grid_auto_columns": null,
            "margin": null,
            "display": null,
            "left": null
          }
        },
        "73ca44df485342c09ada50f77430cffe": {
          "model_module": "@jupyter-widgets/controls",
          "model_name": "DescriptionStyleModel",
          "model_module_version": "1.5.0",
          "state": {
            "_view_name": "StyleView",
            "_model_name": "DescriptionStyleModel",
            "description_width": "",
            "_view_module": "@jupyter-widgets/base",
            "_model_module_version": "1.5.0",
            "_view_count": null,
            "_view_module_version": "1.2.0",
            "_model_module": "@jupyter-widgets/controls"
          }
        },
        "27d34a00993a4b6eb637627ef885105b": {
          "model_module": "@jupyter-widgets/base",
          "model_name": "LayoutModel",
          "model_module_version": "1.2.0",
          "state": {
            "_view_name": "LayoutView",
            "grid_template_rows": null,
            "right": null,
            "justify_content": null,
            "_view_module": "@jupyter-widgets/base",
            "overflow": null,
            "_model_module_version": "1.2.0",
            "_view_count": null,
            "flex_flow": null,
            "width": null,
            "min_width": null,
            "border": null,
            "align_items": null,
            "bottom": null,
            "_model_module": "@jupyter-widgets/base",
            "top": null,
            "grid_column": null,
            "overflow_y": null,
            "overflow_x": null,
            "grid_auto_flow": null,
            "grid_area": null,
            "grid_template_columns": null,
            "flex": null,
            "_model_name": "LayoutModel",
            "justify_items": null,
            "grid_row": null,
            "max_height": null,
            "align_content": null,
            "visibility": null,
            "align_self": null,
            "height": null,
            "min_height": null,
            "padding": null,
            "grid_auto_rows": null,
            "grid_gap": null,
            "max_width": null,
            "order": null,
            "_view_module_version": "1.2.0",
            "grid_template_areas": null,
            "object_position": null,
            "object_fit": null,
            "grid_auto_columns": null,
            "margin": null,
            "display": null,
            "left": null
          }
        },
        "1a33180c88ab4aee9b94ba45c4004e0b": {
          "model_module": "@jupyter-widgets/controls",
          "model_name": "HBoxModel",
          "model_module_version": "1.5.0",
          "state": {
            "_view_name": "HBoxView",
            "_dom_classes": [],
            "_model_name": "HBoxModel",
            "_view_module": "@jupyter-widgets/controls",
            "_model_module_version": "1.5.0",
            "_view_count": null,
            "_view_module_version": "1.5.0",
            "box_style": "",
            "layout": "IPY_MODEL_1b97f604cf0d4f2cbe371e69e17b3902",
            "_model_module": "@jupyter-widgets/controls",
            "children": [
              "IPY_MODEL_6ecec4e2aeea4686bfa3e0aaea20b796",
              "IPY_MODEL_a25ee3a60d484a739d392b50346f49f5",
              "IPY_MODEL_9be6cc5a94d245bab512fbcf79dcfd5c"
            ]
          }
        },
        "1b97f604cf0d4f2cbe371e69e17b3902": {
          "model_module": "@jupyter-widgets/base",
          "model_name": "LayoutModel",
          "model_module_version": "1.2.0",
          "state": {
            "_view_name": "LayoutView",
            "grid_template_rows": null,
            "right": null,
            "justify_content": null,
            "_view_module": "@jupyter-widgets/base",
            "overflow": null,
            "_model_module_version": "1.2.0",
            "_view_count": null,
            "flex_flow": null,
            "width": null,
            "min_width": null,
            "border": null,
            "align_items": null,
            "bottom": null,
            "_model_module": "@jupyter-widgets/base",
            "top": null,
            "grid_column": null,
            "overflow_y": null,
            "overflow_x": null,
            "grid_auto_flow": null,
            "grid_area": null,
            "grid_template_columns": null,
            "flex": null,
            "_model_name": "LayoutModel",
            "justify_items": null,
            "grid_row": null,
            "max_height": null,
            "align_content": null,
            "visibility": null,
            "align_self": null,
            "height": null,
            "min_height": null,
            "padding": null,
            "grid_auto_rows": null,
            "grid_gap": null,
            "max_width": null,
            "order": null,
            "_view_module_version": "1.2.0",
            "grid_template_areas": null,
            "object_position": null,
            "object_fit": null,
            "grid_auto_columns": null,
            "margin": null,
            "display": null,
            "left": null
          }
        },
        "6ecec4e2aeea4686bfa3e0aaea20b796": {
          "model_module": "@jupyter-widgets/controls",
          "model_name": "HTMLModel",
          "model_module_version": "1.5.0",
          "state": {
            "_view_name": "HTMLView",
            "style": "IPY_MODEL_5d0842f5e7c34865b57cb5ca8c1ed0a8",
            "_dom_classes": [],
            "description": "",
            "_model_name": "HTMLModel",
            "placeholder": "​",
            "_view_module": "@jupyter-widgets/controls",
            "_model_module_version": "1.5.0",
            "value": "Eliminating: A: 100%",
            "_view_count": null,
            "_view_module_version": "1.5.0",
            "description_tooltip": null,
            "_model_module": "@jupyter-widgets/controls",
            "layout": "IPY_MODEL_745c0ae2f9514587abebce87fd748422"
          }
        },
        "a25ee3a60d484a739d392b50346f49f5": {
          "model_module": "@jupyter-widgets/controls",
          "model_name": "FloatProgressModel",
          "model_module_version": "1.5.0",
          "state": {
            "_view_name": "ProgressView",
            "style": "IPY_MODEL_28df295879dc4e25babb8a52f3227422",
            "_dom_classes": [],
            "description": "",
            "_model_name": "FloatProgressModel",
            "bar_style": "success",
            "max": 3,
            "_view_module": "@jupyter-widgets/controls",
            "_model_module_version": "1.5.0",
            "value": 3,
            "_view_count": null,
            "_view_module_version": "1.5.0",
            "orientation": "horizontal",
            "min": 0,
            "description_tooltip": null,
            "_model_module": "@jupyter-widgets/controls",
            "layout": "IPY_MODEL_654e447a4bff41d6b83695b420a00820"
          }
        },
        "9be6cc5a94d245bab512fbcf79dcfd5c": {
          "model_module": "@jupyter-widgets/controls",
          "model_name": "HTMLModel",
          "model_module_version": "1.5.0",
          "state": {
            "_view_name": "HTMLView",
            "style": "IPY_MODEL_d4516d3389d7412aa304cad13aca08c7",
            "_dom_classes": [],
            "description": "",
            "_model_name": "HTMLModel",
            "placeholder": "​",
            "_view_module": "@jupyter-widgets/controls",
            "_model_module_version": "1.5.0",
            "value": " 3/3 [00:00&lt;00:00, 38.92it/s]",
            "_view_count": null,
            "_view_module_version": "1.5.0",
            "description_tooltip": null,
            "_model_module": "@jupyter-widgets/controls",
            "layout": "IPY_MODEL_c3cf6a78bc7b4652a24a571a0bfde082"
          }
        },
        "5d0842f5e7c34865b57cb5ca8c1ed0a8": {
          "model_module": "@jupyter-widgets/controls",
          "model_name": "DescriptionStyleModel",
          "model_module_version": "1.5.0",
          "state": {
            "_view_name": "StyleView",
            "_model_name": "DescriptionStyleModel",
            "description_width": "",
            "_view_module": "@jupyter-widgets/base",
            "_model_module_version": "1.5.0",
            "_view_count": null,
            "_view_module_version": "1.2.0",
            "_model_module": "@jupyter-widgets/controls"
          }
        },
        "745c0ae2f9514587abebce87fd748422": {
          "model_module": "@jupyter-widgets/base",
          "model_name": "LayoutModel",
          "model_module_version": "1.2.0",
          "state": {
            "_view_name": "LayoutView",
            "grid_template_rows": null,
            "right": null,
            "justify_content": null,
            "_view_module": "@jupyter-widgets/base",
            "overflow": null,
            "_model_module_version": "1.2.0",
            "_view_count": null,
            "flex_flow": null,
            "width": null,
            "min_width": null,
            "border": null,
            "align_items": null,
            "bottom": null,
            "_model_module": "@jupyter-widgets/base",
            "top": null,
            "grid_column": null,
            "overflow_y": null,
            "overflow_x": null,
            "grid_auto_flow": null,
            "grid_area": null,
            "grid_template_columns": null,
            "flex": null,
            "_model_name": "LayoutModel",
            "justify_items": null,
            "grid_row": null,
            "max_height": null,
            "align_content": null,
            "visibility": null,
            "align_self": null,
            "height": null,
            "min_height": null,
            "padding": null,
            "grid_auto_rows": null,
            "grid_gap": null,
            "max_width": null,
            "order": null,
            "_view_module_version": "1.2.0",
            "grid_template_areas": null,
            "object_position": null,
            "object_fit": null,
            "grid_auto_columns": null,
            "margin": null,
            "display": null,
            "left": null
          }
        },
        "28df295879dc4e25babb8a52f3227422": {
          "model_module": "@jupyter-widgets/controls",
          "model_name": "ProgressStyleModel",
          "model_module_version": "1.5.0",
          "state": {
            "_view_name": "StyleView",
            "_model_name": "ProgressStyleModel",
            "description_width": "",
            "_view_module": "@jupyter-widgets/base",
            "_model_module_version": "1.5.0",
            "_view_count": null,
            "_view_module_version": "1.2.0",
            "bar_color": null,
            "_model_module": "@jupyter-widgets/controls"
          }
        },
        "654e447a4bff41d6b83695b420a00820": {
          "model_module": "@jupyter-widgets/base",
          "model_name": "LayoutModel",
          "model_module_version": "1.2.0",
          "state": {
            "_view_name": "LayoutView",
            "grid_template_rows": null,
            "right": null,
            "justify_content": null,
            "_view_module": "@jupyter-widgets/base",
            "overflow": null,
            "_model_module_version": "1.2.0",
            "_view_count": null,
            "flex_flow": null,
            "width": null,
            "min_width": null,
            "border": null,
            "align_items": null,
            "bottom": null,
            "_model_module": "@jupyter-widgets/base",
            "top": null,
            "grid_column": null,
            "overflow_y": null,
            "overflow_x": null,
            "grid_auto_flow": null,
            "grid_area": null,
            "grid_template_columns": null,
            "flex": null,
            "_model_name": "LayoutModel",
            "justify_items": null,
            "grid_row": null,
            "max_height": null,
            "align_content": null,
            "visibility": null,
            "align_self": null,
            "height": null,
            "min_height": null,
            "padding": null,
            "grid_auto_rows": null,
            "grid_gap": null,
            "max_width": null,
            "order": null,
            "_view_module_version": "1.2.0",
            "grid_template_areas": null,
            "object_position": null,
            "object_fit": null,
            "grid_auto_columns": null,
            "margin": null,
            "display": null,
            "left": null
          }
        },
        "d4516d3389d7412aa304cad13aca08c7": {
          "model_module": "@jupyter-widgets/controls",
          "model_name": "DescriptionStyleModel",
          "model_module_version": "1.5.0",
          "state": {
            "_view_name": "StyleView",
            "_model_name": "DescriptionStyleModel",
            "description_width": "",
            "_view_module": "@jupyter-widgets/base",
            "_model_module_version": "1.5.0",
            "_view_count": null,
            "_view_module_version": "1.2.0",
            "_model_module": "@jupyter-widgets/controls"
          }
        },
        "c3cf6a78bc7b4652a24a571a0bfde082": {
          "model_module": "@jupyter-widgets/base",
          "model_name": "LayoutModel",
          "model_module_version": "1.2.0",
          "state": {
            "_view_name": "LayoutView",
            "grid_template_rows": null,
            "right": null,
            "justify_content": null,
            "_view_module": "@jupyter-widgets/base",
            "overflow": null,
            "_model_module_version": "1.2.0",
            "_view_count": null,
            "flex_flow": null,
            "width": null,
            "min_width": null,
            "border": null,
            "align_items": null,
            "bottom": null,
            "_model_module": "@jupyter-widgets/base",
            "top": null,
            "grid_column": null,
            "overflow_y": null,
            "overflow_x": null,
            "grid_auto_flow": null,
            "grid_area": null,
            "grid_template_columns": null,
            "flex": null,
            "_model_name": "LayoutModel",
            "justify_items": null,
            "grid_row": null,
            "max_height": null,
            "align_content": null,
            "visibility": null,
            "align_self": null,
            "height": null,
            "min_height": null,
            "padding": null,
            "grid_auto_rows": null,
            "grid_gap": null,
            "max_width": null,
            "order": null,
            "_view_module_version": "1.2.0",
            "grid_template_areas": null,
            "object_position": null,
            "object_fit": null,
            "grid_auto_columns": null,
            "margin": null,
            "display": null,
            "left": null
          }
        },
        "a9a27e9df0a84414b94a9cea572d7615": {
          "model_module": "@jupyter-widgets/controls",
          "model_name": "HBoxModel",
          "model_module_version": "1.5.0",
          "state": {
            "_dom_classes": [],
            "_model_module": "@jupyter-widgets/controls",
            "_model_module_version": "1.5.0",
            "_model_name": "HBoxModel",
            "_view_count": null,
            "_view_module": "@jupyter-widgets/controls",
            "_view_module_version": "1.5.0",
            "_view_name": "HBoxView",
            "box_style": "",
            "children": [
              "IPY_MODEL_f4b44bdaf0534c82862acc52b59ec7d9",
              "IPY_MODEL_e731dd372a644919a6dd1ba9b13235dd",
              "IPY_MODEL_1ef40b5ac76047f6921bcde6f9f62f96"
            ],
            "layout": "IPY_MODEL_c79580c825d0403da039fe7bcf3b8fc0"
          }
        },
        "f4b44bdaf0534c82862acc52b59ec7d9": {
          "model_module": "@jupyter-widgets/controls",
          "model_name": "HTMLModel",
          "model_module_version": "1.5.0",
          "state": {
            "_dom_classes": [],
            "_model_module": "@jupyter-widgets/controls",
            "_model_module_version": "1.5.0",
            "_model_name": "HTMLModel",
            "_view_count": null,
            "_view_module": "@jupyter-widgets/controls",
            "_view_module_version": "1.5.0",
            "_view_name": "HTMLView",
            "description": "",
            "description_tooltip": null,
            "layout": "IPY_MODEL_ec3642bf03e34ed3b4c872be4f3eab91",
            "placeholder": "​",
            "style": "IPY_MODEL_bb0826e49965483b89a89b7af0f741db",
            "value": "Finding Elimination Order: :   0%"
          }
        },
        "e731dd372a644919a6dd1ba9b13235dd": {
          "model_module": "@jupyter-widgets/controls",
          "model_name": "FloatProgressModel",
          "model_module_version": "1.5.0",
          "state": {
            "_dom_classes": [],
            "_model_module": "@jupyter-widgets/controls",
            "_model_module_version": "1.5.0",
            "_model_name": "FloatProgressModel",
            "_view_count": null,
            "_view_module": "@jupyter-widgets/controls",
            "_view_module_version": "1.5.0",
            "_view_name": "ProgressView",
            "bar_style": "",
            "description": "",
            "description_tooltip": null,
            "layout": "IPY_MODEL_c9726521545c40dd8ba805aa842d8261",
            "max": 1,
            "min": 0,
            "orientation": "horizontal",
            "style": "IPY_MODEL_c5dea77d5bbe42bfb97fd8f76a3db51e",
            "value": 0
          }
        },
        "1ef40b5ac76047f6921bcde6f9f62f96": {
          "model_module": "@jupyter-widgets/controls",
          "model_name": "HTMLModel",
          "model_module_version": "1.5.0",
          "state": {
            "_dom_classes": [],
            "_model_module": "@jupyter-widgets/controls",
            "_model_module_version": "1.5.0",
            "_model_name": "HTMLModel",
            "_view_count": null,
            "_view_module": "@jupyter-widgets/controls",
            "_view_module_version": "1.5.0",
            "_view_name": "HTMLView",
            "description": "",
            "description_tooltip": null,
            "layout": "IPY_MODEL_588b5029e8e64dc393120e9cbbbe15e0",
            "placeholder": "​",
            "style": "IPY_MODEL_d7d8d807ff43475b8d984abfe9653971",
            "value": " 0/1 [00:00&lt;?, ?it/s]"
          }
        },
        "c79580c825d0403da039fe7bcf3b8fc0": {
          "model_module": "@jupyter-widgets/base",
          "model_name": "LayoutModel",
          "model_module_version": "1.2.0",
          "state": {
            "_model_module": "@jupyter-widgets/base",
            "_model_module_version": "1.2.0",
            "_model_name": "LayoutModel",
            "_view_count": null,
            "_view_module": "@jupyter-widgets/base",
            "_view_module_version": "1.2.0",
            "_view_name": "LayoutView",
            "align_content": null,
            "align_items": null,
            "align_self": null,
            "border": null,
            "bottom": null,
            "display": null,
            "flex": null,
            "flex_flow": null,
            "grid_area": null,
            "grid_auto_columns": null,
            "grid_auto_flow": null,
            "grid_auto_rows": null,
            "grid_column": null,
            "grid_gap": null,
            "grid_row": null,
            "grid_template_areas": null,
            "grid_template_columns": null,
            "grid_template_rows": null,
            "height": null,
            "justify_content": null,
            "justify_items": null,
            "left": null,
            "margin": null,
            "max_height": null,
            "max_width": null,
            "min_height": null,
            "min_width": null,
            "object_fit": null,
            "object_position": null,
            "order": null,
            "overflow": null,
            "overflow_x": null,
            "overflow_y": null,
            "padding": null,
            "right": null,
            "top": null,
            "visibility": null,
            "width": null
          }
        },
        "ec3642bf03e34ed3b4c872be4f3eab91": {
          "model_module": "@jupyter-widgets/base",
          "model_name": "LayoutModel",
          "model_module_version": "1.2.0",
          "state": {
            "_model_module": "@jupyter-widgets/base",
            "_model_module_version": "1.2.0",
            "_model_name": "LayoutModel",
            "_view_count": null,
            "_view_module": "@jupyter-widgets/base",
            "_view_module_version": "1.2.0",
            "_view_name": "LayoutView",
            "align_content": null,
            "align_items": null,
            "align_self": null,
            "border": null,
            "bottom": null,
            "display": null,
            "flex": null,
            "flex_flow": null,
            "grid_area": null,
            "grid_auto_columns": null,
            "grid_auto_flow": null,
            "grid_auto_rows": null,
            "grid_column": null,
            "grid_gap": null,
            "grid_row": null,
            "grid_template_areas": null,
            "grid_template_columns": null,
            "grid_template_rows": null,
            "height": null,
            "justify_content": null,
            "justify_items": null,
            "left": null,
            "margin": null,
            "max_height": null,
            "max_width": null,
            "min_height": null,
            "min_width": null,
            "object_fit": null,
            "object_position": null,
            "order": null,
            "overflow": null,
            "overflow_x": null,
            "overflow_y": null,
            "padding": null,
            "right": null,
            "top": null,
            "visibility": null,
            "width": null
          }
        },
        "bb0826e49965483b89a89b7af0f741db": {
          "model_module": "@jupyter-widgets/controls",
          "model_name": "DescriptionStyleModel",
          "model_module_version": "1.5.0",
          "state": {
            "_model_module": "@jupyter-widgets/controls",
            "_model_module_version": "1.5.0",
            "_model_name": "DescriptionStyleModel",
            "_view_count": null,
            "_view_module": "@jupyter-widgets/base",
            "_view_module_version": "1.2.0",
            "_view_name": "StyleView",
            "description_width": ""
          }
        },
        "c9726521545c40dd8ba805aa842d8261": {
          "model_module": "@jupyter-widgets/base",
          "model_name": "LayoutModel",
          "model_module_version": "1.2.0",
          "state": {
            "_model_module": "@jupyter-widgets/base",
            "_model_module_version": "1.2.0",
            "_model_name": "LayoutModel",
            "_view_count": null,
            "_view_module": "@jupyter-widgets/base",
            "_view_module_version": "1.2.0",
            "_view_name": "LayoutView",
            "align_content": null,
            "align_items": null,
            "align_self": null,
            "border": null,
            "bottom": null,
            "display": null,
            "flex": null,
            "flex_flow": null,
            "grid_area": null,
            "grid_auto_columns": null,
            "grid_auto_flow": null,
            "grid_auto_rows": null,
            "grid_column": null,
            "grid_gap": null,
            "grid_row": null,
            "grid_template_areas": null,
            "grid_template_columns": null,
            "grid_template_rows": null,
            "height": null,
            "justify_content": null,
            "justify_items": null,
            "left": null,
            "margin": null,
            "max_height": null,
            "max_width": null,
            "min_height": null,
            "min_width": null,
            "object_fit": null,
            "object_position": null,
            "order": null,
            "overflow": null,
            "overflow_x": null,
            "overflow_y": null,
            "padding": null,
            "right": null,
            "top": null,
            "visibility": null,
            "width": null
          }
        },
        "c5dea77d5bbe42bfb97fd8f76a3db51e": {
          "model_module": "@jupyter-widgets/controls",
          "model_name": "ProgressStyleModel",
          "model_module_version": "1.5.0",
          "state": {
            "_model_module": "@jupyter-widgets/controls",
            "_model_module_version": "1.5.0",
            "_model_name": "ProgressStyleModel",
            "_view_count": null,
            "_view_module": "@jupyter-widgets/base",
            "_view_module_version": "1.2.0",
            "_view_name": "StyleView",
            "bar_color": null,
            "description_width": ""
          }
        },
        "588b5029e8e64dc393120e9cbbbe15e0": {
          "model_module": "@jupyter-widgets/base",
          "model_name": "LayoutModel",
          "model_module_version": "1.2.0",
          "state": {
            "_model_module": "@jupyter-widgets/base",
            "_model_module_version": "1.2.0",
            "_model_name": "LayoutModel",
            "_view_count": null,
            "_view_module": "@jupyter-widgets/base",
            "_view_module_version": "1.2.0",
            "_view_name": "LayoutView",
            "align_content": null,
            "align_items": null,
            "align_self": null,
            "border": null,
            "bottom": null,
            "display": null,
            "flex": null,
            "flex_flow": null,
            "grid_area": null,
            "grid_auto_columns": null,
            "grid_auto_flow": null,
            "grid_auto_rows": null,
            "grid_column": null,
            "grid_gap": null,
            "grid_row": null,
            "grid_template_areas": null,
            "grid_template_columns": null,
            "grid_template_rows": null,
            "height": null,
            "justify_content": null,
            "justify_items": null,
            "left": null,
            "margin": null,
            "max_height": null,
            "max_width": null,
            "min_height": null,
            "min_width": null,
            "object_fit": null,
            "object_position": null,
            "order": null,
            "overflow": null,
            "overflow_x": null,
            "overflow_y": null,
            "padding": null,
            "right": null,
            "top": null,
            "visibility": null,
            "width": null
          }
        },
        "d7d8d807ff43475b8d984abfe9653971": {
          "model_module": "@jupyter-widgets/controls",
          "model_name": "DescriptionStyleModel",
          "model_module_version": "1.5.0",
          "state": {
            "_model_module": "@jupyter-widgets/controls",
            "_model_module_version": "1.5.0",
            "_model_name": "DescriptionStyleModel",
            "_view_count": null,
            "_view_module": "@jupyter-widgets/base",
            "_view_module_version": "1.2.0",
            "_view_name": "StyleView",
            "description_width": ""
          }
        },
        "17274616c8f94797bcc89ca9ce3103bf": {
          "model_module": "@jupyter-widgets/controls",
          "model_name": "HBoxModel",
          "model_module_version": "1.5.0",
          "state": {
            "_dom_classes": [],
            "_model_module": "@jupyter-widgets/controls",
            "_model_module_version": "1.5.0",
            "_model_name": "HBoxModel",
            "_view_count": null,
            "_view_module": "@jupyter-widgets/controls",
            "_view_module_version": "1.5.0",
            "_view_name": "HBoxView",
            "box_style": "",
            "children": [
              "IPY_MODEL_69d7d705dacc48d6aa086467b2e36684",
              "IPY_MODEL_697ef1e54bc24edd89a603bbd41d30ff",
              "IPY_MODEL_757decb0f5534be2823f7be8dd3b249b"
            ],
            "layout": "IPY_MODEL_a3632bb8855b4f8c9c3e4ebb378188eb"
          }
        },
        "69d7d705dacc48d6aa086467b2e36684": {
          "model_module": "@jupyter-widgets/controls",
          "model_name": "HTMLModel",
          "model_module_version": "1.5.0",
          "state": {
            "_dom_classes": [],
            "_model_module": "@jupyter-widgets/controls",
            "_model_module_version": "1.5.0",
            "_model_name": "HTMLModel",
            "_view_count": null,
            "_view_module": "@jupyter-widgets/controls",
            "_view_module_version": "1.5.0",
            "_view_name": "HTMLView",
            "description": "",
            "description_tooltip": null,
            "layout": "IPY_MODEL_466ac4cdc85e4060a0420864b95ea2fe",
            "placeholder": "​",
            "style": "IPY_MODEL_c37284c84f16482d802687a0711a3dba",
            "value": "Eliminating: J: 100%"
          }
        },
        "697ef1e54bc24edd89a603bbd41d30ff": {
          "model_module": "@jupyter-widgets/controls",
          "model_name": "FloatProgressModel",
          "model_module_version": "1.5.0",
          "state": {
            "_dom_classes": [],
            "_model_module": "@jupyter-widgets/controls",
            "_model_module_version": "1.5.0",
            "_model_name": "FloatProgressModel",
            "_view_count": null,
            "_view_module": "@jupyter-widgets/controls",
            "_view_module_version": "1.5.0",
            "_view_name": "ProgressView",
            "bar_style": "success",
            "description": "",
            "description_tooltip": null,
            "layout": "IPY_MODEL_2955f8467d0f481486e0b7927bb475ba",
            "max": 1,
            "min": 0,
            "orientation": "horizontal",
            "style": "IPY_MODEL_117bdf1c6d9a4cfea17dac81dc1fe3be",
            "value": 1
          }
        },
        "757decb0f5534be2823f7be8dd3b249b": {
          "model_module": "@jupyter-widgets/controls",
          "model_name": "HTMLModel",
          "model_module_version": "1.5.0",
          "state": {
            "_dom_classes": [],
            "_model_module": "@jupyter-widgets/controls",
            "_model_module_version": "1.5.0",
            "_model_name": "HTMLModel",
            "_view_count": null,
            "_view_module": "@jupyter-widgets/controls",
            "_view_module_version": "1.5.0",
            "_view_name": "HTMLView",
            "description": "",
            "description_tooltip": null,
            "layout": "IPY_MODEL_461a1dce5e9d4159880f59eecc61b052",
            "placeholder": "​",
            "style": "IPY_MODEL_ee5efad28ee24eef9b68b417681f9e2e",
            "value": " 1/1 [00:00&lt;00:00, 19.29it/s]"
          }
        },
        "a3632bb8855b4f8c9c3e4ebb378188eb": {
          "model_module": "@jupyter-widgets/base",
          "model_name": "LayoutModel",
          "model_module_version": "1.2.0",
          "state": {
            "_model_module": "@jupyter-widgets/base",
            "_model_module_version": "1.2.0",
            "_model_name": "LayoutModel",
            "_view_count": null,
            "_view_module": "@jupyter-widgets/base",
            "_view_module_version": "1.2.0",
            "_view_name": "LayoutView",
            "align_content": null,
            "align_items": null,
            "align_self": null,
            "border": null,
            "bottom": null,
            "display": null,
            "flex": null,
            "flex_flow": null,
            "grid_area": null,
            "grid_auto_columns": null,
            "grid_auto_flow": null,
            "grid_auto_rows": null,
            "grid_column": null,
            "grid_gap": null,
            "grid_row": null,
            "grid_template_areas": null,
            "grid_template_columns": null,
            "grid_template_rows": null,
            "height": null,
            "justify_content": null,
            "justify_items": null,
            "left": null,
            "margin": null,
            "max_height": null,
            "max_width": null,
            "min_height": null,
            "min_width": null,
            "object_fit": null,
            "object_position": null,
            "order": null,
            "overflow": null,
            "overflow_x": null,
            "overflow_y": null,
            "padding": null,
            "right": null,
            "top": null,
            "visibility": null,
            "width": null
          }
        },
        "466ac4cdc85e4060a0420864b95ea2fe": {
          "model_module": "@jupyter-widgets/base",
          "model_name": "LayoutModel",
          "model_module_version": "1.2.0",
          "state": {
            "_model_module": "@jupyter-widgets/base",
            "_model_module_version": "1.2.0",
            "_model_name": "LayoutModel",
            "_view_count": null,
            "_view_module": "@jupyter-widgets/base",
            "_view_module_version": "1.2.0",
            "_view_name": "LayoutView",
            "align_content": null,
            "align_items": null,
            "align_self": null,
            "border": null,
            "bottom": null,
            "display": null,
            "flex": null,
            "flex_flow": null,
            "grid_area": null,
            "grid_auto_columns": null,
            "grid_auto_flow": null,
            "grid_auto_rows": null,
            "grid_column": null,
            "grid_gap": null,
            "grid_row": null,
            "grid_template_areas": null,
            "grid_template_columns": null,
            "grid_template_rows": null,
            "height": null,
            "justify_content": null,
            "justify_items": null,
            "left": null,
            "margin": null,
            "max_height": null,
            "max_width": null,
            "min_height": null,
            "min_width": null,
            "object_fit": null,
            "object_position": null,
            "order": null,
            "overflow": null,
            "overflow_x": null,
            "overflow_y": null,
            "padding": null,
            "right": null,
            "top": null,
            "visibility": null,
            "width": null
          }
        },
        "c37284c84f16482d802687a0711a3dba": {
          "model_module": "@jupyter-widgets/controls",
          "model_name": "DescriptionStyleModel",
          "model_module_version": "1.5.0",
          "state": {
            "_model_module": "@jupyter-widgets/controls",
            "_model_module_version": "1.5.0",
            "_model_name": "DescriptionStyleModel",
            "_view_count": null,
            "_view_module": "@jupyter-widgets/base",
            "_view_module_version": "1.2.0",
            "_view_name": "StyleView",
            "description_width": ""
          }
        },
        "2955f8467d0f481486e0b7927bb475ba": {
          "model_module": "@jupyter-widgets/base",
          "model_name": "LayoutModel",
          "model_module_version": "1.2.0",
          "state": {
            "_model_module": "@jupyter-widgets/base",
            "_model_module_version": "1.2.0",
            "_model_name": "LayoutModel",
            "_view_count": null,
            "_view_module": "@jupyter-widgets/base",
            "_view_module_version": "1.2.0",
            "_view_name": "LayoutView",
            "align_content": null,
            "align_items": null,
            "align_self": null,
            "border": null,
            "bottom": null,
            "display": null,
            "flex": null,
            "flex_flow": null,
            "grid_area": null,
            "grid_auto_columns": null,
            "grid_auto_flow": null,
            "grid_auto_rows": null,
            "grid_column": null,
            "grid_gap": null,
            "grid_row": null,
            "grid_template_areas": null,
            "grid_template_columns": null,
            "grid_template_rows": null,
            "height": null,
            "justify_content": null,
            "justify_items": null,
            "left": null,
            "margin": null,
            "max_height": null,
            "max_width": null,
            "min_height": null,
            "min_width": null,
            "object_fit": null,
            "object_position": null,
            "order": null,
            "overflow": null,
            "overflow_x": null,
            "overflow_y": null,
            "padding": null,
            "right": null,
            "top": null,
            "visibility": null,
            "width": null
          }
        },
        "117bdf1c6d9a4cfea17dac81dc1fe3be": {
          "model_module": "@jupyter-widgets/controls",
          "model_name": "ProgressStyleModel",
          "model_module_version": "1.5.0",
          "state": {
            "_model_module": "@jupyter-widgets/controls",
            "_model_module_version": "1.5.0",
            "_model_name": "ProgressStyleModel",
            "_view_count": null,
            "_view_module": "@jupyter-widgets/base",
            "_view_module_version": "1.2.0",
            "_view_name": "StyleView",
            "bar_color": null,
            "description_width": ""
          }
        },
        "461a1dce5e9d4159880f59eecc61b052": {
          "model_module": "@jupyter-widgets/base",
          "model_name": "LayoutModel",
          "model_module_version": "1.2.0",
          "state": {
            "_model_module": "@jupyter-widgets/base",
            "_model_module_version": "1.2.0",
            "_model_name": "LayoutModel",
            "_view_count": null,
            "_view_module": "@jupyter-widgets/base",
            "_view_module_version": "1.2.0",
            "_view_name": "LayoutView",
            "align_content": null,
            "align_items": null,
            "align_self": null,
            "border": null,
            "bottom": null,
            "display": null,
            "flex": null,
            "flex_flow": null,
            "grid_area": null,
            "grid_auto_columns": null,
            "grid_auto_flow": null,
            "grid_auto_rows": null,
            "grid_column": null,
            "grid_gap": null,
            "grid_row": null,
            "grid_template_areas": null,
            "grid_template_columns": null,
            "grid_template_rows": null,
            "height": null,
            "justify_content": null,
            "justify_items": null,
            "left": null,
            "margin": null,
            "max_height": null,
            "max_width": null,
            "min_height": null,
            "min_width": null,
            "object_fit": null,
            "object_position": null,
            "order": null,
            "overflow": null,
            "overflow_x": null,
            "overflow_y": null,
            "padding": null,
            "right": null,
            "top": null,
            "visibility": null,
            "width": null
          }
        },
        "ee5efad28ee24eef9b68b417681f9e2e": {
          "model_module": "@jupyter-widgets/controls",
          "model_name": "DescriptionStyleModel",
          "model_module_version": "1.5.0",
          "state": {
            "_model_module": "@jupyter-widgets/controls",
            "_model_module_version": "1.5.0",
            "_model_name": "DescriptionStyleModel",
            "_view_count": null,
            "_view_module": "@jupyter-widgets/base",
            "_view_module_version": "1.2.0",
            "_view_name": "StyleView",
            "description_width": ""
          }
        }
      }
    }
  },
  "cells": [
    {
      "cell_type": "markdown",
      "source": [
        "## Install"
      ],
      "metadata": {
        "id": "gf54HmAafCXF"
      }
    },
    {
      "cell_type": "code",
      "metadata": {
        "id": "yUsYD2aqbHD2"
      },
      "source": [
        "!pip install pgmpy\n",
        "#https://github.com/pgmpy/pgmpy\n",
        "#https://www.kaggle.com/lajq26/titanic-causal-analysis\n",
        "#https://www.bnlearn.com/bnrepository/"
      ],
      "execution_count": null,
      "outputs": []
    },
    {
      "cell_type": "code",
      "source": [
        "!apt-get install graphviz graphviz-dev\n",
        "!pip install pygraphviz"
      ],
      "metadata": {
        "id": "SkCsk04E1QOv"
      },
      "execution_count": null,
      "outputs": []
    },
    {
      "cell_type": "markdown",
      "source": [
        "## Defining a model"
      ],
      "metadata": {
        "id": "xg0QMlY739sU"
      }
    },
    {
      "cell_type": "code",
      "source": [
        "from IPython.core.interactiveshell import InteractiveShell\n",
        "InteractiveShell.ast_node_interactivity = \"all\""
      ],
      "metadata": {
        "id": "kxBziKrNfgqS"
      },
      "execution_count": null,
      "outputs": []
    },
    {
      "cell_type": "code",
      "metadata": {
        "id": "Exl6fcE-bR6S",
        "outputId": "2a57862e-bfb1-4da8-8198-5629be620377",
        "colab": {
          "base_uri": "https://localhost:8080/"
        }
      },
      "source": [
        "from pgmpy.models import BayesianModel\n",
        "from pgmpy.factors.discrete import TabularCPD\n",
        "\n",
        "model = BayesianModel([('A', 'J'), ('R', 'J'), ('J', 'Q'), ('J', 'L'), ('G', 'L')])\n",
        "cpd_a = TabularCPD('A', 2, values=[[0.2], [0.8]])\n",
        "cpd_r = TabularCPD('R', 2, values=[[0.4], [0.6]])\n",
        "cpd_j = TabularCPD('J', 2, values=[[0.9, 0.6, 0.7, 0.1],\n",
        "                                   [0.1, 0.4, 0.3, 0.9]],\n",
        "                  evidence=['A', 'R'], evidence_card=[2, 2])\n",
        "cpd_q = TabularCPD('Q', 2, values=[[0.9, 0.2], [0.1, 0.8]],\n",
        "                  evidence=['J'], evidence_card=[2])\n",
        "cpd_l = TabularCPD('L', 2, values=[[0.9, 0.45, 0.8, 0.1],\n",
        "                                   [0.1, 0.55, 0.2, 0.9]],\n",
        "                  evidence=['J', 'G'], evidence_card=[2, 2])\n",
        "cpd_g = TabularCPD('G', 2, values=[[0.6], [0.4]])\n",
        "\n",
        "model.add_cpds(cpd_a, cpd_r, cpd_j, cpd_q, cpd_l, cpd_g)"
      ],
      "execution_count": null,
      "outputs": [
        {
          "output_type": "stream",
          "name": "stderr",
          "text": [
            "/usr/local/lib/python3.7/dist-packages/pgmpy/models/BayesianModel.py:10: FutureWarning: BayesianModel has been renamed to BayesianNetwork. Please use BayesianNetwork class, BayesianModel will be removed in future.\n",
            "  FutureWarning,\n"
          ]
        }
      ]
    },
    {
      "cell_type": "code",
      "metadata": {
        "colab": {
          "base_uri": "https://localhost:8080/"
        },
        "id": "Er0baQ5-mXxg",
        "outputId": "c9e56f03-cb63-4312-f87b-3a8a485e6b6d"
      },
      "source": [
        "# We can now call some methods on the BayesianModel object.\n",
        "model.get_cpds()[1]"
      ],
      "execution_count": null,
      "outputs": [
        {
          "output_type": "execute_result",
          "data": {
            "text/plain": [
              "<TabularCPD representing P(R:2) at 0x7fd4df25a090>"
            ]
          },
          "metadata": {},
          "execution_count": 15
        }
      ]
    },
    {
      "cell_type": "code",
      "source": [
        "model.edges\n",
        "# model.variable_names"
      ],
      "metadata": {
        "colab": {
          "base_uri": "https://localhost:8080/"
        },
        "id": "oe0ThUGN221a",
        "outputId": "486d202f-6767-4714-ff51-951864603251"
      },
      "execution_count": null,
      "outputs": [
        {
          "output_type": "execute_result",
          "data": {
            "text/plain": [
              "OutEdgeView([('A', 'J'), ('J', 'Q'), ('J', 'L'), ('R', 'J'), ('G', 'L')])"
            ]
          },
          "metadata": {},
          "execution_count": 16
        }
      ]
    },
    {
      "cell_type": "code",
      "source": [
        "model.nodes"
      ],
      "metadata": {
        "colab": {
          "base_uri": "https://localhost:8080/"
        },
        "id": "BWtEvLzA3ljJ",
        "outputId": "e543ff0c-e50e-49df-9f8e-ce2589069157"
      },
      "execution_count": null,
      "outputs": [
        {
          "output_type": "execute_result",
          "data": {
            "text/plain": [
              "NodeView(('A', 'J', 'R', 'Q', 'L', 'G'))"
            ]
          },
          "metadata": {},
          "execution_count": 17
        }
      ]
    },
    {
      "cell_type": "markdown",
      "source": [
        "## Plot BN Graph"
      ],
      "metadata": {
        "id": "il8iKx1CcRco"
      }
    },
    {
      "cell_type": "code",
      "source": [
        "import networkx as nx\n",
        "from IPython.display import SVG, display\n",
        "G2 = nx.DiGraph()\n",
        "G2.add_nodes_from(model.nodes)\n",
        "G2.add_edges_from(model.edges)\n",
        "\n",
        "svg2 = SVG(nx.nx_agraph.to_agraph(G2).draw(prog='fdp', format='svg'))\n",
        "display(svg2)"
      ],
      "metadata": {
        "colab": {
          "base_uri": "https://localhost:8080/",
          "height": 300
        },
        "id": "_Vhi9aoL3t50",
        "outputId": "63f0ed9e-9a1d-4520-9a84-ce23d39021aa"
      },
      "execution_count": null,
      "outputs": [
        {
          "output_type": "display_data",
          "data": {
            "text/plain": [
              "<IPython.core.display.SVG object>"
            ],
            "image/svg+xml": "<svg height=\"209pt\" viewBox=\"0.00 0.00 199.00 209.00\" width=\"199pt\" xmlns=\"http://www.w3.org/2000/svg\" xmlns:xlink=\"http://www.w3.org/1999/xlink\">\n<g class=\"graph\" id=\"graph0\" transform=\"scale(1 1) rotate(0) translate(4 205)\">\n<polygon fill=\"#ffffff\" points=\"-4,4 -4,-205 195,-205 195,4 -4,4\" stroke=\"transparent\"/>\n<!-- A -->\n<g class=\"node\" id=\"node1\">\n<title>A</title>\n<ellipse cx=\"81.6416\" cy=\"-17.8473\" fill=\"none\" rx=\"27\" ry=\"18\" stroke=\"#000000\"/>\n<text fill=\"#000000\" font-family=\"Times,serif\" font-size=\"14.00\" text-anchor=\"middle\" x=\"81.6416\" y=\"-14.1473\">A</text>\n</g>\n<!-- J -->\n<g class=\"node\" id=\"node2\">\n<title>J</title>\n<ellipse cx=\"94.1789\" cy=\"-84.4009\" fill=\"none\" rx=\"27\" ry=\"18\" stroke=\"#000000\"/>\n<text fill=\"#000000\" font-family=\"Times,serif\" font-size=\"14.00\" text-anchor=\"middle\" x=\"94.1789\" y=\"-80.7009\">J</text>\n</g>\n<!-- A&#45;&gt;J -->\n<g class=\"edge\" id=\"edge1\">\n<title>A-&gt;J</title>\n<path d=\"M85.0674,-36.0334C86.2284,-42.1961 87.5543,-49.2349 88.8286,-55.999\" fill=\"none\" stroke=\"#000000\"/>\n<polygon fill=\"#000000\" points=\"85.4663,-57.0576 90.7572,-66.2368 92.3453,-55.7617 85.4663,-57.0576\" stroke=\"#000000\"/>\n</g>\n<!-- Q -->\n<g class=\"node\" id=\"node3\">\n<title>Q</title>\n<ellipse cx=\"163.6754\" cy=\"-69.9934\" fill=\"none\" rx=\"27\" ry=\"18\" stroke=\"#000000\"/>\n<text fill=\"#000000\" font-family=\"Times,serif\" font-size=\"14.00\" text-anchor=\"middle\" x=\"163.6754\" y=\"-66.2934\">Q</text>\n</g>\n<!-- J&#45;&gt;Q -->\n<g class=\"edge\" id=\"edge2\">\n<title>J-&gt;Q</title>\n<path d=\"M120.0568,-79.0361C122.5556,-78.518 125.12,-77.9864 127.6934,-77.4529\" fill=\"none\" stroke=\"#000000\"/>\n<polygon fill=\"#000000\" points=\"128.4628,-80.8679 137.5441,-75.4107 127.0418,-74.0136 128.4628,-80.8679\" stroke=\"#000000\"/>\n</g>\n<!-- L -->\n<g class=\"node\" id=\"node4\">\n<title>L</title>\n<ellipse cx=\"126.1919\" cy=\"-133.296\" fill=\"none\" rx=\"27\" ry=\"18\" stroke=\"#000000\"/>\n<text fill=\"#000000\" font-family=\"Times,serif\" font-size=\"14.00\" text-anchor=\"middle\" x=\"126.1919\" y=\"-129.596\">L</text>\n</g>\n<!-- J&#45;&gt;L -->\n<g class=\"edge\" id=\"edge3\">\n<title>J-&gt;L</title>\n<path d=\"M105.017,-100.9545C106.5815,-103.3441 108.2198,-105.8463 109.8627,-108.3555\" fill=\"none\" stroke=\"#000000\"/>\n<polygon fill=\"#000000\" points=\"106.959,-110.3103 115.3649,-116.7594 112.8154,-106.4759 106.959,-110.3103\" stroke=\"#000000\"/>\n</g>\n<!-- R -->\n<g class=\"node\" id=\"node5\">\n<title>R</title>\n<ellipse cx=\"26.8878\" cy=\"-95.6255\" fill=\"none\" rx=\"27\" ry=\"18\" stroke=\"#000000\"/>\n<text fill=\"#000000\" font-family=\"Times,serif\" font-size=\"14.00\" text-anchor=\"middle\" x=\"26.8878\" y=\"-91.9255\">R</text>\n</g>\n<!-- R&#45;&gt;J -->\n<g class=\"edge\" id=\"edge4\">\n<title>R-&gt;J</title>\n<path d=\"M53.097,-91.2536C54.6192,-90.9997 56.1628,-90.7422 57.7145,-90.4834\" fill=\"none\" stroke=\"#000000\"/>\n<polygon fill=\"#000000\" points=\"58.6427,-93.877 67.9306,-88.7793 57.4909,-86.9724 58.6427,-93.877\" stroke=\"#000000\"/>\n</g>\n<!-- G -->\n<g class=\"node\" id=\"node6\">\n<title>G</title>\n<ellipse cx=\"59.0203\" cy=\"-182.5865\" fill=\"none\" rx=\"27\" ry=\"18\" stroke=\"#000000\"/>\n<text fill=\"#000000\" font-family=\"Times,serif\" font-size=\"14.00\" text-anchor=\"middle\" x=\"59.0203\" y=\"-178.8865\">G</text>\n</g>\n<!-- G&#45;&gt;L -->\n<g class=\"edge\" id=\"edge5\">\n<title>G-&gt;L</title>\n<path d=\"M77.3752,-169.1177C84.1875,-164.1188 92.0605,-158.3416 99.4683,-152.9058\" fill=\"none\" stroke=\"#000000\"/>\n<polygon fill=\"#000000\" points=\"101.8675,-155.4865 107.8592,-146.7486 97.7263,-149.8429 101.8675,-155.4865\" stroke=\"#000000\"/>\n</g>\n</g>\n</svg>"
          },
          "metadata": {}
        }
      ]
    },
    {
      "cell_type": "markdown",
      "source": [
        "## Find Independencies"
      ],
      "metadata": {
        "id": "sMRiye7Sb2Qt"
      }
    },
    {
      "cell_type": "code",
      "source": [
        "model.local_independencies(\"J\")"
      ],
      "metadata": {
        "colab": {
          "base_uri": "https://localhost:8080/"
        },
        "id": "BM9qR-IMaxOs",
        "outputId": "0fcb2afe-af41-45e3-caff-0919de4095a5"
      },
      "execution_count": null,
      "outputs": [
        {
          "output_type": "execute_result",
          "data": {
            "text/plain": [
              "(J ⟂ G | R, A)"
            ]
          },
          "metadata": {},
          "execution_count": 19
        }
      ]
    },
    {
      "cell_type": "code",
      "source": [
        "model.get_independencies()"
      ],
      "metadata": {
        "id": "ldZ7vCOXa3rl",
        "colab": {
          "base_uri": "https://localhost:8080/"
        },
        "outputId": "025f6a0f-9bb6-4c82-ef34-02d306097436"
      },
      "execution_count": null,
      "outputs": [
        {
          "output_type": "execute_result",
          "data": {
            "text/plain": [
              "(R ⟂ G, A)\n",
              "(R ⟂ G | A)\n",
              "(R ⟂ G | Q)\n",
              "(R ⟂ A | G)\n",
              "(R ⟂ G, L, Q | J)\n",
              "(R ⟂ G | Q, A)\n",
              "(R ⟂ G, L, Q | A, J)\n",
              "(R ⟂ G, L | Q, J)\n",
              "(R ⟂ L, Q | G, J)\n",
              "(R ⟂ G, Q | L, J)\n",
              "(R ⟂ G, L | Q, A, J)\n",
              "(R ⟂ L, Q | G, A, J)\n",
              "(R ⟂ G, Q | L, A, J)\n",
              "(R ⟂ L | G, Q, J)\n",
              "(R ⟂ G | L, Q, J)\n",
              "(R ⟂ Q | G, L, J)\n",
              "(R ⟂ L | G, Q, A, J)\n",
              "(R ⟂ G | Q, L, A, J)\n",
              "(R ⟂ Q | G, L, A, J)\n",
              "(Q ⟂ G)\n",
              "(Q ⟂ G | R)\n",
              "(Q ⟂ G | A)\n",
              "(Q ⟂ G, R, L, A | J)\n",
              "(Q ⟂ G | R, A)\n",
              "(Q ⟂ G, L, A | R, J)\n",
              "(Q ⟂ G, R, L | A, J)\n",
              "(Q ⟂ R, L, A | G, J)\n",
              "(Q ⟂ G, R, A | L, J)\n",
              "(Q ⟂ G, L | R, A, J)\n",
              "(Q ⟂ L, A | G, R, J)\n",
              "(Q ⟂ G, A | R, L, J)\n",
              "(Q ⟂ R, L | G, A, J)\n",
              "(Q ⟂ G, R | L, A, J)\n",
              "(Q ⟂ R, A | G, L, J)\n",
              "(Q ⟂ L | G, R, A, J)\n",
              "(Q ⟂ G | R, L, A, J)\n",
              "(Q ⟂ A | G, R, L, J)\n",
              "(Q ⟂ R | G, L, A, J)\n",
              "(A ⟂ G, R)\n",
              "(A ⟂ G | R)\n",
              "(A ⟂ G | Q)\n",
              "(A ⟂ R | G)\n",
              "(A ⟂ G, L, Q | J)\n",
              "(A ⟂ G | R, Q)\n",
              "(A ⟂ G, L, Q | R, J)\n",
              "(A ⟂ G, L | Q, J)\n",
              "(A ⟂ L, Q | G, J)\n",
              "(A ⟂ G, Q | L, J)\n",
              "(A ⟂ G, L | R, Q, J)\n",
              "(A ⟂ L, Q | G, R, J)\n",
              "(A ⟂ G, Q | R, L, J)\n",
              "(A ⟂ L | G, Q, J)\n",
              "(A ⟂ G | L, Q, J)\n",
              "(A ⟂ Q | G, L, J)\n",
              "(A ⟂ L | G, R, Q, J)\n",
              "(A ⟂ G | R, L, Q, J)\n",
              "(A ⟂ Q | G, R, L, J)\n",
              "(G ⟂ Q, R, A, J)\n",
              "(G ⟂ A, Q, J | R)\n",
              "(G ⟂ R, Q, J | A)\n",
              "(G ⟂ R, A, J | Q)\n",
              "(G ⟂ A, R, Q | J)\n",
              "(G ⟂ Q, J | R, A)\n",
              "(G ⟂ A, J | R, Q)\n",
              "(G ⟂ A, Q | R, J)\n",
              "(G ⟂ R, J | Q, A)\n",
              "(G ⟂ R, Q | A, J)\n",
              "(G ⟂ R, A | Q, J)\n",
              "(G ⟂ A, R, Q | L, J)\n",
              "(G ⟂ J | Q, R, A)\n",
              "(G ⟂ Q | R, A, J)\n",
              "(G ⟂ A | R, Q, J)\n",
              "(G ⟂ A, Q | R, L, J)\n",
              "(G ⟂ R | Q, A, J)\n",
              "(G ⟂ R, Q | L, A, J)\n",
              "(G ⟂ R, A | L, Q, J)\n",
              "(G ⟂ Q | R, L, A, J)\n",
              "(G ⟂ A | R, L, Q, J)\n",
              "(G ⟂ R | Q, L, A, J)\n",
              "(L ⟂ A, R, Q | J)\n",
              "(L ⟂ A, Q | R, J)\n",
              "(L ⟂ R, Q | A, J)\n",
              "(L ⟂ R, A | Q, J)\n",
              "(L ⟂ A, R, Q | G, J)\n",
              "(L ⟂ Q | R, A, J)\n",
              "(L ⟂ A | R, Q, J)\n",
              "(L ⟂ A, Q | G, R, J)\n",
              "(L ⟂ R | Q, A, J)\n",
              "(L ⟂ R, Q | G, A, J)\n",
              "(L ⟂ R, A | G, Q, J)\n",
              "(L ⟂ Q | G, R, A, J)\n",
              "(L ⟂ A | G, R, Q, J)\n",
              "(L ⟂ R | G, Q, A, J)\n",
              "(J ⟂ G)\n",
              "(J ⟂ G | R)\n",
              "(J ⟂ G | A)\n",
              "(J ⟂ G | Q)\n",
              "(J ⟂ G | R, A)\n",
              "(J ⟂ G | R, Q)\n",
              "(J ⟂ G | Q, A)\n",
              "(J ⟂ G | Q, R, A)"
            ]
          },
          "metadata": {},
          "execution_count": 20
        }
      ]
    },
    {
      "cell_type": "markdown",
      "source": [
        "## Variable Elimination"
      ],
      "metadata": {
        "id": "FdeKmkpZb5nm"
      }
    },
    {
      "cell_type": "code",
      "source": [
        "from pgmpy.inference import VariableElimination\n",
        "\n",
        "infer = VariableElimination(model)\n",
        "posterior_p = infer.query([\"A\"], evidence={\"R\": 0, \"Q\": 1})\n",
        "print(posterior_p)"
      ],
      "metadata": {
        "colab": {
          "base_uri": "https://localhost:8080/",
          "height": 200,
          "referenced_widgets": [
            "a9a27e9df0a84414b94a9cea572d7615",
            "f4b44bdaf0534c82862acc52b59ec7d9",
            "e731dd372a644919a6dd1ba9b13235dd",
            "1ef40b5ac76047f6921bcde6f9f62f96",
            "c79580c825d0403da039fe7bcf3b8fc0",
            "ec3642bf03e34ed3b4c872be4f3eab91",
            "bb0826e49965483b89a89b7af0f741db",
            "c9726521545c40dd8ba805aa842d8261",
            "c5dea77d5bbe42bfb97fd8f76a3db51e",
            "588b5029e8e64dc393120e9cbbbe15e0",
            "d7d8d807ff43475b8d984abfe9653971",
            "17274616c8f94797bcc89ca9ce3103bf",
            "69d7d705dacc48d6aa086467b2e36684",
            "697ef1e54bc24edd89a603bbd41d30ff",
            "757decb0f5534be2823f7be8dd3b249b",
            "a3632bb8855b4f8c9c3e4ebb378188eb",
            "466ac4cdc85e4060a0420864b95ea2fe",
            "c37284c84f16482d802687a0711a3dba",
            "2955f8467d0f481486e0b7927bb475ba",
            "117bdf1c6d9a4cfea17dac81dc1fe3be",
            "461a1dce5e9d4159880f59eecc61b052",
            "ee5efad28ee24eef9b68b417681f9e2e"
          ]
        },
        "id": "2ksO3Xy1bRE5",
        "outputId": "c5985b36-798a-461a-b771-75729bc6bf92"
      },
      "execution_count": null,
      "outputs": [
        {
          "output_type": "display_data",
          "data": {
            "text/plain": [
              "  0%|          | 0/1 [00:00<?, ?it/s]"
            ],
            "application/vnd.jupyter.widget-view+json": {
              "version_major": 2,
              "version_minor": 0,
              "model_id": "a9a27e9df0a84414b94a9cea572d7615"
            }
          },
          "metadata": {}
        },
        {
          "output_type": "display_data",
          "data": {
            "text/plain": [
              "  0%|          | 0/1 [00:00<?, ?it/s]"
            ],
            "application/vnd.jupyter.widget-view+json": {
              "version_major": 2,
              "version_minor": 0,
              "model_id": "17274616c8f94797bcc89ca9ce3103bf"
            }
          },
          "metadata": {}
        },
        {
          "output_type": "stream",
          "name": "stdout",
          "text": [
            "+------+----------+\n",
            "| A    |   phi(A) |\n",
            "+======+==========+\n",
            "| A(0) |   0.1206 |\n",
            "+------+----------+\n",
            "| A(1) |   0.8794 |\n",
            "+------+----------+\n"
          ]
        }
      ]
    },
    {
      "cell_type": "markdown",
      "source": [
        "## D-Separation & Active Trail"
      ],
      "metadata": {
        "id": "GQewyRP7b8jU"
      }
    },
    {
      "cell_type": "code",
      "source": [
        "# Check for d-separation between variables\n",
        "print(model.is_dconnected(\"J\", \"G\"))\n",
        "print(model.is_dconnected(\"G\", \"J\", observed=[\"L\"]))\n",
        "model.active_trail_nodes(\"J\")"
      ],
      "metadata": {
        "colab": {
          "base_uri": "https://localhost:8080/"
        },
        "id": "EbERenbYcBr-",
        "outputId": "0ac8975d-24ac-430c-99cf-5d849094bbac"
      },
      "execution_count": null,
      "outputs": [
        {
          "output_type": "stream",
          "name": "stdout",
          "text": [
            "False\n",
            "True\n"
          ]
        },
        {
          "output_type": "execute_result",
          "data": {
            "text/plain": [
              "{'J': {'A', 'J', 'L', 'Q', 'R'}}"
            ]
          },
          "metadata": {},
          "execution_count": 25
        }
      ]
    },
    {
      "cell_type": "markdown",
      "source": [
        "## Inference"
      ],
      "metadata": {
        "id": "IbdYK0UHdwfa"
      }
    },
    {
      "cell_type": "code",
      "source": [
        "# Computing the joint probability of bronc and asia given smoke=yes\n",
        "\n",
        "infer = VariableElimination(model)\n",
        "q = infer.query(variables=[\"G\", \"J\"], evidence={\"R\": 0})\n",
        "print(q)\n",
        "\n",
        "# Computing the probabilities (not joint) of bronc and asia given smoke=no\n",
        "q = infer.query(variables=[\"G\", \"J\"], evidence={\"R\": 1}, joint=False)\n",
        "for factor in q.values():\n",
        "    print(factor)"
      ],
      "metadata": {
        "colab": {
          "base_uri": "https://localhost:8080/",
          "height": 579,
          "referenced_widgets": [
            "c6a065fc26c042f99918693919e3d8d8",
            "f53c270e617a4f2184cfab392bf4b700",
            "28851dcdaea84d7aad6bcf988edc8033",
            "030addbccb8b45fbb68d151f97be4e44",
            "5c5f545b6134474d9212492c5dc8b0f8",
            "f75af025ee594680aaabd520ce496b1b",
            "476f3f240ea447faad66ac48d0e232a1",
            "06004fdff5f84cd299353bf1a4a48543",
            "a5a53e82ff7d45bf9986c343d0860496",
            "86e062659cf3435eb38a08eabc932a78",
            "16d40ffaf4dd44879503ae8f21c62dfe",
            "7e2e1996e1d14de58262364435a1713b",
            "da56341c1052415886c129658ff51366",
            "a6cff23f6d064b9b834e53ba321c5e62",
            "e41b264b7cb94b9b9ca72e438e07edd3",
            "89ea5f797de2441e9443364a9a6faec9",
            "53a052a2d7a6481aa9fc338b796a2a05",
            "c60b16ff3cca406786839c7667c15b81",
            "bcacd5714f2045a3ac82efdeb9aaa317",
            "daab6d1fd1164e74ab9637a730a8da59",
            "c514a4501b764d79b309599e24c80776",
            "6f0b0d550d1a4d03ac39c8111c29f4f3",
            "074f80ecb75f499b87772c6b191dbb90",
            "5874c4189348470fb1467e03250f8207",
            "02687f2a811a4a11a2dd159a3c49d6a6",
            "5c782bf1d7294b4e99bad52dc50f78bc",
            "81ba4a3cd8514db78d848efece805401",
            "a8878459a2c54df79a9ad520a6eaec55",
            "b523c5e72b0d444e8ee23707fb6b45b7",
            "523d4167a44e440782aaa6565369ffcf",
            "155c184ee6a04b8e8c46714eaa6899e2",
            "b99b52f2c7b54383a602af1bd6bbec01",
            "9fb727aa6abe41eea3f1895c448e122f",
            "386c31f225284e5abd4e3b23021abb19",
            "817d591248954072a1e29ccfaf78d06a",
            "9e215393d9d5493f893cc4f558c4366b",
            "cd4879279bec40eca1f0d51812697187",
            "cc478fb36a9348a5be32cad2284c69ad",
            "06d957d81a5a4468a984606240f4c831",
            "573ead5d405e4ae399a1934849f39208",
            "6cadc3ad78484deb9f345fa9c9a7f747",
            "953036036bce47999ee16dc251e0f85a",
            "1a7ec3ab92494151b6b935726f664b00",
            "26e765c587b649b3a32625de9d7d528e"
          ]
        },
        "id": "nah60By1dI32",
        "outputId": "66f82059-67c8-4f11-dbbc-3c8eacabac11"
      },
      "execution_count": null,
      "outputs": [
        {
          "output_type": "display_data",
          "data": {
            "application/vnd.jupyter.widget-view+json": {
              "model_id": "c6a065fc26c042f99918693919e3d8d8",
              "version_minor": 0,
              "version_major": 2
            },
            "text/plain": [
              "  0%|          | 0/1 [00:00<?, ?it/s]"
            ]
          },
          "metadata": {}
        },
        {
          "output_type": "display_data",
          "data": {
            "application/vnd.jupyter.widget-view+json": {
              "model_id": "7e2e1996e1d14de58262364435a1713b",
              "version_minor": 0,
              "version_major": 2
            },
            "text/plain": [
              "  0%|          | 0/1 [00:00<?, ?it/s]"
            ]
          },
          "metadata": {}
        },
        {
          "output_type": "stream",
          "name": "stdout",
          "text": [
            "+------+------+------------+\n",
            "| G    | J    |   phi(G,J) |\n",
            "+======+======+============+\n",
            "| G(0) | J(0) |     0.4440 |\n",
            "+------+------+------------+\n",
            "| G(0) | J(1) |     0.1560 |\n",
            "+------+------+------------+\n",
            "| G(1) | J(0) |     0.2960 |\n",
            "+------+------+------------+\n",
            "| G(1) | J(1) |     0.1040 |\n",
            "+------+------+------------+\n"
          ]
        },
        {
          "output_type": "display_data",
          "data": {
            "application/vnd.jupyter.widget-view+json": {
              "model_id": "074f80ecb75f499b87772c6b191dbb90",
              "version_minor": 0,
              "version_major": 2
            },
            "text/plain": [
              "  0%|          | 0/1 [00:00<?, ?it/s]"
            ]
          },
          "metadata": {}
        },
        {
          "output_type": "display_data",
          "data": {
            "application/vnd.jupyter.widget-view+json": {
              "model_id": "386c31f225284e5abd4e3b23021abb19",
              "version_minor": 0,
              "version_major": 2
            },
            "text/plain": [
              "  0%|          | 0/1 [00:00<?, ?it/s]"
            ]
          },
          "metadata": {}
        },
        {
          "output_type": "stream",
          "name": "stdout",
          "text": [
            "+------+----------+\n",
            "| G    |   phi(G) |\n",
            "+======+==========+\n",
            "| G(0) |   0.6000 |\n",
            "+------+----------+\n",
            "| G(1) |   0.4000 |\n",
            "+------+----------+\n",
            "+------+----------+\n",
            "| J    |   phi(J) |\n",
            "+======+==========+\n",
            "| J(0) |   0.2000 |\n",
            "+------+----------+\n",
            "| J(1) |   0.8000 |\n",
            "+------+----------+\n"
          ]
        }
      ]
    },
    {
      "cell_type": "code",
      "source": [
        "# Non adjusted inference\n",
        "infer_non_adjust = VariableElimination(model)\n",
        "print(infer_non_adjust.query(variables=[\"L\"], evidence={\"R\": 1}))\n",
        "print(infer_non_adjust.query(variables=[\"L\"], evidence={\"R\": 0}))"
      ],
      "metadata": {
        "colab": {
          "base_uri": "https://localhost:8080/",
          "height": 388,
          "referenced_widgets": [
            "e86539f0d89e4fd6a4d69856431c7c34",
            "b9010b38d7c648be9d414f22871ac913",
            "300ef8df4b2c4c63a1176f1d3d32a4a4",
            "2edfaa5c389f4cfe9458a0697454100d",
            "7304e8e4b32c4b1db92168560568e14f",
            "e9c3d7c543534cfa99fb1e439d1685a8",
            "92b4937aa58f4dd5a75c5e321d9ff461",
            "5a88eeb2392f44fb826bc80b336726cb",
            "fafd0535eb7a43d5a40b35ff74d11bda",
            "e060c12b9d80403a86f00d4e27318542",
            "b3cc6d2c7bbc411fb471afd8c5b458bd",
            "4569b5ac42aa43318de91de1b2ff7870",
            "2be828d528c24b9a98491ec64b5cb038",
            "ac660605eeca4a95868d97cf35944668",
            "e8dffa75e66f40889ab30dd8f785bb68",
            "70df5738f1124d909e126045c4845c17",
            "8857aa28b8574c0a931dade2b45e982a",
            "9219bc9cf3314c22a39f762ef5ecc6cc",
            "985fbf55f1664a46af5eee62e31f9cb4",
            "fe72e7c4a5e644afa1b11e1ddf1d45aa",
            "4cbe4d54e3c24fd7b89239230b9b50df",
            "336e6b93ffcf4dea99999daed46ab952",
            "43fd215f78fe4d7b9cbbfa4e688552f5",
            "e241371f3cf244a0b8e10c92f7af8f02",
            "b2e723090d3643228cf053c024bb9bc4",
            "78b56282e85847589d7abcfb05d1e7ca",
            "721e725af10a4c86be05230c16e03824",
            "98ed6607db2b46f4960f1379e4030b35",
            "a5d229e3a554461ab56d3c4525a3d6b0",
            "df7e299c33d8414d924ac0b5a55378b0",
            "f201a06317364be0ac2196f9c2032c15",
            "73ca44df485342c09ada50f77430cffe",
            "27d34a00993a4b6eb637627ef885105b",
            "1a33180c88ab4aee9b94ba45c4004e0b",
            "1b97f604cf0d4f2cbe371e69e17b3902",
            "6ecec4e2aeea4686bfa3e0aaea20b796",
            "a25ee3a60d484a739d392b50346f49f5",
            "9be6cc5a94d245bab512fbcf79dcfd5c",
            "5d0842f5e7c34865b57cb5ca8c1ed0a8",
            "745c0ae2f9514587abebce87fd748422",
            "28df295879dc4e25babb8a52f3227422",
            "654e447a4bff41d6b83695b420a00820",
            "d4516d3389d7412aa304cad13aca08c7",
            "c3cf6a78bc7b4652a24a571a0bfde082"
          ]
        },
        "id": "NDM6HTFceogz",
        "outputId": "7d71f37d-944c-4058-ec52-ac25c890ffa2"
      },
      "execution_count": null,
      "outputs": [
        {
          "output_type": "display_data",
          "data": {
            "application/vnd.jupyter.widget-view+json": {
              "model_id": "e86539f0d89e4fd6a4d69856431c7c34",
              "version_minor": 0,
              "version_major": 2
            },
            "text/plain": [
              "  0%|          | 0/3 [00:00<?, ?it/s]"
            ]
          },
          "metadata": {}
        },
        {
          "output_type": "display_data",
          "data": {
            "application/vnd.jupyter.widget-view+json": {
              "model_id": "4569b5ac42aa43318de91de1b2ff7870",
              "version_minor": 0,
              "version_major": 2
            },
            "text/plain": [
              "  0%|          | 0/3 [00:00<?, ?it/s]"
            ]
          },
          "metadata": {}
        },
        {
          "output_type": "stream",
          "name": "stdout",
          "text": [
            "+------+----------+\n",
            "| L    |   phi(L) |\n",
            "+======+==========+\n",
            "| L(0) |   0.5600 |\n",
            "+------+----------+\n",
            "| L(1) |   0.4400 |\n",
            "+------+----------+\n"
          ]
        },
        {
          "output_type": "display_data",
          "data": {
            "application/vnd.jupyter.widget-view+json": {
              "model_id": "43fd215f78fe4d7b9cbbfa4e688552f5",
              "version_minor": 0,
              "version_major": 2
            },
            "text/plain": [
              "  0%|          | 0/3 [00:00<?, ?it/s]"
            ]
          },
          "metadata": {}
        },
        {
          "output_type": "display_data",
          "data": {
            "application/vnd.jupyter.widget-view+json": {
              "model_id": "1a33180c88ab4aee9b94ba45c4004e0b",
              "version_minor": 0,
              "version_major": 2
            },
            "text/plain": [
              "  0%|          | 0/3 [00:00<?, ?it/s]"
            ]
          },
          "metadata": {}
        },
        {
          "output_type": "stream",
          "name": "stdout",
          "text": [
            "+------+----------+\n",
            "| L    |   phi(L) |\n",
            "+======+==========+\n",
            "| L(0) |   0.6680 |\n",
            "+------+----------+\n",
            "| L(1) |   0.3320 |\n",
            "+------+----------+\n"
          ]
        }
      ]
    },
    {
      "cell_type": "code",
      "source": [
        "from pgmpy.inference import CausalInference\n",
        "infer_adjusted = CausalInference(model)\n",
        "print(infer_adjusted.query(variables=[\"L\"], do={\"R\": 1}))\n",
        "print(infer_adjusted.query(variables=[\"L\"], do={\"R\": 0}))"
      ],
      "metadata": {
        "colab": {
          "base_uri": "https://localhost:8080/"
        },
        "id": "j1gMj7uDeyJD",
        "outputId": "75ca8244-8300-4c06-c562-64e8e16989f7"
      },
      "execution_count": null,
      "outputs": [
        {
          "output_type": "stream",
          "name": "stdout",
          "text": [
            "+------+----------+\n",
            "| L    |   phi(L) |\n",
            "+======+==========+\n",
            "| L(0) |   0.5600 |\n",
            "+------+----------+\n",
            "| L(1) |   0.4400 |\n",
            "+------+----------+\n",
            "+------+----------+\n",
            "| L    |   phi(L) |\n",
            "+======+==========+\n",
            "| L(0) |   0.6680 |\n",
            "+------+----------+\n",
            "| L(1) |   0.3320 |\n",
            "+------+----------+\n"
          ]
        }
      ]
    },
    {
      "cell_type": "markdown",
      "source": [
        "## Example Model"
      ],
      "metadata": {
        "id": "xBB794J3X7Kx"
      }
    },
    {
      "cell_type": "code",
      "source": [
        "from pgmpy.utils import get_example_model"
      ],
      "metadata": {
        "id": "OTZXWQ-zX5af"
      },
      "execution_count": null,
      "outputs": []
    },
    {
      "cell_type": "code",
      "source": [
        "#water , diabetes\n",
        "diab_model = get_example_model('water')"
      ],
      "metadata": {
        "id": "eM1qQlCUYSLh"
      },
      "execution_count": null,
      "outputs": []
    },
    {
      "cell_type": "code",
      "source": [
        "import networkx as nx\n",
        "from IPython.display import SVG, display\n",
        "G2 = nx.DiGraph()\n",
        "G2.add_nodes_from(diab_model.nodes)\n",
        "G2.add_edges_from(diab_model.edges)\n",
        "\n",
        "svg2 = SVG(nx.nx_agraph.to_agraph(G2).draw(prog='fdp', format='svg'))\n",
        "display(svg2)"
      ],
      "metadata": {
        "id": "OfkBtXgjYsr7"
      },
      "execution_count": null,
      "outputs": []
    },
    {
      "cell_type": "markdown",
      "source": [
        "## Load Network from bif file"
      ],
      "metadata": {
        "id": "AeAewFEL4Dcz"
      }
    },
    {
      "cell_type": "code",
      "source": [
        "from pgmpy.readwrite import BIFReader\n",
        "reader = BIFReader(\"insurance.bif\")"
      ],
      "metadata": {
        "id": "z9wjhEkNzWxL"
      },
      "execution_count": null,
      "outputs": []
    },
    {
      "cell_type": "code",
      "source": [
        "reader.get_edges()\n",
        "reader.variable_names"
      ],
      "metadata": {
        "id": "I6nMD26lz-0F"
      },
      "execution_count": null,
      "outputs": []
    },
    {
      "cell_type": "code",
      "source": [
        "import networkx as nx\n",
        "from IPython.display import SVG, display\n",
        "G2 = nx.DiGraph()\n",
        "G2.add_nodes_from(reader.variable_names)\n",
        "G2.add_edges_from(reader.get_edges())\n",
        "\n",
        "svg2 = SVG(nx.nx_agraph.to_agraph(G2).draw(prog='fdp', format='svg'))\n",
        "display(svg2)"
      ],
      "metadata": {
        "id": "n4O1K9Xk0oLO",
        "outputId": "367e6f15-b56d-4ae6-b53b-3ae205a8705a",
        "colab": {
          "base_uri": "https://localhost:8080/",
          "height": 921
        }
      },
      "execution_count": null,
      "outputs": [
        {
          "output_type": "display_data",
          "data": {
            "text/plain": [
              "<IPython.core.display.SVG object>"
            ],
            "image/svg+xml": "<svg height=\"660pt\" viewBox=\"0.00 0.00 880.00 660.00\" width=\"880pt\" xmlns=\"http://www.w3.org/2000/svg\" xmlns:xlink=\"http://www.w3.org/1999/xlink\">\n<g class=\"graph\" id=\"graph0\" transform=\"scale(1 1) rotate(0) translate(4 656)\">\n<polygon fill=\"#ffffff\" points=\"-4,4 -4,-656 876,-656 876,4 -4,4\" stroke=\"transparent\"/>\n<!-- Age -->\n<g class=\"node\" id=\"node1\">\n<title>Age</title>\n<ellipse cx=\"656.3534\" cy=\"-322.5191\" fill=\"none\" rx=\"27\" ry=\"18\" stroke=\"#000000\"/>\n<text fill=\"#000000\" font-family=\"Times,serif\" font-size=\"14.00\" text-anchor=\"middle\" x=\"656.3534\" y=\"-318.8191\">Age</text>\n</g>\n<!-- GoodStudent -->\n<g class=\"node\" id=\"node2\">\n<title>GoodStudent</title>\n<ellipse cx=\"752.8541\" cy=\"-180.1567\" fill=\"none\" rx=\"61.1893\" ry=\"18\" stroke=\"#000000\"/>\n<text fill=\"#000000\" font-family=\"Times,serif\" font-size=\"14.00\" text-anchor=\"middle\" x=\"752.8541\" y=\"-176.4567\">GoodStudent</text>\n</g>\n<!-- Age&#45;&gt;GoodStudent -->\n<g class=\"edge\" id=\"edge1\">\n<title>Age-&gt;GoodStudent</title>\n<path d=\"M667.6121,-305.9097C684.1932,-281.4485 715.3399,-235.4994 735.0421,-206.4338\" fill=\"none\" stroke=\"#000000\"/>\n<polygon fill=\"#000000\" points=\"738.0465,-208.2393 740.7604,-197.9979 732.2522,-204.3116 738.0465,-208.2393\" stroke=\"#000000\"/>\n</g>\n<!-- SocioEcon -->\n<g class=\"node\" id=\"node3\">\n<title>SocioEcon</title>\n<ellipse cx=\"616.0164\" cy=\"-155.4361\" fill=\"none\" rx=\"51.9908\" ry=\"18\" stroke=\"#000000\"/>\n<text fill=\"#000000\" font-family=\"Times,serif\" font-size=\"14.00\" text-anchor=\"middle\" x=\"616.0164\" y=\"-151.7361\">SocioEcon</text>\n</g>\n<!-- Age&#45;&gt;SocioEcon -->\n<g class=\"edge\" id=\"edge2\">\n<title>Age-&gt;SocioEcon</title>\n<path d=\"M652.0366,-304.6383C645.0191,-275.5707 631.0851,-217.8532 622.7547,-183.3471\" fill=\"none\" stroke=\"#000000\"/>\n<polygon fill=\"#000000\" points=\"626.1122,-182.3402 620.3631,-173.4409 619.3077,-183.983 626.1122,-182.3402\" stroke=\"#000000\"/>\n</g>\n<!-- RiskAversion -->\n<g class=\"node\" id=\"node4\">\n<title>RiskAversion</title>\n<ellipse cx=\"621.2584\" cy=\"-219.83\" fill=\"none\" rx=\"61.99\" ry=\"18\" stroke=\"#000000\"/>\n<text fill=\"#000000\" font-family=\"Times,serif\" font-size=\"14.00\" text-anchor=\"middle\" x=\"621.2584\" y=\"-216.13\">RiskAversion</text>\n</g>\n<!-- Age&#45;&gt;RiskAversion -->\n<g class=\"edge\" id=\"edge3\">\n<title>Age-&gt;RiskAversion</title>\n<path d=\"M650.2403,-304.6321C644.8384,-288.8261 636.876,-265.5277 630.6633,-247.3491\" fill=\"none\" stroke=\"#000000\"/>\n<polygon fill=\"#000000\" points=\"633.9651,-246.1874 627.4192,-237.8567 627.3412,-248.4512 633.9651,-246.1874\" stroke=\"#000000\"/>\n</g>\n<!-- DrivingSkill -->\n<g class=\"node\" id=\"node5\">\n<title>DrivingSkill</title>\n<ellipse cx=\"771.9991\" cy=\"-387.0387\" fill=\"none\" rx=\"57.6901\" ry=\"18\" stroke=\"#000000\"/>\n<text fill=\"#000000\" font-family=\"Times,serif\" font-size=\"14.00\" text-anchor=\"middle\" x=\"771.9991\" y=\"-383.3387\">DrivingSkill</text>\n</g>\n<!-- Age&#45;&gt;DrivingSkill -->\n<g class=\"edge\" id=\"edge4\">\n<title>Age-&gt;DrivingSkill</title>\n<path d=\"M677.2959,-334.2032C693.3665,-343.169 715.96,-355.7742 735.0485,-366.4237\" fill=\"none\" stroke=\"#000000\"/>\n<polygon fill=\"#000000\" points=\"733.376,-369.4985 743.8141,-371.3141 736.7865,-363.3855 733.376,-369.4985\" stroke=\"#000000\"/>\n</g>\n<!-- SeniorTrain -->\n<g class=\"node\" id=\"node6\">\n<title>SeniorTrain</title>\n<ellipse cx=\"780.1506\" cy=\"-325.1824\" fill=\"none\" rx=\"54.6905\" ry=\"18\" stroke=\"#000000\"/>\n<text fill=\"#000000\" font-family=\"Times,serif\" font-size=\"14.00\" text-anchor=\"middle\" x=\"780.1506\" y=\"-321.4824\">SeniorTrain</text>\n</g>\n<!-- Age&#45;&gt;SeniorTrain -->\n<g class=\"edge\" id=\"edge5\">\n<title>Age-&gt;SeniorTrain</title>\n<path d=\"M683.5212,-323.1036C693.0031,-323.3076 704.0926,-323.5462 715.3111,-323.7875\" fill=\"none\" stroke=\"#000000\"/>\n<polygon fill=\"#000000\" points=\"715.5348,-327.293 725.6078,-324.009 715.6854,-320.2947 715.5348,-327.293\" stroke=\"#000000\"/>\n</g>\n<!-- MedCost -->\n<g class=\"node\" id=\"node7\">\n<title>MedCost</title>\n<ellipse cx=\"476.6531\" cy=\"-398.7096\" fill=\"none\" rx=\"44.6926\" ry=\"18\" stroke=\"#000000\"/>\n<text fill=\"#000000\" font-family=\"Times,serif\" font-size=\"14.00\" text-anchor=\"middle\" x=\"476.6531\" y=\"-395.0096\">MedCost</text>\n</g>\n<!-- Age&#45;&gt;MedCost -->\n<g class=\"edge\" id=\"edge6\">\n<title>Age-&gt;MedCost</title>\n<path d=\"M633.2286,-332.3237C603.8167,-344.794 552.5515,-366.5297 516.7206,-381.7216\" fill=\"none\" stroke=\"#000000\"/>\n<polygon fill=\"#000000\" points=\"515.3516,-378.5003 507.5112,-385.6262 518.0841,-384.945 515.3516,-378.5003\" stroke=\"#000000\"/>\n</g>\n<!-- SocioEcon&#45;&gt;GoodStudent -->\n<g class=\"edge\" id=\"edge7\">\n<title>SocioEcon-&gt;GoodStudent</title>\n<path d=\"M662.3434,-163.8054C671.3398,-165.4306 680.9071,-167.159 690.3245,-168.8603\" fill=\"none\" stroke=\"#000000\"/>\n<polygon fill=\"#000000\" points=\"689.9874,-172.356 700.4504,-170.6896 691.2319,-165.4675 689.9874,-172.356\" stroke=\"#000000\"/>\n</g>\n<!-- SocioEcon&#45;&gt;RiskAversion -->\n<g class=\"edge\" id=\"edge8\">\n<title>SocioEcon-&gt;RiskAversion</title>\n<path d=\"M617.5045,-173.7165C617.951,-179.201 618.4518,-185.3526 618.9385,-191.3318\" fill=\"none\" stroke=\"#000000\"/>\n<polygon fill=\"#000000\" points=\"615.4848,-192.0437 619.7847,-201.7267 622.4617,-191.4757 615.4848,-192.0437\" stroke=\"#000000\"/>\n</g>\n<!-- VehicleYear -->\n<g class=\"node\" id=\"node8\">\n<title>VehicleYear</title>\n<ellipse cx=\"441.1609\" cy=\"-167.747\" fill=\"none\" rx=\"54.6905\" ry=\"18\" stroke=\"#000000\"/>\n<text fill=\"#000000\" font-family=\"Times,serif\" font-size=\"14.00\" text-anchor=\"middle\" x=\"441.1609\" y=\"-164.047\">VehicleYear</text>\n</g>\n<!-- SocioEcon&#45;&gt;VehicleYear -->\n<g class=\"edge\" id=\"edge9\">\n<title>SocioEcon-&gt;VehicleYear</title>\n<path d=\"M564.9709,-159.03C546.172,-160.3535 524.6416,-161.8694 504.8637,-163.2619\" fill=\"none\" stroke=\"#000000\"/>\n<polygon fill=\"#000000\" points=\"504.4341,-159.7834 494.7046,-163.9772 504.9257,-166.7661 504.4341,-159.7834\" stroke=\"#000000\"/>\n</g>\n<!-- MakeModel -->\n<g class=\"node\" id=\"node9\">\n<title>MakeModel</title>\n<ellipse cx=\"451.6182\" cy=\"-229.0263\" fill=\"none\" rx=\"55.7903\" ry=\"18\" stroke=\"#000000\"/>\n<text fill=\"#000000\" font-family=\"Times,serif\" font-size=\"14.00\" text-anchor=\"middle\" x=\"451.6182\" y=\"-225.3263\">MakeModel</text>\n</g>\n<!-- SocioEcon&#45;&gt;MakeModel -->\n<g class=\"edge\" id=\"edge10\">\n<title>SocioEcon-&gt;MakeModel</title>\n<path d=\"M583.9285,-169.7997C558.155,-181.3368 521.7527,-197.6317 493.653,-210.2101\" fill=\"none\" stroke=\"#000000\"/>\n<polygon fill=\"#000000\" points=\"492.1665,-207.0408 484.4692,-214.3211 495.0265,-213.4299 492.1665,-207.0408\" stroke=\"#000000\"/>\n</g>\n<!-- HomeBase -->\n<g class=\"node\" id=\"node10\">\n<title>HomeBase</title>\n<ellipse cx=\"528.7664\" cy=\"-17.5675\" fill=\"none\" rx=\"51.1914\" ry=\"18\" stroke=\"#000000\"/>\n<text fill=\"#000000\" font-family=\"Times,serif\" font-size=\"14.00\" text-anchor=\"middle\" x=\"528.7664\" y=\"-13.8675\">HomeBase</text>\n</g>\n<!-- SocioEcon&#45;&gt;HomeBase -->\n<g class=\"edge\" id=\"edge11\">\n<title>SocioEcon-&gt;HomeBase</title>\n<path d=\"M604.7886,-137.6944C589.737,-113.9105 562.8978,-71.5004 545.47,-43.9617\" fill=\"none\" stroke=\"#000000\"/>\n<polygon fill=\"#000000\" points=\"548.2563,-41.8195 539.9511,-35.2411 542.3413,-45.5628 548.2563,-41.8195\" stroke=\"#000000\"/>\n</g>\n<!-- AntiTheft -->\n<g class=\"node\" id=\"node11\">\n<title>AntiTheft</title>\n<ellipse cx=\"490.0792\" cy=\"-79.7965\" fill=\"none\" rx=\"47.3916\" ry=\"18\" stroke=\"#000000\"/>\n<text fill=\"#000000\" font-family=\"Times,serif\" font-size=\"14.00\" text-anchor=\"middle\" x=\"490.0792\" y=\"-76.0965\">AntiTheft</text>\n</g>\n<!-- SocioEcon&#45;&gt;AntiTheft -->\n<g class=\"edge\" id=\"edge12\">\n<title>SocioEcon-&gt;AntiTheft</title>\n<path d=\"M589.9221,-139.7635C570.9689,-128.3799 545.1338,-112.863 524.4924,-100.4655\" fill=\"none\" stroke=\"#000000\"/>\n<polygon fill=\"#000000\" points=\"526.0839,-97.3386 515.7091,-95.1902 522.4797,-103.3395 526.0839,-97.3386\" stroke=\"#000000\"/>\n</g>\n<!-- OtherCar -->\n<g class=\"node\" id=\"node12\">\n<title>OtherCar</title>\n<ellipse cx=\"738.6002\" cy=\"-21.3718\" fill=\"none\" rx=\"44.6926\" ry=\"18\" stroke=\"#000000\"/>\n<text fill=\"#000000\" font-family=\"Times,serif\" font-size=\"14.00\" text-anchor=\"middle\" x=\"738.6002\" y=\"-17.6718\">OtherCar</text>\n</g>\n<!-- SocioEcon&#45;&gt;OtherCar -->\n<g class=\"edge\" id=\"edge13\">\n<title>SocioEcon-&gt;OtherCar</title>\n<path d=\"M631.7911,-138.184C653.2141,-114.7547 691.6331,-72.7375 716.0834,-45.9973\" fill=\"none\" stroke=\"#000000\"/>\n<polygon fill=\"#000000\" points=\"718.7209,-48.2995 722.886,-38.5577 713.5549,-43.5759 718.7209,-48.2995\" stroke=\"#000000\"/>\n</g>\n<!-- RiskAversion&#45;&gt;SeniorTrain -->\n<g class=\"edge\" id=\"edge17\">\n<title>RiskAversion-&gt;SeniorTrain</title>\n<path d=\"M646.4353,-236.5234C673.6737,-254.5837 717.2152,-283.4536 747.169,-303.3142\" fill=\"none\" stroke=\"#000000\"/>\n<polygon fill=\"#000000\" points=\"745.3449,-306.3042 755.6135,-308.9133 749.2132,-300.4701 745.3449,-306.3042\" stroke=\"#000000\"/>\n</g>\n<!-- RiskAversion&#45;&gt;VehicleYear -->\n<g class=\"edge\" id=\"edge14\">\n<title>RiskAversion-&gt;VehicleYear</title>\n<path d=\"M577.2016,-207.0891C551.4182,-199.6327 518.7583,-190.1877 491.902,-182.421\" fill=\"none\" stroke=\"#000000\"/>\n<polygon fill=\"#000000\" points=\"492.8724,-179.0583 482.2937,-179.6423 490.9277,-185.7827 492.8724,-179.0583\" stroke=\"#000000\"/>\n</g>\n<!-- RiskAversion&#45;&gt;MakeModel -->\n<g class=\"edge\" id=\"edge15\">\n<title>RiskAversion-&gt;MakeModel</title>\n<path d=\"M560.4935,-223.1241C546.4171,-223.8872 531.377,-224.7026 517.1078,-225.4761\" fill=\"none\" stroke=\"#000000\"/>\n<polygon fill=\"#000000\" points=\"516.6746,-221.9944 506.8787,-226.0306 517.0535,-228.9841 516.6746,-221.9944\" stroke=\"#000000\"/>\n</g>\n<!-- RiskAversion&#45;&gt;HomeBase -->\n<g class=\"edge\" id=\"edge18\">\n<title>RiskAversion-&gt;HomeBase</title>\n<path d=\"M613.0503,-201.8806C596.8011,-166.3465 560.4494,-86.8521 541.2292,-44.8212\" fill=\"none\" stroke=\"#000000\"/>\n<polygon fill=\"#000000\" points=\"544.2978,-43.1154 536.9561,-35.4767 537.9318,-46.0266 544.2978,-43.1154\" stroke=\"#000000\"/>\n</g>\n<!-- RiskAversion&#45;&gt;AntiTheft -->\n<g class=\"edge\" id=\"edge19\">\n<title>RiskAversion-&gt;AntiTheft</title>\n<path d=\"M604.9097,-202.3778C581.807,-177.7157 539.4966,-132.5495 513.1885,-104.4656\" fill=\"none\" stroke=\"#000000\"/>\n<polygon fill=\"#000000\" points=\"515.6128,-101.934 506.2218,-97.0287 510.5041,-106.7196 515.6128,-101.934\" stroke=\"#000000\"/>\n</g>\n<!-- DrivQuality -->\n<g class=\"node\" id=\"node13\">\n<title>DrivQuality</title>\n<ellipse cx=\"600.6849\" cy=\"-437.3887\" fill=\"none\" rx=\"55.7903\" ry=\"18\" stroke=\"#000000\"/>\n<text fill=\"#000000\" font-family=\"Times,serif\" font-size=\"14.00\" text-anchor=\"middle\" x=\"600.6849\" y=\"-433.6887\">DrivQuality</text>\n</g>\n<!-- RiskAversion&#45;&gt;DrivQuality -->\n<g class=\"edge\" id=\"edge16\">\n<title>RiskAversion-&gt;DrivQuality</title>\n<path d=\"M619.5397,-238.0048C615.9545,-275.9175 607.6558,-363.6739 603.3637,-409.0612\" fill=\"none\" stroke=\"#000000\"/>\n<polygon fill=\"#000000\" points=\"599.8703,-408.8276 602.4132,-419.1127 606.8392,-409.4867 599.8703,-408.8276\" stroke=\"#000000\"/>\n</g>\n<!-- DrivHist -->\n<g class=\"node\" id=\"node14\">\n<title>DrivHist</title>\n<ellipse cx=\"829.1822\" cy=\"-236.7008\" fill=\"none\" rx=\"42.7926\" ry=\"18\" stroke=\"#000000\"/>\n<text fill=\"#000000\" font-family=\"Times,serif\" font-size=\"14.00\" text-anchor=\"middle\" x=\"829.1822\" y=\"-233.0008\">DrivHist</text>\n</g>\n<!-- RiskAversion&#45;&gt;DrivHist -->\n<g class=\"edge\" id=\"edge20\">\n<title>RiskAversion-&gt;DrivHist</title>\n<path d=\"M680.841,-224.6645C711.1125,-227.1207 747.564,-230.0783 776.7576,-232.4471\" fill=\"none\" stroke=\"#000000\"/>\n<polygon fill=\"#000000\" points=\"776.5087,-235.9383 786.759,-233.2586 777.0749,-228.9612 776.5087,-235.9383\" stroke=\"#000000\"/>\n</g>\n<!-- DrivingSkill&#45;&gt;DrivQuality -->\n<g class=\"edge\" id=\"edge41\">\n<title>DrivingSkill-&gt;DrivQuality</title>\n<path d=\"M729.6517,-399.4848C706.1216,-406.4004 676.6743,-415.0551 651.861,-422.3478\" fill=\"none\" stroke=\"#000000\"/>\n<polygon fill=\"#000000\" points=\"650.8565,-418.995 642.2492,-425.1728 652.8304,-425.7109 650.8565,-418.995\" stroke=\"#000000\"/>\n</g>\n<!-- DrivingSkill&#45;&gt;DrivHist -->\n<g class=\"edge\" id=\"edge42\">\n<title>DrivingSkill-&gt;DrivHist</title>\n<path d=\"M778.8967,-368.9045C788.7713,-342.9435 807.0209,-294.9643 818.6078,-264.5015\" fill=\"none\" stroke=\"#000000\"/>\n<polygon fill=\"#000000\" points=\"821.9762,-265.4904 822.2601,-254.8993 815.4335,-263.0017 821.9762,-265.4904\" stroke=\"#000000\"/>\n</g>\n<!-- SeniorTrain&#45;&gt;DrivingSkill -->\n<g class=\"edge\" id=\"edge43\">\n<title>SeniorTrain-&gt;DrivingSkill</title>\n<path d=\"M777.7489,-343.4068C777.1243,-348.1465 776.4362,-353.368 775.7598,-358.5011\" fill=\"none\" stroke=\"#000000\"/>\n<polygon fill=\"#000000\" points=\"772.2483,-358.3593 774.4117,-368.7309 779.1883,-359.2739 772.2483,-358.3593\" stroke=\"#000000\"/>\n</g>\n<!-- RuggedAuto -->\n<g class=\"node\" id=\"node15\">\n<title>RuggedAuto</title>\n<ellipse cx=\"252.24\" cy=\"-248.0248\" fill=\"none\" rx=\"59.5901\" ry=\"18\" stroke=\"#000000\"/>\n<text fill=\"#000000\" font-family=\"Times,serif\" font-size=\"14.00\" text-anchor=\"middle\" x=\"252.24\" y=\"-244.3248\">RuggedAuto</text>\n</g>\n<!-- VehicleYear&#45;&gt;RuggedAuto -->\n<g class=\"edge\" id=\"edge21\">\n<title>VehicleYear-&gt;RuggedAuto</title>\n<path d=\"M407.3856,-182.0991C376.3416,-195.2905 330.1327,-214.926 296.2179,-229.3374\" fill=\"none\" stroke=\"#000000\"/>\n<polygon fill=\"#000000\" points=\"294.8358,-226.1217 287.001,-233.2539 297.5734,-232.5642 294.8358,-226.1217\" stroke=\"#000000\"/>\n</g>\n<!-- Antilock -->\n<g class=\"node\" id=\"node16\">\n<title>Antilock</title>\n<ellipse cx=\"430.6714\" cy=\"-341.7782\" fill=\"none\" rx=\"43.5923\" ry=\"18\" stroke=\"#000000\"/>\n<text fill=\"#000000\" font-family=\"Times,serif\" font-size=\"14.00\" text-anchor=\"middle\" x=\"430.6714\" y=\"-338.0782\">Antilock</text>\n</g>\n<!-- VehicleYear&#45;&gt;Antilock -->\n<g class=\"edge\" id=\"edge22\">\n<title>VehicleYear-&gt;Antilock</title>\n<path d=\"M440.0582,-186.0424C438.2277,-216.4121 434.5491,-277.4441 432.3803,-313.4267\" fill=\"none\" stroke=\"#000000\"/>\n<polygon fill=\"#000000\" points=\"428.8674,-313.5354 431.7594,-323.7279 435.8548,-313.9566 428.8674,-313.5354\" stroke=\"#000000\"/>\n</g>\n<!-- CarValue -->\n<g class=\"node\" id=\"node17\">\n<title>CarValue</title>\n<ellipse cx=\"281.9472\" cy=\"-163.3987\" fill=\"none\" rx=\"44.6926\" ry=\"18\" stroke=\"#000000\"/>\n<text fill=\"#000000\" font-family=\"Times,serif\" font-size=\"14.00\" text-anchor=\"middle\" x=\"281.9472\" y=\"-159.6987\">CarValue</text>\n</g>\n<!-- VehicleYear&#45;&gt;CarValue -->\n<g class=\"edge\" id=\"edge23\">\n<title>VehicleYear-&gt;CarValue</title>\n<path d=\"M386.3686,-166.2505C370.4304,-165.8152 353.0178,-165.3397 337.06,-164.9039\" fill=\"none\" stroke=\"#000000\"/>\n<polygon fill=\"#000000\" points=\"336.9055,-161.3984 326.8136,-164.624 336.7143,-168.3958 336.9055,-161.3984\" stroke=\"#000000\"/>\n</g>\n<!-- Airbag -->\n<g class=\"node\" id=\"node18\">\n<title>Airbag</title>\n<ellipse cx=\"354.6417\" cy=\"-297.4938\" fill=\"none\" rx=\"36.2938\" ry=\"18\" stroke=\"#000000\"/>\n<text fill=\"#000000\" font-family=\"Times,serif\" font-size=\"14.00\" text-anchor=\"middle\" x=\"354.6417\" y=\"-293.7938\">Airbag</text>\n</g>\n<!-- VehicleYear&#45;&gt;Airbag -->\n<g class=\"edge\" id=\"edge24\">\n<title>VehicleYear-&gt;Airbag</title>\n<path d=\"M429.3122,-185.5157C414.4085,-207.8656 388.7131,-246.3993 371.6971,-271.917\" fill=\"none\" stroke=\"#000000\"/>\n<polygon fill=\"#000000\" points=\"368.7082,-270.0906 366.0722,-280.3523 374.5321,-273.9742 368.7082,-270.0906\" stroke=\"#000000\"/>\n</g>\n<!-- MakeModel&#45;&gt;RuggedAuto -->\n<g class=\"edge\" id=\"edge33\">\n<title>MakeModel-&gt;RuggedAuto</title>\n<path d=\"M397.9263,-234.1426C373.7946,-236.442 345.0572,-239.1804 319.508,-241.6149\" fill=\"none\" stroke=\"#000000\"/>\n<polygon fill=\"#000000\" points=\"319.1433,-238.1338 309.5204,-242.5666 319.8073,-245.1022 319.1433,-238.1338\" stroke=\"#000000\"/>\n</g>\n<!-- MakeModel&#45;&gt;Antilock -->\n<g class=\"edge\" id=\"edge34\">\n<title>MakeModel-&gt;Antilock</title>\n<path d=\"M448.2528,-247.1419C444.9088,-265.1416 439.7345,-292.9937 435.8637,-313.8293\" fill=\"none\" stroke=\"#000000\"/>\n<polygon fill=\"#000000\" points=\"432.414,-313.2366 434.0285,-323.7076 439.2963,-314.5152 432.414,-313.2366\" stroke=\"#000000\"/>\n</g>\n<!-- MakeModel&#45;&gt;CarValue -->\n<g class=\"edge\" id=\"edge35\">\n<title>MakeModel-&gt;CarValue</title>\n<path d=\"M415.6354,-215.1084C388.8343,-204.7419 352.1654,-190.5586 324.0096,-179.6681\" fill=\"none\" stroke=\"#000000\"/>\n<polygon fill=\"#000000\" points=\"325.025,-176.3082 314.4357,-175.965 322.4997,-182.8369 325.025,-176.3082\" stroke=\"#000000\"/>\n</g>\n<!-- MakeModel&#45;&gt;Airbag -->\n<g class=\"edge\" id=\"edge36\">\n<title>MakeModel-&gt;Airbag</title>\n<path d=\"M428.1429,-245.6004C414.8665,-254.9738 398.1449,-266.7796 384.0064,-276.7617\" fill=\"none\" stroke=\"#000000\"/>\n<polygon fill=\"#000000\" points=\"381.7414,-274.0764 375.5909,-282.7032 385.7787,-279.7948 381.7414,-274.0764\" stroke=\"#000000\"/>\n</g>\n<!-- Theft -->\n<g class=\"node\" id=\"node27\">\n<title>Theft</title>\n<ellipse cx=\"348.5406\" cy=\"-32.1956\" fill=\"none\" rx=\"30.5947\" ry=\"18\" stroke=\"#000000\"/>\n<text fill=\"#000000\" font-family=\"Times,serif\" font-size=\"14.00\" text-anchor=\"middle\" x=\"348.5406\" y=\"-28.4956\">Theft</text>\n</g>\n<!-- HomeBase&#45;&gt;Theft -->\n<g class=\"edge\" id=\"edge48\">\n<title>HomeBase-&gt;Theft</title>\n<path d=\"M478.5635,-21.6422C450.3351,-23.9334 415.5588,-26.756 389.0765,-28.9055\" fill=\"none\" stroke=\"#000000\"/>\n<polygon fill=\"#000000\" points=\"388.6876,-25.4254 379.0036,-29.7231 389.254,-32.4025 388.6876,-25.4254\" stroke=\"#000000\"/>\n</g>\n<!-- AntiTheft&#45;&gt;Theft -->\n<g class=\"edge\" id=\"edge49\">\n<title>AntiTheft-&gt;Theft</title>\n<path d=\"M454.363,-67.7848C433.1538,-60.6519 406.325,-51.6291 384.9884,-44.4534\" fill=\"none\" stroke=\"#000000\"/>\n<polygon fill=\"#000000\" points=\"385.9026,-41.0682 375.3085,-41.1979 383.6712,-47.7031 385.9026,-41.0682\" stroke=\"#000000\"/>\n</g>\n<!-- Accident -->\n<g class=\"node\" id=\"node23\">\n<title>Accident</title>\n<ellipse cx=\"366.3736\" cy=\"-463.9476\" fill=\"none\" rx=\"44.393\" ry=\"18\" stroke=\"#000000\"/>\n<text fill=\"#000000\" font-family=\"Times,serif\" font-size=\"14.00\" text-anchor=\"middle\" x=\"366.3736\" y=\"-460.2476\">Accident</text>\n</g>\n<!-- DrivQuality&#45;&gt;Accident -->\n<g class=\"edge\" id=\"edge37\">\n<title>DrivQuality-&gt;Accident</title>\n<path d=\"M547.8087,-443.3822C509.3986,-447.7359 457.6372,-453.603 419.2313,-457.9562\" fill=\"none\" stroke=\"#000000\"/>\n<polygon fill=\"#000000\" points=\"418.8164,-454.4807 409.2743,-459.0848 419.6049,-461.4362 418.8164,-454.4807\" stroke=\"#000000\"/>\n</g>\n<!-- ThisCarDam -->\n<g class=\"node\" id=\"node19\">\n<title>ThisCarDam</title>\n<ellipse cx=\"229.0687\" cy=\"-300.7275\" fill=\"none\" rx=\"58.4896\" ry=\"18\" stroke=\"#000000\"/>\n<text fill=\"#000000\" font-family=\"Times,serif\" font-size=\"14.00\" text-anchor=\"middle\" x=\"229.0687\" y=\"-297.0275\">ThisCarDam</text>\n</g>\n<!-- RuggedAuto&#45;&gt;ThisCarDam -->\n<g class=\"edge\" id=\"edge26\">\n<title>RuggedAuto-&gt;ThisCarDam</title>\n<path d=\"M244.2658,-266.1621C243.2348,-268.5069 242.1615,-270.9481 241.0832,-273.4006\" fill=\"none\" stroke=\"#000000\"/>\n<polygon fill=\"#000000\" points=\"237.8,-272.1723 236.9791,-282.7353 244.208,-274.9897 237.8,-272.1723\" stroke=\"#000000\"/>\n</g>\n<!-- OtherCarCost -->\n<g class=\"node\" id=\"node21\">\n<title>OtherCarCost</title>\n<ellipse cx=\"153.5641\" cy=\"-413.579\" fill=\"none\" rx=\"61.99\" ry=\"18\" stroke=\"#000000\"/>\n<text fill=\"#000000\" font-family=\"Times,serif\" font-size=\"14.00\" text-anchor=\"middle\" x=\"153.5641\" y=\"-409.879\">OtherCarCost</text>\n</g>\n<!-- RuggedAuto&#45;&gt;OtherCarCost -->\n<g class=\"edge\" id=\"edge27\">\n<title>RuggedAuto-&gt;OtherCarCost</title>\n<path d=\"M241.68,-265.742C224.3652,-294.7919 189.8375,-352.7211 169.5238,-386.8025\" fill=\"none\" stroke=\"#000000\"/>\n<polygon fill=\"#000000\" points=\"166.3108,-385.357 164.1974,-395.739 172.3238,-388.941 166.3108,-385.357\" stroke=\"#000000\"/>\n</g>\n<!-- Cushioning -->\n<g class=\"node\" id=\"node22\">\n<title>Cushioning</title>\n<ellipse cx=\"296.4833\" cy=\"-416.8643\" fill=\"none\" rx=\"54.6905\" ry=\"18\" stroke=\"#000000\"/>\n<text fill=\"#000000\" font-family=\"Times,serif\" font-size=\"14.00\" text-anchor=\"middle\" x=\"296.4833\" y=\"-413.1643\">Cushioning</text>\n</g>\n<!-- RuggedAuto&#45;&gt;Cushioning -->\n<g class=\"edge\" id=\"edge28\">\n<title>RuggedAuto-&gt;Cushioning</title>\n<path d=\"M256.9748,-266.0936C264.6921,-295.5439 280.0356,-354.0974 289.1643,-388.934\" fill=\"none\" stroke=\"#000000\"/>\n<polygon fill=\"#000000\" points=\"285.8619,-390.1393 291.7825,-398.9255 292.6333,-388.3649 285.8619,-390.1393\" stroke=\"#000000\"/>\n</g>\n<!-- Antilock&#45;&gt;Accident -->\n<g class=\"edge\" id=\"edge40\">\n<title>Antilock-&gt;Accident</title>\n<path d=\"M421.322,-359.5427C410.6077,-379.9003 392.9329,-413.4835 380.5291,-437.0514\" fill=\"none\" stroke=\"#000000\"/>\n<polygon fill=\"#000000\" points=\"377.2945,-435.6823 375.7343,-446.1616 383.489,-438.9425 377.2945,-435.6823\" stroke=\"#000000\"/>\n</g>\n<!-- ThisCarCost -->\n<g class=\"node\" id=\"node20\">\n<title>ThisCarCost</title>\n<ellipse cx=\"171.2822\" cy=\"-108.2277\" fill=\"none\" rx=\"57.6901\" ry=\"18\" stroke=\"#000000\"/>\n<text fill=\"#000000\" font-family=\"Times,serif\" font-size=\"14.00\" text-anchor=\"middle\" x=\"171.2822\" y=\"-104.5277\">ThisCarCost</text>\n</g>\n<!-- CarValue&#45;&gt;ThisCarCost -->\n<g class=\"edge\" id=\"edge46\">\n<title>CarValue-&gt;ThisCarCost</title>\n<path d=\"M253.7354,-149.334C240.8128,-142.8915 225.2683,-135.1419 211.176,-128.1164\" fill=\"none\" stroke=\"#000000\"/>\n<polygon fill=\"#000000\" points=\"212.6783,-124.9545 202.1672,-123.6251 209.5551,-131.2192 212.6783,-124.9545\" stroke=\"#000000\"/>\n</g>\n<!-- CarValue&#45;&gt;Theft -->\n<g class=\"edge\" id=\"edge47\">\n<title>CarValue-&gt;Theft</title>\n<path d=\"M290.9283,-145.704C302.2613,-123.3757 321.8577,-84.7666 335.0081,-58.8575\" fill=\"none\" stroke=\"#000000\"/>\n<polygon fill=\"#000000\" points=\"338.2968,-60.1111 339.7018,-49.6099 332.0548,-56.9429 338.2968,-60.1111\" stroke=\"#000000\"/>\n</g>\n<!-- Airbag&#45;&gt;Cushioning -->\n<g class=\"edge\" id=\"edge52\">\n<title>Airbag-&gt;Cushioning</title>\n<path d=\"M346.0602,-315.1073C336.4942,-334.7417 320.9067,-366.735 309.7636,-389.6063\" fill=\"none\" stroke=\"#000000\"/>\n<polygon fill=\"#000000\" points=\"306.5242,-388.2644 305.2906,-398.7872 312.817,-391.3304 306.5242,-388.2644\" stroke=\"#000000\"/>\n</g>\n<!-- ThisCarDam&#45;&gt;ThisCarCost -->\n<g class=\"edge\" id=\"edge25\">\n<title>ThisCarDam-&gt;ThisCarCost</title>\n<path d=\"M223.6323,-282.6176C213.5006,-248.8667 191.672,-176.1505 179.649,-136.0992\" fill=\"none\" stroke=\"#000000\"/>\n<polygon fill=\"#000000\" points=\"182.9737,-135.0012 176.7463,-126.4297 176.2693,-137.0138 182.9737,-135.0012\" stroke=\"#000000\"/>\n</g>\n<!-- PropCost -->\n<g class=\"node\" id=\"node26\">\n<title>PropCost</title>\n<ellipse cx=\"45.9855\" cy=\"-250.962\" fill=\"none\" rx=\"46.2923\" ry=\"18\" stroke=\"#000000\"/>\n<text fill=\"#000000\" font-family=\"Times,serif\" font-size=\"14.00\" text-anchor=\"middle\" x=\"45.9855\" y=\"-247.262\">PropCost</text>\n</g>\n<!-- ThisCarCost&#45;&gt;PropCost -->\n<g class=\"edge\" id=\"edge44\">\n<title>ThisCarCost-&gt;PropCost</title>\n<path d=\"M155.9184,-125.7298C133.8177,-150.9062 92.9473,-197.4645 67.7472,-226.1717\" fill=\"none\" stroke=\"#000000\"/>\n<polygon fill=\"#000000\" points=\"65.0504,-223.9384 61.0836,-233.7627 70.3111,-228.5564 65.0504,-223.9384\" stroke=\"#000000\"/>\n</g>\n<!-- OtherCarCost&#45;&gt;PropCost -->\n<g class=\"edge\" id=\"edge50\">\n<title>OtherCarCost-&gt;PropCost</title>\n<path d=\"M141.8465,-395.8666C122.9312,-367.274 85.5619,-310.7861 63.4826,-277.4109\" fill=\"none\" stroke=\"#000000\"/>\n<polygon fill=\"#000000\" points=\"66.1251,-275.0617 57.6886,-268.6526 60.287,-278.9239 66.1251,-275.0617\" stroke=\"#000000\"/>\n</g>\n<!-- Cushioning&#45;&gt;MedCost -->\n<g class=\"edge\" id=\"edge51\">\n<title>Cushioning-&gt;MedCost</title>\n<path d=\"M349.0802,-411.5644C372.3329,-409.2214 399.6413,-406.4697 423.0132,-404.1146\" fill=\"none\" stroke=\"#000000\"/>\n<polygon fill=\"#000000\" points=\"423.5059,-407.5828 433.1046,-403.0978 422.804,-400.6181 423.5059,-407.5828\" stroke=\"#000000\"/>\n</g>\n<!-- Accident&#45;&gt;MedCost -->\n<g class=\"edge\" id=\"edge31\">\n<title>Accident-&gt;MedCost</title>\n<path d=\"M391.674,-448.9807C406.8045,-440.0299 426.2247,-428.5415 442.6799,-418.8071\" fill=\"none\" stroke=\"#000000\"/>\n<polygon fill=\"#000000\" points=\"444.6458,-421.7108 451.4705,-413.6069 441.0817,-415.686 444.6458,-421.7108\" stroke=\"#000000\"/>\n</g>\n<!-- Accident&#45;&gt;ThisCarDam -->\n<g class=\"edge\" id=\"edge29\">\n<title>Accident-&gt;ThisCarDam</title>\n<path d=\"M351.9391,-446.7886C327.8192,-418.1163 279.1852,-360.3031 250.8738,-326.6481\" fill=\"none\" stroke=\"#000000\"/>\n<polygon fill=\"#000000\" points=\"253.2569,-324.044 244.1411,-318.6447 247.9002,-328.5502 253.2569,-324.044\" stroke=\"#000000\"/>\n</g>\n<!-- Accident&#45;&gt;OtherCarCost -->\n<g class=\"edge\" id=\"edge30\">\n<title>Accident-&gt;OtherCarCost</title>\n<path d=\"M327.8354,-454.8262C295.4282,-447.1559 248.6062,-436.0739 211.6539,-427.3279\" fill=\"none\" stroke=\"#000000\"/>\n<polygon fill=\"#000000\" points=\"212.0507,-423.8252 201.5134,-424.9278 210.4384,-430.637 212.0507,-423.8252\" stroke=\"#000000\"/>\n</g>\n<!-- ILiCost -->\n<g class=\"node\" id=\"node24\">\n<title>ILiCost</title>\n<ellipse cx=\"336.439\" cy=\"-633.7881\" fill=\"none\" rx=\"38.9931\" ry=\"18\" stroke=\"#000000\"/>\n<text fill=\"#000000\" font-family=\"Times,serif\" font-size=\"14.00\" text-anchor=\"middle\" x=\"336.439\" y=\"-630.0881\">ILiCost</text>\n</g>\n<!-- Accident&#45;&gt;ILiCost -->\n<g class=\"edge\" id=\"edge32\">\n<title>Accident-&gt;ILiCost</title>\n<path d=\"M363.1701,-482.1235C357.9486,-511.7483 347.5673,-570.649 341.3909,-605.6922\" fill=\"none\" stroke=\"#000000\"/>\n<polygon fill=\"#000000\" points=\"337.9084,-605.2871 339.6195,-615.7429 344.8022,-606.5022 337.9084,-605.2871\" stroke=\"#000000\"/>\n</g>\n<!-- Mileage -->\n<g class=\"node\" id=\"node25\">\n<title>Mileage</title>\n<ellipse cx=\"248.009\" cy=\"-355.6288\" fill=\"none\" rx=\"40.0939\" ry=\"18\" stroke=\"#000000\"/>\n<text fill=\"#000000\" font-family=\"Times,serif\" font-size=\"14.00\" text-anchor=\"middle\" x=\"248.009\" y=\"-351.9288\">Mileage</text>\n</g>\n<!-- Mileage&#45;&gt;CarValue -->\n<g class=\"edge\" id=\"edge39\">\n<title>Mileage-&gt;CarValue</title>\n<path d=\"M251.2018,-337.5443C257.1396,-303.9122 269.9178,-231.5345 276.9884,-191.4863\" fill=\"none\" stroke=\"#000000\"/>\n<polygon fill=\"#000000\" points=\"280.4462,-192.0314 278.7382,-181.5752 273.5528,-190.8143 280.4462,-192.0314\" stroke=\"#000000\"/>\n</g>\n<!-- Mileage&#45;&gt;Accident -->\n<g class=\"edge\" id=\"edge38\">\n<title>Mileage-&gt;Accident</title>\n<path d=\"M265.7294,-371.8452C285.5747,-390.0062 317.9198,-419.6061 340.5712,-440.335\" fill=\"none\" stroke=\"#000000\"/>\n<polygon fill=\"#000000\" points=\"338.4025,-443.0947 348.1426,-447.2638 343.1282,-437.9307 338.4025,-443.0947\" stroke=\"#000000\"/>\n</g>\n<!-- Theft&#45;&gt;ThisCarCost -->\n<g class=\"edge\" id=\"edge45\">\n<title>Theft-&gt;ThisCarCost</title>\n<path d=\"M323.5198,-42.9279C295.2569,-55.0508 248.7543,-74.9973 214.5691,-89.6605\" fill=\"none\" stroke=\"#000000\"/>\n<polygon fill=\"#000000\" points=\"213.0897,-86.4866 205.2792,-93.6453 215.8491,-92.9198 213.0897,-86.4866\" stroke=\"#000000\"/>\n</g>\n</g>\n</svg>"
          },
          "metadata": {}
        }
      ]
    },
    {
      "cell_type": "code",
      "source": [
        "reader.get_model()"
      ],
      "metadata": {
        "colab": {
          "base_uri": "https://localhost:8080/"
        },
        "id": "YRGKZjZA3FOW",
        "outputId": "f588c7ba-dc0d-4923-e2fc-937168c13d78"
      },
      "execution_count": null,
      "outputs": [
        {
          "output_type": "execute_result",
          "data": {
            "text/plain": [
              "<pgmpy.models.BayesianNetwork.BayesianNetwork at 0x7fe95fd54650>"
            ]
          },
          "metadata": {},
          "execution_count": 22
        }
      ]
    },
    {
      "cell_type": "markdown",
      "source": [
        "## Markov network"
      ],
      "metadata": {
        "id": "QwqyKTp7b2X_"
      }
    },
    {
      "cell_type": "code",
      "source": [
        "from pgmpy.models import MarkovNetwork\n",
        "from pgmpy.factors.discrete import DiscreteFactor\n",
        "import numpy as np\n",
        "student = MarkovNetwork([('Alice', 'Bob'), ('Bob', 'Charles'),('Charles', 'Debbie'),( 'Debbie','Alice')])\n",
        "factor = DiscreteFactor(['Alice', 'Bob'], cardinality=[2, 2],\n",
        "                values=np.random.rand(4))\n",
        "student.add_factors(factor)\n",
        "student.remove_factors(factor)"
      ],
      "metadata": {
        "id": "Tgz0Ar8D4eFC"
      },
      "execution_count": null,
      "outputs": []
    },
    {
      "cell_type": "code",
      "source": [
        "student.edges\n",
        "student.nodes"
      ],
      "metadata": {
        "colab": {
          "base_uri": "https://localhost:8080/"
        },
        "id": "7_RSNuJnb7iE",
        "outputId": "d9da8dd1-284b-4332-f956-0247e1f6ff6d"
      },
      "execution_count": null,
      "outputs": [
        {
          "output_type": "execute_result",
          "data": {
            "text/plain": [
              "NodeView(('Alice', 'Bob', 'Charles', 'Debbie'))"
            ]
          },
          "metadata": {},
          "execution_count": 25
        }
      ]
    },
    {
      "cell_type": "code",
      "source": [
        "import networkx as nx\n",
        "from IPython.display import SVG, display\n",
        "G2 = nx.Graph()\n",
        "G2.add_nodes_from(student.nodes)\n",
        "G2.add_edges_from(student.edges)\n",
        "\n",
        "svg2 = SVG(nx.nx_agraph.to_agraph(G2).draw(prog='fdp', format='svg'))\n",
        "display(svg2)"
      ],
      "metadata": {
        "colab": {
          "base_uri": "https://localhost:8080/",
          "height": 225
        },
        "id": "kF5Zzvf3cAoM",
        "outputId": "3ce8f2d2-0b5a-4852-aac6-014ffe34f340"
      },
      "execution_count": null,
      "outputs": [
        {
          "output_type": "display_data",
          "data": {
            "text/plain": [
              "<IPython.core.display.SVG object>"
            ],
            "image/svg+xml": "<svg height=\"153pt\" viewBox=\"0.00 0.00 176.00 153.00\" width=\"176pt\" xmlns=\"http://www.w3.org/2000/svg\" xmlns:xlink=\"http://www.w3.org/1999/xlink\">\n<g class=\"graph\" id=\"graph0\" transform=\"scale(1 1) rotate(0) translate(4 149)\">\n<polygon fill=\"#ffffff\" points=\"-4,4 -4,-149 172,-149 172,4 -4,4\" stroke=\"transparent\"/>\n<!-- Alice -->\n<g class=\"node\" id=\"node1\">\n<title>Alice</title>\n<ellipse cx=\"30.7685\" cy=\"-62.7474\" fill=\"none\" rx=\"30.5947\" ry=\"18\" stroke=\"#000000\"/>\n<text fill=\"#000000\" font-family=\"Times,serif\" font-size=\"14.00\" text-anchor=\"middle\" x=\"30.7685\" y=\"-59.0474\">Alice</text>\n</g>\n<!-- Bob -->\n<g class=\"node\" id=\"node2\">\n<title>Bob</title>\n<ellipse cx=\"140.6764\" cy=\"-82.6969\" fill=\"none\" rx=\"27\" ry=\"18\" stroke=\"#000000\"/>\n<text fill=\"#000000\" font-family=\"Times,serif\" font-size=\"14.00\" text-anchor=\"middle\" x=\"140.6764\" y=\"-78.9969\">Bob</text>\n</g>\n<!-- Alice&#45;&#45;Bob -->\n<g class=\"edge\" id=\"edge1\">\n<title>Alice--Bob</title>\n<path d=\"M60.2218,-68.0935C77.1357,-71.1635 98.1907,-74.9852 114.5187,-77.949\" fill=\"none\" stroke=\"#000000\"/>\n</g>\n<!-- Debbie -->\n<g class=\"node\" id=\"node3\">\n<title>Debbie</title>\n<ellipse cx=\"96.5922\" cy=\"-18.0645\" fill=\"none\" rx=\"37.8943\" ry=\"18\" stroke=\"#000000\"/>\n<text fill=\"#000000\" font-family=\"Times,serif\" font-size=\"14.00\" text-anchor=\"middle\" x=\"96.5922\" y=\"-14.3645\">Debbie</text>\n</g>\n<!-- Alice&#45;&#45;Debbie -->\n<g class=\"edge\" id=\"edge2\">\n<title>Alice--Debbie</title>\n<path d=\"M50.8754,-49.0983C58.437,-43.9653 67.0669,-38.1071 74.7767,-32.8734\" fill=\"none\" stroke=\"#000000\"/>\n</g>\n<!-- Charles -->\n<g class=\"node\" id=\"node4\">\n<title>Charles</title>\n<ellipse cx=\"74.8527\" cy=\"-127.3798\" fill=\"none\" rx=\"38.1938\" ry=\"18\" stroke=\"#000000\"/>\n<text fill=\"#000000\" font-family=\"Times,serif\" font-size=\"14.00\" text-anchor=\"middle\" x=\"74.8527\" y=\"-123.6798\">Charles</text>\n</g>\n<!-- Bob&#45;&#45;Charles -->\n<g class=\"edge\" id=\"edge3\">\n<title>Bob--Charles</title>\n<path d=\"M121.6374,-95.621C113.8917,-100.879 104.8912,-106.9888 96.8654,-112.437\" fill=\"none\" stroke=\"#000000\"/>\n</g>\n<!-- Charles&#45;&#45;Debbie -->\n<g class=\"edge\" id=\"edge4\">\n<title>Charles--Debbie</title>\n<path d=\"M78.4425,-109.3286C82.4705,-89.0742 88.9668,-56.4078 92.997,-36.1425\" fill=\"none\" stroke=\"#000000\"/>\n</g>\n</g>\n</svg>"
          },
          "metadata": {}
        }
      ]
    },
    {
      "cell_type": "markdown",
      "source": [
        "## Model Conversion"
      ],
      "metadata": {
        "id": "VseXMLOQdSL4"
      }
    },
    {
      "cell_type": "code",
      "source": [
        "bm = student.to_bayesian_model()\n",
        "G2 = nx.DiGraph()\n",
        "G2.add_nodes_from(bm.nodes)\n",
        "G2.add_edges_from(bm.edges)\n",
        "\n",
        "svg2 = SVG(nx.nx_agraph.to_agraph(G2).draw(prog='fdp', format='svg'))\n",
        "display(svg2)"
      ],
      "metadata": {
        "colab": {
          "base_uri": "https://localhost:8080/",
          "height": 290
        },
        "id": "_JJgHbrxcI1o",
        "outputId": "9e56f407-57d3-4d0c-c76b-13f2a7a2b2e3"
      },
      "execution_count": null,
      "outputs": [
        {
          "output_type": "stream",
          "name": "stderr",
          "text": [
            "/usr/local/lib/python3.7/dist-packages/pgmpy/models/MarkovNetwork.py:448: RuntimeWarning: invalid value encountered in long_scalars\n",
            "  S_by_C = {key: S[key] / C[key] for key in S}\n"
          ]
        },
        {
          "output_type": "display_data",
          "data": {
            "text/plain": [
              "<IPython.core.display.SVG object>"
            ],
            "image/svg+xml": "<svg height=\"161pt\" viewBox=\"0.00 0.00 160.00 161.00\" width=\"160pt\" xmlns=\"http://www.w3.org/2000/svg\" xmlns:xlink=\"http://www.w3.org/1999/xlink\">\n<g class=\"graph\" id=\"graph0\" transform=\"scale(1 1) rotate(0) translate(4 157)\">\n<polygon fill=\"#ffffff\" points=\"-4,4 -4,-157 156,-157 156,4 -4,4\" stroke=\"transparent\"/>\n<!-- Charles -->\n<g class=\"node\" id=\"node1\">\n<title>Charles</title>\n<ellipse cx=\"38.7801\" cy=\"-74.1908\" fill=\"none\" rx=\"38.1938\" ry=\"18\" stroke=\"#000000\"/>\n<text fill=\"#000000\" font-family=\"Times,serif\" font-size=\"14.00\" text-anchor=\"middle\" x=\"38.7801\" y=\"-70.4908\">Charles</text>\n</g>\n<!-- Alice -->\n<g class=\"node\" id=\"node2\">\n<title>Alice</title>\n<ellipse cx=\"121.5444\" cy=\"-79.0319\" fill=\"none\" rx=\"30.5947\" ry=\"18\" stroke=\"#000000\"/>\n<text fill=\"#000000\" font-family=\"Times,serif\" font-size=\"14.00\" text-anchor=\"middle\" x=\"121.5444\" y=\"-75.3319\">Alice</text>\n</g>\n<!-- Charles&#45;&gt;Alice -->\n<g class=\"edge\" id=\"edge1\">\n<title>Charles-&gt;Alice</title>\n<path d=\"M77.2547,-76.4413C78.3945,-76.5079 79.5372,-76.5748 80.6794,-76.6416\" fill=\"none\" stroke=\"#000000\"/>\n<polygon fill=\"#000000\" points=\"80.6637,-80.1466 90.851,-77.2366 81.0725,-73.1585 80.6637,-80.1466\" stroke=\"#000000\"/>\n</g>\n<!-- Debbie -->\n<g class=\"node\" id=\"node3\">\n<title>Debbie</title>\n<ellipse cx=\"94.2414\" cy=\"-17.9679\" fill=\"none\" rx=\"37.8943\" ry=\"18\" stroke=\"#000000\"/>\n<text fill=\"#000000\" font-family=\"Times,serif\" font-size=\"14.00\" text-anchor=\"middle\" x=\"94.2414\" y=\"-14.2679\">Debbie</text>\n</g>\n<!-- Charles&#45;&gt;Debbie -->\n<g class=\"edge\" id=\"edge2\">\n<title>Charles-&gt;Debbie</title>\n<path d=\"M55.1204,-57.6262C59.9292,-52.7513 65.2912,-47.3156 70.4656,-42.0702\" fill=\"none\" stroke=\"#000000\"/>\n<polygon fill=\"#000000\" points=\"73.2953,-44.1855 77.8263,-34.6084 68.3119,-39.2696 73.2953,-44.1855\" stroke=\"#000000\"/>\n</g>\n<!-- Bob -->\n<g class=\"node\" id=\"node4\">\n<title>Bob</title>\n<ellipse cx=\"67.936\" cy=\"-134.7498\" fill=\"none\" rx=\"27\" ry=\"18\" stroke=\"#000000\"/>\n<text fill=\"#000000\" font-family=\"Times,serif\" font-size=\"14.00\" text-anchor=\"middle\" x=\"67.936\" y=\"-131.0498\">Bob</text>\n</g>\n<!-- Charles&#45;&gt;Bob -->\n<g class=\"edge\" id=\"edge3\">\n<title>Charles-&gt;Bob</title>\n<path d=\"M47.3702,-92.0329C49.7638,-97.0047 52.4181,-102.5179 55.0026,-107.886\" fill=\"none\" stroke=\"#000000\"/>\n<polygon fill=\"#000000\" points=\"52.0163,-109.7519 59.5078,-117.2437 58.3234,-106.7153 52.0163,-109.7519\" stroke=\"#000000\"/>\n</g>\n<!-- Alice&#45;&gt;Debbie -->\n<g class=\"edge\" id=\"edge4\">\n<title>Alice-&gt;Debbie</title>\n<path d=\"M113.6473,-61.3697C111.403,-56.3503 108.9047,-50.7629 106.4678,-45.3125\" fill=\"none\" stroke=\"#000000\"/>\n<polygon fill=\"#000000\" points=\"109.4924,-43.5024 102.2154,-35.802 103.1021,-46.3597 109.4924,-43.5024\" stroke=\"#000000\"/>\n</g>\n<!-- Alice&#45;&gt;Bob -->\n<g class=\"edge\" id=\"edge5\">\n<title>Alice-&gt;Bob</title>\n<path d=\"M106.3258,-94.8494C101.2182,-100.1579 95.4156,-106.1888 89.8965,-111.9252\" fill=\"none\" stroke=\"#000000\"/>\n<polygon fill=\"#000000\" points=\"87.0491,-109.8365 82.6379,-119.4693 92.0934,-114.6898 87.0491,-109.8365\" stroke=\"#000000\"/>\n</g>\n</g>\n</svg>"
          },
          "metadata": {}
        }
      ]
    },
    {
      "cell_type": "code",
      "source": [
        "mn = bm.to_markov_model()\n",
        "G2 = nx.Graph()\n",
        "G2.add_nodes_from(mn.nodes)\n",
        "G2.add_edges_from(mn.edges)\n",
        "\n",
        "svg2 = SVG(nx.nx_agraph.to_agraph(G2).draw(prog='fdp', format='svg'))\n",
        "display(svg2)"
      ],
      "metadata": {
        "colab": {
          "base_uri": "https://localhost:8080/",
          "height": 236
        },
        "id": "3yX6f4d4eU8k",
        "outputId": "1404c794-3ecf-478a-8dfc-f85d00702347"
      },
      "execution_count": null,
      "outputs": [
        {
          "output_type": "display_data",
          "data": {
            "text/plain": [
              "<IPython.core.display.SVG object>"
            ],
            "image/svg+xml": "<svg height=\"161pt\" viewBox=\"0.00 0.00 160.00 161.00\" width=\"160pt\" xmlns=\"http://www.w3.org/2000/svg\" xmlns:xlink=\"http://www.w3.org/1999/xlink\">\n<g class=\"graph\" id=\"graph0\" transform=\"scale(1 1) rotate(0) translate(4 157)\">\n<polygon fill=\"#ffffff\" points=\"-4,4 -4,-157 156,-157 156,4 -4,4\" stroke=\"transparent\"/>\n<!-- Charles -->\n<g class=\"node\" id=\"node1\">\n<title>Charles</title>\n<ellipse cx=\"38.7801\" cy=\"-74.1908\" fill=\"none\" rx=\"38.1938\" ry=\"18\" stroke=\"#000000\"/>\n<text fill=\"#000000\" font-family=\"Times,serif\" font-size=\"14.00\" text-anchor=\"middle\" x=\"38.7801\" y=\"-70.4908\">Charles</text>\n</g>\n<!-- Alice -->\n<g class=\"node\" id=\"node2\">\n<title>Alice</title>\n<ellipse cx=\"121.5444\" cy=\"-79.0319\" fill=\"none\" rx=\"30.5947\" ry=\"18\" stroke=\"#000000\"/>\n<text fill=\"#000000\" font-family=\"Times,serif\" font-size=\"14.00\" text-anchor=\"middle\" x=\"121.5444\" y=\"-75.3319\">Alice</text>\n</g>\n<!-- Charles&#45;&#45;Alice -->\n<g class=\"edge\" id=\"edge1\">\n<title>Charles--Alice</title>\n<path d=\"M77.2547,-76.4413C81.8138,-76.7079 86.4202,-76.9774 90.851,-77.2366\" fill=\"none\" stroke=\"#000000\"/>\n</g>\n<!-- Debbie -->\n<g class=\"node\" id=\"node3\">\n<title>Debbie</title>\n<ellipse cx=\"94.2414\" cy=\"-17.9679\" fill=\"none\" rx=\"37.8943\" ry=\"18\" stroke=\"#000000\"/>\n<text fill=\"#000000\" font-family=\"Times,serif\" font-size=\"14.00\" text-anchor=\"middle\" x=\"94.2414\" y=\"-14.2679\">Debbie</text>\n</g>\n<!-- Charles&#45;&#45;Debbie -->\n<g class=\"edge\" id=\"edge2\">\n<title>Charles--Debbie</title>\n<path d=\"M55.1204,-57.6262C62.2777,-50.3705 70.6604,-41.8727 77.8263,-34.6084\" fill=\"none\" stroke=\"#000000\"/>\n</g>\n<!-- Bob -->\n<g class=\"node\" id=\"node4\">\n<title>Bob</title>\n<ellipse cx=\"67.936\" cy=\"-134.7498\" fill=\"none\" rx=\"27\" ry=\"18\" stroke=\"#000000\"/>\n<text fill=\"#000000\" font-family=\"Times,serif\" font-size=\"14.00\" text-anchor=\"middle\" x=\"67.936\" y=\"-131.0498\">Bob</text>\n</g>\n<!-- Charles&#45;&#45;Bob -->\n<g class=\"edge\" id=\"edge3\">\n<title>Charles--Bob</title>\n<path d=\"M47.3702,-92.0329C51.2,-99.9877 55.6971,-109.3287 59.5078,-117.2437\" fill=\"none\" stroke=\"#000000\"/>\n</g>\n<!-- Alice&#45;&#45;Debbie -->\n<g class=\"edge\" id=\"edge4\">\n<title>Alice--Debbie</title>\n<path d=\"M113.6473,-61.3697C110.0564,-53.3387 105.8154,-43.8536 102.2154,-35.802\" fill=\"none\" stroke=\"#000000\"/>\n</g>\n<!-- Alice&#45;&#45;Bob -->\n<g class=\"edge\" id=\"edge5\">\n<title>Alice--Bob</title>\n<path d=\"M106.3258,-94.8494C98.8966,-102.5709 89.997,-111.8207 82.6379,-119.4693\" fill=\"none\" stroke=\"#000000\"/>\n</g>\n</g>\n</svg>"
          },
          "metadata": {}
        }
      ]
    },
    {
      "cell_type": "markdown",
      "source": [
        "## Next Steps"
      ],
      "metadata": {
        "id": "I1zEHWynvfv9"
      }
    },
    {
      "cell_type": "markdown",
      "source": [
        "- Literature Survey Bayesian Networks & Markov networks.\n",
        "- Other Related Dataset.\n",
        "- List down techniques used to build the Network from Data.\n",
        "- Comparison with decision Tree, Naive Bayes, Logistic regression, Deep learning & GNN\n",
        "- Comparison with other methods explained in the course."
      ],
      "metadata": {
        "id": "Np2Op7fZgKS9"
      }
    },
    {
      "cell_type": "markdown",
      "source": [
        "## Papers"
      ],
      "metadata": {
        "id": "uMYV5GXandrP"
      }
    },
    {
      "cell_type": "markdown",
      "source": [
        "- [Bayesian Network on Diabetes](https://ieeexplore.ieee.org/abstract/document/9280179)\n",
        "- [Bayesian Network on OCD](https://www.cambridge.org/core/journals/psychological-medicine/article/comorbid-obsessivecompulsive-disorder-and-depression-a-bayesian-network-approach/DAA4E2352A9E26809A4EAE35C366E900)"
      ],
      "metadata": {
        "id": "idTwx4dsnbHb"
      }
    }
  ]
}